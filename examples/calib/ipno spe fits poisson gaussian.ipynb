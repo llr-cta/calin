{
 "cells": [
  {
   "cell_type": "markdown",
   "metadata": {},
   "source": [
    "# Fit a simple poisson/gaussian model to IPNO test bench data\n",
    "\n",
    "calin/examples/calib/ipno spe fits poisson gaussian.ipynb - Stephen Fegan - 2017-04-21\n",
    "\n",
    "Copyright 2017, Stephen Fegan <sfegan@llr.in2p3.fr>\n",
    "LLR, Ecole polytechnique, CNRS/IN2P3, Universite Paris-Saclay\n",
    "\n",
    "This file is part of \"__calin__\". \"__calin__\" is free software: you can redistribute it \n",
    "and/or modify it under the terms of the GNU General Public License version 2 or later, \n",
    "as published by the Free Software Foundation. \"__calin__\" is distributed in the hope \n",
    "that it will be useful, but WITHOUT ANY WARRANTY; without even the implied warranty \n",
    "of MERCHANTABILITY or FITNESS FOR A PARTICULAR PURPOSE.  See the GNU General Public \n",
    "License for more details.\n",
    "\n",
    "## Introduction\n",
    "\n",
    "This notebook loads IPNO single photo-electron test-bench data and fits it using a Poisson/Gaussian model.\n",
    "\n",
    "First, import the required packages."
   ]
  },
  {
   "cell_type": "code",
   "execution_count": null,
   "metadata": {},
   "outputs": [],
   "source": [
    "%pylab inline\n",
    "import calin.diagnostics.functional\n",
    "import calin.io.sql_transceiver\n",
    "import calin.calib.spe_fit\n",
    "import calin.math.histogram\n",
    "import calin.math.optimizer\n",
    "import calin.math.pdf_1d\n",
    "import calin.iact_data.ipno\n",
    "import calin.plotting\n",
    "import calin.math.data_modeling"
   ]
  },
  {
   "cell_type": "markdown",
   "metadata": {},
   "source": [
    "## Load the IPNO SPE and pedestal data files as histograms\n",
    "\n",
    "Apply cuts on the minimum value to filter out ADC values of zero."
   ]
  },
  {
   "cell_type": "code",
   "execution_count": null,
   "metadata": {
    "collapsed": true
   },
   "outputs": [],
   "source": [
    "mes_hist = calin.iact_data.ipno.make_ipno_adc_hist('/CTA/IPNO/2017-04-06-B/SET_1/5_LEDs_8.5V.bin', value_min=10)\n",
    "ped_hist = calin.iact_data.ipno.make_ipno_adc_hist('/CTA/IPNO/2017-04-06-B/SET_1/pedestal_3.bin', value_min=10)"
   ]
  },
  {
   "cell_type": "markdown",
   "metadata": {},
   "source": [
    "## Plot the histograms on linear and logarithmic scales"
   ]
  },
  {
   "cell_type": "code",
   "execution_count": null,
   "metadata": {},
   "outputs": [],
   "source": [
    "calin.plotting.plot_histogram(mes_hist,label=\"SPE\")\n",
    "calin.plotting.plot_histogram(ped_hist,label=\"Ped\")\n",
    "legend()\n",
    "xlabel('Charge [ADC samples]')\n",
    "ylabel('Number of events')"
   ]
  },
  {
   "cell_type": "code",
   "execution_count": null,
   "metadata": {},
   "outputs": [],
   "source": [
    "calin.plotting.plot_histogram(mes_hist,label=\"SPE\")\n",
    "calin.plotting.plot_histogram(ped_hist,label=\"Ped\")\n",
    "legend()\n",
    "xlabel('Charge [ADC samples]')\n",
    "ylabel('Number of events')\n",
    "gca().set_yscale('log')"
   ]
  },
  {
   "cell_type": "markdown",
   "metadata": {},
   "source": [
    "## Set up the model and cost function\n",
    "\n",
    "There are four components:\n",
    "1. the model for the pedestal, a binned Gaussian with bin width derived from histogram\n",
    "2. the model of the single electron spectrum (SES), a binned Gaussian cut off at negative values, since the charge from the PMT cannot be negative\n",
    "3. model for the multi electron spectrum (MES) that combines the pedestal and SES models with a Poisson model for the number of PEs, calculating the resultant MES shape through convolutions.\n",
    "4. the cost function that computes the (negative of the) log likelihood of the measured MES and pedestal runs.\n",
    "\n",
    "The configuration of the MES model is somewhat tricky as the bounds of the FFT must be specified. Here the left bound of the FFT is taken to be the lowest bin from the MES and pedestal histopgrams. Thenumber of bins in th FFT is basically twice the number in the MES histogram adjusted for the left bound. This may be automatized in future versions."
   ]
  },
  {
   "cell_type": "code",
   "execution_count": null,
   "metadata": {
    "collapsed": true
   },
   "outputs": [],
   "source": [
    "ped_gauss_pdf = calin.math.pdf_1d.BinnedGaussianPDF(mes_hist.dxval())"
   ]
  },
  {
   "cell_type": "code",
   "execution_count": null,
   "metadata": {
    "collapsed": true
   },
   "outputs": [],
   "source": [
    "ses_g_pdf = calin.math.pdf_1d.LimitedGaussianPDF(0,numpy.inf,mes_hist.dxval())"
   ]
  },
  {
   "cell_type": "code",
   "execution_count": null,
   "metadata": {
    "collapsed": true
   },
   "outputs": [],
   "source": [
    "xleft = min(mes_hist.xval_left(0), ped_hist.xval_left(0))\n",
    "#xleft = mes_hist.xval_left(0)\n",
    "\n",
    "mes_model_g = calin.calib.spe_fit.GeneralPoissonMES(xleft, mes_hist.dxval(),\\\n",
    "        mes_hist.size()*2 + int((mes_hist.xval_left(0)-xleft)/mes_hist.dxval()), \\\n",
    "        ses_g_pdf, ped_gauss_pdf)"
   ]
  },
  {
   "cell_type": "code",
   "execution_count": null,
   "metadata": {
    "collapsed": true
   },
   "outputs": [],
   "source": [
    "# Uncomment first version to ONLY fit MES. Uncomment second version to fit both MES and Ped\n",
    "#like_g = calin.calib.spe_fit.SPELikelihood(mes_model_g, mes_hist)\n",
    "like_g = calin.calib.spe_fit.SPELikelihood(mes_model_g, mes_hist, ped_hist)"
   ]
  },
  {
   "cell_type": "markdown",
   "metadata": {},
   "source": [
    "## Print list of cost function axes with intrinsic limits"
   ]
  },
  {
   "cell_type": "code",
   "execution_count": null,
   "metadata": {},
   "outputs": [],
   "source": [
    "for iax, ax in enumerate(like_g.domain_axes()):\n",
    "    print('%-2d %-30s %-15.6g %-15.6g'%(iax,ax.name,ax.lo_bound,ax.hi_bound))"
   ]
  },
  {
   "cell_type": "markdown",
   "metadata": {},
   "source": [
    "## Create optimizer, define problem space and run optimization\n",
    "\n",
    "1. Choose optimizer akgorithm : LBFGS, which makes use of analytic gradient\n",
    "2. Set maximum verbosity which shows all evaluations of cost function\n",
    "3. Set initial point for each parameter\n",
    "4. Set low and high bounds on parameter space. Best results with smallest space!\n",
    "5. Run optimizer\n",
    "6. Print staus, coordinates of solution found and cost function there\n",
    "7. Calculate error matrix and print errors (from diagnonals of matrix)"
   ]
  },
  {
   "cell_type": "code",
   "execution_count": null,
   "metadata": {},
   "outputs": [],
   "source": [
    "opt_g = calin.math.optimizer.NLOptOptimizer(\"LD_LBFGS\", like_g)\n",
    "opt_g.set_verbosity_level(calin.math.optimizer.OptimizerVerbosityLevel_MAX);\n",
    "opt_g.set_abs_tolerance(0.0001);\n",
    "opt_g.set_initial_values([0.5, 30.0, 0.5,  8.0,  0.5]);\n",
    "opt_g.set_limits_lo([0.01,  20.0,  0.25,   4.0,  0.25])\n",
    "opt_g.set_limits_hi([3.0,   50.0,  2.00,  20.0,  5.0])\n",
    "status, xopt_g, fval_g = opt_g.minimize()\n",
    "print(status, xopt_g, fval_g)\n",
    "status, err_mat_g = opt_g.calc_error_matrix()\n",
    "xerr_g = sqrt(err_mat_g.diagonal())\n",
    "print(xerr_g)"
   ]
  },
  {
   "cell_type": "markdown",
   "metadata": {},
   "source": [
    "## Plot solution over the data"
   ]
  },
  {
   "cell_type": "code",
   "execution_count": null,
   "metadata": {},
   "outputs": [],
   "source": [
    "calin.plotting.plot_histogram(mes_hist)\n",
    "xlabel('Signal [DC]')\n",
    "ylabel('Events per %d DC bin'%mes_hist.dxval())\n",
    "\n",
    "ihist = range(0,mes_hist.nbin());\n",
    "xhist = mes_hist.all_xval_center()\n",
    "\n",
    "mes_model_g.set_parameter_values(xopt_g)\n",
    "ymodel_g = \\\n",
    "    list(map(lambda x: mes_hist.sum_w()*mes_hist.dxval()*mes_model_g.pdf_mes(x),xhist))\n",
    "plot(xhist,ymodel_g,lw=1.5, label='Gaussian')\n",
    "\n",
    "ax = gca()\n",
    "#ax.set_yscale('log')"
   ]
  },
  {
   "cell_type": "markdown",
   "metadata": {},
   "source": [
    "## Plot the Single electron spectrum"
   ]
  },
  {
   "cell_type": "code",
   "execution_count": null,
   "metadata": {},
   "outputs": [],
   "source": [
    "ses_x = arange(0,20,0.1);\n",
    "ses_y = fromiter(map(ses_g_pdf.value_1d, ses_x),dtype='float')\n",
    "plot(ses_x, ses_y)\n",
    "#axis([0,250,0,0.02])\n",
    "xlabel('Signal [ADC]')\n",
    "ylabel('Probability density [1/ADC]')\n",
    "#gcf().savefig('icrr_ses.pdf')"
   ]
  },
  {
   "cell_type": "markdown",
   "metadata": {},
   "source": [
    "## Calculate the PMT gain, resolution and ENF"
   ]
  },
  {
   "cell_type": "code",
   "execution_count": null,
   "metadata": {},
   "outputs": [],
   "source": [
    "qscale = 1\n",
    "gunits = \"ADC\"\n",
    "ses_norm = sum(ses_y*qscale)\n",
    "ses_mean = sum(ses_y*ses_x*qscale)/ses_norm\n",
    "ses_rms = sqrt(sum(ses_y*ses_x**2*qscale)/ses_norm - ses_mean**2)\n",
    "print(\"Norm, mean, RMS [1,%s,%s]: \"%(gunits,gunits),ses_norm, ses_mean, ses_rms)\n",
    "print(\"Gain [%s]: \"%gunits,ses_mean)\n",
    "print(\"Light intensity [PE/pulse]: \",xopt_g[0])\n",
    "print(\"Resolution: \",ses_rms/ses_mean)\n",
    "print(\"ENF: \",sqrt(1+(ses_rms/ses_mean)**2))"
   ]
  },
  {
   "cell_type": "markdown",
   "metadata": {},
   "source": [
    "## Use \"robust\" MLE cost function (experimental!)\n",
    "\n",
    "This section shows how deweighting points in the the tails of the model can improve the fit. It should be considered experimental. The basic approach is to modify the log(probability) for each bin that is summed in the likelihood using a function rho which is linear at low values becoming asymptotically constant. This is a cost function that comes under the umbrella of being an M-Estimate, an it effectively \"Winsorizes\" the data.\n",
    "\n",
    "More description is needed!"
   ]
  },
  {
   "cell_type": "code",
   "execution_count": null,
   "metadata": {
    "collapsed": true
   },
   "outputs": [],
   "source": [
    "rho = calin.math.data_modeling.ModifiedHyperbolicLikelihoodRhoFunction(7.0,2.0)\n",
    "#like_mest = calin.calib.spe_fit.SPERobust(mes_model_g, mes_hist, rho) # ped_hist, rho)\n",
    "like_mest = calin.calib.spe_fit.SPERobust(mes_model_g, mes_hist, ped_hist, rho)"
   ]
  },
  {
   "cell_type": "code",
   "execution_count": null,
   "metadata": {},
   "outputs": [],
   "source": [
    "opt_mest = calin.math.optimizer.NLOptOptimizer(\"LD_LBFGS\", like_mest)\n",
    "opt_mest.set_verbosity_level(calin.math.optimizer.OptimizerVerbosityLevel_MAX);\n",
    "opt_mest.set_abs_tolerance(0.0001);\n",
    "opt_mest.set_initial_values(xopt_g);\n",
    "opt_mest.set_limits_lo([0.5,  20.0,  0.5,    3.0,  0.5])\n",
    "opt_mest.set_limits_hi([3.0,  50.0,  2.0,   15.0,  3.0])\n",
    "status, xopt_mest, fval_mest = opt_mest.minimize()\n",
    "print(status, xopt_mest, fval_mest)\n",
    "status, err_mat_mest = opt_mest.calc_error_matrix()\n",
    "xerr_mest = sqrt(err_mat_mest.diagonal())\n",
    "print(xerr_mest)"
   ]
  },
  {
   "cell_type": "code",
   "execution_count": null,
   "metadata": {},
   "outputs": [],
   "source": [
    "calin.plotting.plot_histogram(mes_hist)\n",
    "xlabel('Signal [DC]')\n",
    "ylabel('Events per %d DC bin'%mes_hist.dxval())\n",
    "\n",
    "ihist = range(0,mes_hist.nbin());\n",
    "xhist = mes_hist.all_xval_center()\n",
    "\n",
    "mes_model_g.set_parameter_values(xopt_mest)\n",
    "ymodel_mest = \\\n",
    "    list(map(lambda x: mes_hist.sum_w()*mes_hist.dxval()*mes_model_g.pdf_mes(x),xhist))\n",
    "plot(xhist,ymodel_mest,lw=1.5, label='Gaussian')\n",
    "\n",
    "ax = gca()\n",
    "#ax.set_yscale('log')"
   ]
  },
  {
   "cell_type": "markdown",
   "metadata": {},
   "source": [
    "## Calculate the PMT gain, resolution and ENF"
   ]
  },
  {
   "cell_type": "code",
   "execution_count": null,
   "metadata": {},
   "outputs": [],
   "source": [
    "ses_x = arange(0,20,0.1);\n",
    "ses_y = fromiter(map(ses_g_pdf.value_1d, ses_x),dtype='float')\n",
    "\n",
    "qscale = 1\n",
    "gunits = \"ADC\"\n",
    "ses_norm = sum(ses_y*qscale)\n",
    "ses_mean = sum(ses_y*ses_x*qscale)/ses_norm\n",
    "ses_rms = sqrt(sum(ses_y*ses_x**2*qscale)/ses_norm - ses_mean**2)\n",
    "print(\"Norm, mean, RMS [1,%s,%s]: \"%(gunits,gunits),ses_norm, ses_mean, ses_rms)\n",
    "print(\"Gain [%s]: \"%gunits,ses_mean)\n",
    "print(\"Light intensity [PE/pulse]: \",xopt_g[0])\n",
    "print(\"Resolution: \",ses_rms/ses_mean)\n",
    "print(\"ENF: \",sqrt(1+(ses_rms/ses_mean)**2))"
   ]
  }
 ],
 "metadata": {
  "kernelspec": {
   "display_name": "Python 3",
   "language": "python",
   "name": "python3"
  },
  "language_info": {
   "codemirror_mode": {
    "name": "ipython",
    "version": 3
   },
   "file_extension": ".py",
   "mimetype": "text/x-python",
   "name": "python",
   "nbconvert_exporter": "python",
   "pygments_lexer": "ipython3",
   "version": "3.4.6"
  }
 },
 "nbformat": 4,
 "nbformat_minor": 1
}
