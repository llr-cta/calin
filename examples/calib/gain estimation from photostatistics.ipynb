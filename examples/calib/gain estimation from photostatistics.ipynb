{
 "cells": [
  {
   "cell_type": "markdown",
   "metadata": {},
   "source": [
    "# Gain estimation using photo-statistics method    \n",
    "\n",
    "calin/examples/calib/gain estimation from photostatistics.ipynb - Stephen Fegan - 2017-03-27\n",
    "\n",
    "Copyright 2017, Stephen Fegan <sfegan@llr.in2p3.fr>\n",
    "LLR, Ecole polytechnique, CNRS/IN2P3, Universite Paris-Saclay\n",
    "\n",
    "This file is part of \"__calin__\". \"__calin__\" is free software: you can redistribute it and/or modify it under the\n",
    "terms of the GNU General Public License version 2 or later, as published by\n",
    "the Free Software Foundation. \"__calin__\" is distributed in the hope that it will be useful, but WITHOUT ANY WARRANTY; without even the implied warranty of MERCHANTABILITY or FITNESS FOR A PARTICULAR PURPOSE.  See the GNU General Public License for more details.\n",
    "\n",
    "## Introduction\n",
    "\n",
    "This notebook demonstrates how to use the diagnostics results written by __compute\\_diagnostics.py__ to calculate the gain of the channels using the photo-statistics method. The calculation uses uses equation 30 of MST-CAM-TN-0060, which is appropriate when the intrinsic variance of the flasher is small, i.e. when Poisson fluctuations in the channels dominate. The intrinsic flasher variance is compensated for as described in the memo, however if the flasher resolution exceeds 3% other methods may give better results.\n",
    "\n",
    "## Get diagnostics results from SQL database\n",
    "\n",
    "Open the SQL diagnostics results previously written by __compute\\_diagnostics.py__ and load the results."
   ]
  },
  {
   "cell_type": "code",
   "execution_count": null,
   "metadata": {
    "collapsed": false
   },
   "outputs": [],
   "source": [
    "%pylab inline\n",
    "import calin.ix.scripts.compute_diagnostics\n",
    "import calin.io.sql_transceiver\n",
    "import calin.diagnostics.waveform\n",
    "import calin.diagnostics.functional\n",
    "import calin.plotting"
   ]
  },
  {
   "cell_type": "code",
   "execution_count": null,
   "metadata": {
    "collapsed": false
   },
   "outputs": [],
   "source": [
    "sql = calin.io.sql_transceiver.SQLite3Transceiver(\"/CTA/diagnostics.sqlite\",\n",
    "  calin.io.sql_transceiver.SQLite3Transceiver.READ_ONLY)\n",
    "diagnostics = calin.ix.scripts.compute_diagnostics.Results()\n",
    "sql.retrieve_by_oid(\"diagnostics_results\", 1, diagnostics)\n",
    "del sql"
   ]
  },
  {
   "cell_type": "code",
   "execution_count": null,
   "metadata": {
    "collapsed": true
   },
   "outputs": [],
   "source": [
    "cfg = diagnostics.run_config()\n",
    "clo = diagnostics.command_line_options()"
   ]
  },
  {
   "cell_type": "markdown",
   "metadata": {},
   "source": [
    "## Illustrate signal & background windows\n",
    "\n",
    "Draw the average trace over all channels and illustrate the signal and background windows. This is done as a sanity check."
   ]
  },
  {
   "cell_type": "code",
   "execution_count": null,
   "metadata": {
    "collapsed": true
   },
   "outputs": [],
   "source": [
    "wfs  = diagnostics.waveform_stats()\n",
    "wf_mean = zeros(cfg.num_samples())\n",
    "wf_var = zeros(cfg.num_samples())\n",
    "for ich in  range(0,wfs.high_gain_size()):\n",
    "    wf_mean += calin.diagnostics.waveform.WaveformStatsVisitor.waveform_mean(wfs.high_gain(ich))\n",
    "    wf_var += calin.diagnostics.waveform.WaveformStatsVisitor.waveform_var(wfs.high_gain(ich))\n",
    "wf_mean /= wfs.high_gain_size()\n",
    "wf_var /= wfs.high_gain_size()**2"
   ]
  },
  {
   "cell_type": "code",
   "execution_count": null,
   "metadata": {
    "collapsed": false
   },
   "outputs": [],
   "source": [
    "errorbar(frange(len(wf_mean),closed=False),wf_mean,sqrt(wf_var),fmt='k.-')\n",
    "a=axis()\n",
    "gca().add_patch(Rectangle((clo.sig_window_start(), a[2]), clo.window_size(), a[3]-a[2], facecolor='#ffeeee'))\n",
    "axvline(clo.sig_window_start(),color='r')\n",
    "axvline(clo.sig_window_start()+clo.window_size(),color='r')\n",
    "text(clo.sig_window_start()+clo.window_size()/2,a[2]*0.975+a[3]*0.025,'Signal',ha='center',va='bottom',color='r')\n",
    "gca().add_patch(Rectangle((clo.bkg_window_start(), a[2]), clo.window_size(), a[3]-a[2], facecolor='#eeeeff'))\n",
    "axvline(clo.bkg_window_start(),color='b')\n",
    "axvline(clo.bkg_window_start()+clo.window_size(),color='b')\n",
    "text(clo.bkg_window_start()+clo.window_size()/2,a[3]*0.975+a[2]*0.025,'Background',ha='center',va='top',color='b')\n",
    "xlabel('Sample number [ns]')\n",
    "ylabel('Average pulse amplitude [DC]')"
   ]
  },
  {
   "cell_type": "markdown",
   "metadata": {},
   "source": [
    "## Calculate the gain of the high-gain channel\n",
    "\n",
    "Extract the mean and variance of the signal and background regions and decompose them to calculate the common-mode component that can be attributed to the intrinsic variance of the flasher, and the component in each channel that is independent of this.\n",
    "\n",
    "Calculate the gain in each channel from this accounting for the excess-noise fraction of the PMT single-electron multiplier, which must be specified."
   ]
  },
  {
   "cell_type": "code",
   "execution_count": null,
   "metadata": {
    "collapsed": true
   },
   "outputs": [],
   "source": [
    "enf = 1.14"
   ]
  },
  {
   "cell_type": "code",
   "execution_count": null,
   "metadata": {
    "collapsed": true
   },
   "outputs": [],
   "source": [
    "smi=calin.diagnostics.functional.channel_mean(diagnostics.sig_stats().high_gain())\n",
    "bmi=calin.diagnostics.functional.channel_mean(diagnostics.bkg_stats().high_gain())\n",
    "svi=calin.diagnostics.functional.channel_var(diagnostics.sig_stats().high_gain())\n",
    "bvi=calin.diagnostics.functional.channel_var(diagnostics.bkg_stats().high_gain())"
   ]
  },
  {
   "cell_type": "code",
   "execution_count": null,
   "metadata": {
    "collapsed": true
   },
   "outputs": [],
   "source": [
    "svi_indep,sv_cm=calin.diagnostics.functional.decompose_channel_independent_and_common_var(\\\n",
    "        diagnostics.sig_stats().high_gain())"
   ]
  },
  {
   "cell_type": "code",
   "execution_count": null,
   "metadata": {
    "collapsed": true
   },
   "outputs": [],
   "source": [
    "g = (svi - bvi - sv_cm*((smi-bmi)/mean(smi-bmi))**2)/(smi-bmi)/enf"
   ]
  },
  {
   "cell_type": "markdown",
   "metadata": {},
   "source": [
    "## Print and display the results"
   ]
  },
  {
   "cell_type": "code",
   "execution_count": null,
   "metadata": {
    "collapsed": false
   },
   "outputs": [],
   "source": [
    "for i,l in enumerate([g[i:i + 7] for i in range(0, len(g), 7)]):\n",
    "    print(\"| Module %-2d\"%cfg.configured_module_id(i),'|',' | '.\\\n",
    "          join(map(lambda x: '%5.3f'%x, l)),'|')"
   ]
  },
  {
   "cell_type": "code",
   "execution_count": null,
   "metadata": {
    "collapsed": false
   },
   "outputs": [],
   "source": [
    "calin.plotting.plot_camera(g, cfg.camera_layout(), cfg.configured_channel_id_view())\n",
    "title('Gain in high-gain channels')"
   ]
  },
  {
   "cell_type": "markdown",
   "metadata": {},
   "source": [
    "## Calculate the gain of the low-gain channel\n",
    "\n",
    "This is mostly only for fun, or more accurately as a sanity check. A better way is probably to estimate the high-to-low gain ratio using the position of the mean signal in each channel and extrapolate from the absolute gain high-gain channels. This is effectively done at the very end."
   ]
  },
  {
   "cell_type": "code",
   "execution_count": null,
   "metadata": {
    "collapsed": false
   },
   "outputs": [],
   "source": [
    "lg_smi=calin.diagnostics.functional.channel_mean(diagnostics.sig_stats().low_gain())\n",
    "lg_bmi=calin.diagnostics.functional.channel_mean(diagnostics.bkg_stats().low_gain())\n",
    "lg_svi=calin.diagnostics.functional.channel_var(diagnostics.sig_stats().low_gain())\n",
    "lg_bvi=calin.diagnostics.functional.channel_var(diagnostics.bkg_stats().low_gain())"
   ]
  },
  {
   "cell_type": "code",
   "execution_count": null,
   "metadata": {
    "collapsed": true
   },
   "outputs": [],
   "source": [
    "lg_svi_indep,lg_sv_cm=calin.diagnostics.functional.decompose_channel_independent_and_common_var(\\\n",
    "        diagnostics.sig_stats().low_gain())"
   ]
  },
  {
   "cell_type": "code",
   "execution_count": null,
   "metadata": {
    "collapsed": true
   },
   "outputs": [],
   "source": [
    "lg_g = (lg_svi - lg_bvi - lg_sv_cm*((lg_smi-lg_bmi)/mean(lg_smi-lg_bmi))**2)/(lg_smi-lg_bmi)/enf"
   ]
  },
  {
   "cell_type": "code",
   "execution_count": null,
   "metadata": {
    "collapsed": false
   },
   "outputs": [],
   "source": [
    "for i,l in enumerate([lg_g[i:i + 7] for i in range(0, len(lg_g), 7)]):\n",
    "    print(\"| Module %-2d\"%cfg.configured_module_id(i),'|',' | '.\\\n",
    "          join(map(lambda x: '%5.3f'%x, l)),'|')"
   ]
  },
  {
   "cell_type": "code",
   "execution_count": null,
   "metadata": {
    "collapsed": false
   },
   "outputs": [],
   "source": [
    "calin.plotting.plot_camera(lg_g, cfg.camera_layout(), cfg.configured_channel_id_view())\n",
    "title('Gain in low-gain channels')"
   ]
  },
  {
   "cell_type": "markdown",
   "metadata": {},
   "source": [
    "## Calculate the high-to-low gain ratio\n",
    "\n",
    "- First, by dividing the absolute gains calculated above\n",
    "- Secondly, by dividing the means of the signal histograms"
   ]
  },
  {
   "cell_type": "code",
   "execution_count": null,
   "metadata": {
    "collapsed": false
   },
   "outputs": [],
   "source": [
    "g_ratio = g/lg_g\n",
    "for i,l in enumerate([g_ratio[i:i + 7] for i in range(0, len(g_ratio), 7)]):\n",
    "    print(\"| Module %-2d\"%cfg.configured_module_id(i),'|',' | '.\\\n",
    "          join(map(lambda x: '%5.3f'%x, l)),'|')"
   ]
  },
  {
   "cell_type": "code",
   "execution_count": null,
   "metadata": {
    "collapsed": false
   },
   "outputs": [],
   "source": [
    "rg_ratio = (smi-bmi)/(lg_smi-lg_bmi)\n",
    "for i,l in enumerate([rg_ratio[i:i + 7] for i in range(0, len(rg_ratio), 7)]):\n",
    "    print(\"| Module %-2d\"%cfg.configured_module_id(i),'|',' | '.\\\n",
    "          join(map(lambda x: '%5.3f'%x, l)),'|')"
   ]
  },
  {
   "cell_type": "code",
   "execution_count": null,
   "metadata": {
    "collapsed": false
   },
   "outputs": [],
   "source": [
    "plot(g_ratio, rg_ratio,'x')\n",
    "axis('square')\n",
    "xlabel('Absolute gain raio')\n",
    "ylabel('Relative gain raio')"
   ]
  }
 ],
 "metadata": {
  "kernelspec": {
   "display_name": "Python 3",
   "language": "python",
   "name": "python3"
  },
  "language_info": {
   "codemirror_mode": {
    "name": "ipython",
    "version": 3
   },
   "file_extension": ".py",
   "mimetype": "text/x-python",
   "name": "python",
   "nbconvert_exporter": "python",
   "pygments_lexer": "ipython3",
   "version": "3.4.5"
  }
 },
 "nbformat": 4,
 "nbformat_minor": 1
}
