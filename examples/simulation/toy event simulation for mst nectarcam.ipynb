{
 "cells": [
  {
   "cell_type": "markdown",
   "metadata": {},
   "source": [
    "# Toy event simulation for MST/NectarCAM\n",
    "\n",
    "calin/examples/simulation/toy event simulation for mst nectarcam.ipynb - Stephen Fegan - 2016-11-25\n",
    "\n",
    "Copyright 2016, Stephen Fegan <sfegan@llr.in2p3.fr>\n",
    "Laboratoire Leprince-Ringuet, CNRS/IN2P3, Ecole Polytechnique, Institut Polytechnique de Paris\n",
    "\n",
    "This file is part of \"__calin__\". \"__calin__\" is free software: you can redistribute it and/or modify it under the\n",
    "terms of the GNU General Public License version 2 or later, as published by\n",
    "the Free Software Foundation. \"__calin__\" is distributed in the hope that it will be useful, but WITHOUT ANY WARRANTY; without even the implied warranty of MERCHANTABILITY or FITNESS FOR A PARTICULAR PURPOSE.  See the GNU General Public License for more details."
   ]
  },
  {
   "cell_type": "markdown",
   "metadata": {},
   "source": [
    "## Introduction\n",
    "\n",
    "This notebook shows how use the __calin__ interface to Geant 4 to generate sample events in NectarCAM. This is not a \"true\" simulation, in that it doesn't contain any simulation of the electronics, trigger, digitization etc. Particles in the air shower are generated and tracked by Geant 4 and mean Cherenkov emission at the telescope is calculated by quadratic integration in predefined steps along the charged-particle tracks and in predefined angular steps in the Cherenkov cone at each step. The test rays are traced through the MST optics onto the focal plane. Poisson and PMT fluctations can be added subsequently if desired.\n",
    "\n",
    "The simulation contains the following elements:\n",
    "\n",
    "1. A single MST-like telescope at the altitude of the IAC observatory, 2.147km, pointed at the zenith\n",
    "2. Primary particles (gamma-rays, protons, electrons, or muons) injected at the top of the atmosphere at 100km\n",
    "3. Geant 4 simulation of air shower using a layered atmosphere, whose properties are read from a file (CTA Prod 3 atmospheric model number 36), and magnetic field at the IAC site, given by the World Magnetic Model\n",
    "4. Quadratic integration of the mean signal in the telescope through generation of test rays on the Cherenkov cone stepped evenly along the tracks of all charged particles in air shower, controlled by parmeters *dx=10cm* and *dphi=2deg*:\n",
    "   - Test rays are generated at points along tracks separated by at most:\n",
    "     - *50dx* for emission heights > 40m above the telescope [note tan(thetac) ~= 1/50] or \n",
    "     - *dx* for heights < 40m\n",
    "   - At each point test rays are generated along the Cherenkov cone with angular steps of at most:\n",
    "     - dphi\n",
    "     - dx / 2 pi D tan(theta_c), where D is distance from emission point to telescope\n",
    "5. Test rays are raytraced through MST assuming perfect, ideal mirror facets and shadowing by 3m x 3m square focus box\n",
    "6. Weighting of test rays by\n",
    "  - The Cherenkov emission formula (see equation 33.45, PDG 2016)\n",
    "  - Wavelength and height dependent absorption by atmosphere using MODTRAN optical depths (atm_trans_2147_1_10_0_0_2147.dat from Prod 3)\n",
    "  - Wavelength dependent effective detector efficiency combining:\n",
    "    - Hamamatsu QE curve (qe_R12992-100-05.dat from Prod 3)\n",
    "    - Mirror reflectivity (ref_AlSiO2HfO2.dat from Prod 3)\n",
    "    - Transmission through the PMMA window (Aclylite8_tra_v2013ref.dat from Prod 3)\n",
    "    - Arbitrary factor of 0.9 to account for shadowing (to be revised when shadowing is known)\n",
    "  - Light-cone efficiency vs photon entry angle (CTA-LST_lightguide_eff.dat from Prod 3)\n",
    "7. All PEs are summed (regardless of arrival time) to form image\n",
    "8. Poisson and PMT noise, and night-sky background can be optionally added to make more realistic images\n",
    "\n",
    "The following items (at least) are missing from the simulation:\n",
    "\n",
    "1. Frequency dependence of refractive index, and effects on Cherenkov yield and geometry\n",
    "2. Mie scattering and refraction of rays in atmosphere due to variable refractive index\n",
    "3. Angular dependence of mirror and PMMA response, and wavelength dependence of cones\n",
    "4. True \"night sky\" response, including the effct of NSB PEs that occur at the start/end of the integration window and after pulsing.\n",
    "5. Conditioning of the signal by the PMT and ampifier\n",
    "6. Trigger\n",
    "7. Digitization, including: conversion to DC, high/low gain & saturation of the samples at 4096 DC. This latter effect leads to non-linearity for large signals, and eventually to a complete saturation. Here, a checkbox can be selected to apply an ad-hoc saturation function in PEs: a linear response for small signals (<2000 PEs) rolling over to complete saturation at 4000 PEs.\n"
   ]
  },
  {
   "cell_type": "markdown",
   "metadata": {},
   "source": [
    "## 1. Import all required packages from __calin__ and ipwidgets"
   ]
  },
  {
   "cell_type": "code",
   "execution_count": null,
   "metadata": {
    "collapsed": false
   },
   "outputs": [],
   "source": [
    "%pylab inline\n",
    "import calin.math.hex_array\n",
    "import calin.provenance.system_info\n",
    "import calin.simulation.vs_optics\n",
    "import calin.simulation.geant4_shower_generator\n",
    "import calin.simulation.ray_processor\n",
    "import calin.simulation.tracker\n",
    "import calin.simulation.detector_efficiency\n",
    "import calin.simulation.atmosphere\n",
    "import calin.simulation.world_magnetic_model\n",
    "import calin.simulation.pmt\n",
    "from IPython.display import clear_output\n",
    "from ipywidgets.widgets import *"
   ]
  },
  {
   "cell_type": "markdown",
   "metadata": {},
   "source": [
    "## 2. Define telescope properties for ray tracer and construct array\n",
    "\n",
    "- Elevation : 2147m (all values are in centimeters)\n",
    "- One single telescope at (0,0,2147m)\n",
    "- Reflector radius : 1920cm\n",
    "- Facets : 120cm side-side, on hexagonal grid with spacing of 122cm between centers\n",
    "- Facet focal length : 1607cm\n",
    "- Aperture : 1230cm - 5 hexagonal rings of mirror facets with 7 facets missing\n",
    "- Alignment : image at infinity focused on plane at 1600m\n",
    "- Camera plane : offset for focusing of source at 10km (approx 1602.5cm)\n",
    "- Camera : 9 hexagonal rings of modules, each of 7 PMTs\n",
    "- Obsucration by camera box 300cm x 300cm x 150cm"
   ]
  },
  {
   "cell_type": "code",
   "execution_count": null,
   "metadata": {
    "collapsed": false
   },
   "outputs": [],
   "source": [
    "def dms(d,m,s):\n",
    "    # Note this function fails for \"negative\" d=0 (e.g. -00:30:00)\n",
    "    sign = 1\n",
    "    if(d<0):\n",
    "        sign = -1\n",
    "        d = abs(d)\n",
    "    return sign * (d + m/60.0 + s/3600.0)\n",
    "\n",
    "mst = calin.ix.simulation.vs_optics.IsotropicDCArrayParameters()\n",
    "mst.mutable_array_origin().set_latitude(dms(28, 45, 47.36))\n",
    "mst.mutable_array_origin().set_longitude(dms(-17, 53, 23.93))\n",
    "mst.mutable_array_origin().set_elevation(2147 * 100.0)\n",
    "scope = mst.mutable_prescribed_array_layout().add_scope_positions();\n",
    "scope.set_z(mst.array_origin().elevation())\n",
    "mst.mutable_reflector_frame().set_optic_axis_rotation(-90);\n",
    "dc = mst.mutable_reflector()\n",
    "dc.set_curvature_radius(1920)\n",
    "dc.set_aperture(1230)\n",
    "dc.set_facet_num_hex_rings(5)\n",
    "dc.mutable_psf_align().set_object_plane(inf) # 10 * 1e5);\n",
    "dc.set_alignment_image_plane(1600)\n",
    "dc.set_facet_spacing(122)\n",
    "dc.set_facet_size(120)\n",
    "dc.set_facet_focal_length(1607)\n",
    "dc.set_facet_focal_length_dispersion(1)\n",
    "dc.set_facet_spot_size_probability(0.8)\n",
    "dc.set_facet_spot_size(0.5 * 2.8) # Spot size of 28mm at 2F\n",
    "dc.set_facet_spot_size_dispersion(0.5 * 0.02)\n",
    "dc.set_facet_labeling_parity(True)\n",
    "dc.set_weathering_factor(1.0)\n",
    "for id in [1,62,67,72,77,82,87]: dc.add_facet_missing_list(id-1)\n",
    "mst.mutable_focal_plane().set_camera_diameter(235)\n",
    "mst.mutable_focal_plane().mutable_translation().set_y(1/(1.0/dc.alignment_image_plane()-1/(10 * 1e5)))\n",
    "mst.mutable_pixel().set_spacing(5)\n",
    "mst.mutable_pixel().set_cone_inner_diameter(5)\n",
    "mst.mutable_pixel().set_cone_survival_prob(1)\n",
    "mst.mutable_pixel().set_hex_module_size(1)\n",
    "mst.mutable_pixel().set_module_num_hex_rings(9)\n",
    "u1,v1 = calin.math.hex_array.cluster_hexid_to_center_uv(1,1)\n",
    "x1,y1 = calin.math.hex_array.uv_to_xy(u1,v1)\n",
    "rot = arctan2(-y1,x1)/pi*180 - 30\n",
    "mst.mutable_pixel().set_grid_rotation(rot)\n",
    "\n",
    "obs_camera_box = mst.add_obscurations()\n",
    "obs_camera_box.aligned_box().max_corner().set_x(150)\n",
    "obs_camera_box.aligned_box().max_corner().set_y(mst.focal_plane().translation().y()+150)\n",
    "obs_camera_box.aligned_box().max_corner().set_z(150)\n",
    "obs_camera_box.aligned_box().min_corner().set_x(-150)\n",
    "obs_camera_box.aligned_box().min_corner().set_y(mst.focal_plane().translation().y())\n",
    "obs_camera_box.aligned_box().min_corner().set_z(-150)\n",
    "obs_camera_box.aligned_box().set_incoming_only(True)\n",
    "\n",
    "rng = calin.math.rng.RNG()\n",
    "cta = calin.simulation.vs_optics.VSOArray()\n",
    "cta.generateFromArrayParameters(mst, rng)\n",
    "\n",
    "cta.pointTelescopesAzEl(0,90.0/180.0*pi);"
   ]
  },
  {
   "cell_type": "markdown",
   "metadata": {},
   "source": [
    "## 3. Construct detection efficiency curve, cone efficiency and atmosphere "
   ]
  },
  {
   "cell_type": "code",
   "execution_count": null,
   "metadata": {
    "collapsed": false
   },
   "outputs": [],
   "source": [
    "data_dir = calin.provenance.system_info.build_info().data_install_dir() + \"/simulation/\"\n",
    "det_eff = calin.simulation.detector_efficiency.DetectionEfficiency()\n",
    "det_eff.scaleEffFromFile(data_dir + 'qe_R12992-100-05.dat')\n",
    "det_eff.scaleEffFromFile(data_dir + 'ref_AlSiO2HfO2.dat')\n",
    "det_eff.scaleEffFromFile(data_dir + 'Aclylite8_tra_v2013ref.dat')\n",
    "det_eff.scaleEffByConst(0.9)\n",
    "\n",
    "cone_eff = calin.simulation.detector_efficiency.AngularEfficiency(data_dir + 'CTA-LST_lightguide_eff.dat')\n",
    "\n",
    "atm = calin.simulation.atmosphere.LayeredAtmosphere(data_dir + 'atmprof36.dat')\n",
    "\n",
    "atm_abs = calin.simulation.detector_efficiency.AtmosphericAbsorption(data_dir + 'atm_trans_2147_1_10_0_0_2147.dat')"
   ]
  },
  {
   "cell_type": "markdown",
   "metadata": {},
   "source": [
    "## 4. Use world magnetic model to calculate field vs height at IAC\n",
    "\n",
    "If you wish to have no magnetic field then uncomment the line \"bfield = None\""
   ]
  },
  {
   "cell_type": "code",
   "execution_count": null,
   "metadata": {
    "collapsed": false
   },
   "outputs": [],
   "source": [
    "wmm = calin.simulation.world_magnetic_model.WMM()\n",
    "bfield = wmm.field_vs_elevation(mst.array_origin().latitude(), mst.array_origin().longitude())\n",
    "#bfield = None"
   ]
  },
  {
   "cell_type": "markdown",
   "metadata": {},
   "source": [
    "## 5. Construct the hierarchy of actions to take for each track\n",
    "\n",
    "Geant 4 generates tracks and calls a \"visitor\" class to process each one. Here we use a hierarchy of nested \"visitors\", each calling down to the next one to perform the quadrature integration. We construct the hierarchy in reverse order. Going forward from Geant 4 the hierarchy is as follows:\n",
    "\n",
    "1. Main Geant 4 class to generate the tracks\n",
    "2. LengthLimitingTrackVisitor \"hi\" : active over whole atmosphere, this divides long tracks into segments of maximum length \"50dx\"\n",
    "3. LengthLimitingTrackVisitor \"lo\" : active only within 40m of the telescope, divides long tracks into segments of maximum length \"dx\"\n",
    "4. AirCherenkovParameterCalculatorTrackVisitor : calculate Cherenkov parameters for charged particle tracks (discard all others)\n",
    "5. IACTDetectorSphereCherenkovConeIntersectionFinder : calculates intersection of Cherenkov cone and series of spheres that encompass telescopes, discarding tracks that habe no intersection\n",
    "6. VSO_QuadratureIACTArrayIntegration : perform angular quadrature integration over Cherenkov cone, ray tracing test rays through telescope optics, discarding rays that don not hit camera\n",
    "7. SimpleImagePEProcessor : make simple image of all rays that hit camera, summing weight of each ray that impacts each channel.\n",
    "\n",
    "The integration is contolled by one parameter \"dx\" which defaults to 10cm, which means there will be on average more than ~100 test rays per square meter (i.e. per mirror facet) from an infinitely long track."
   ]
  },
  {
   "cell_type": "code",
   "execution_count": null,
   "metadata": {
    "collapsed": false
   },
   "outputs": [],
   "source": [
    "pe_imager = calin.simulation.ray_processor.SimpleImagePEProcessor(cta.numTelescopes(),cta.telescope(0).numPixels())"
   ]
  },
  {
   "cell_type": "code",
   "execution_count": null,
   "metadata": {
    "collapsed": true
   },
   "outputs": [],
   "source": [
    "dx = 10.0"
   ]
  },
  {
   "cell_type": "code",
   "execution_count": null,
   "metadata": {
    "collapsed": false
   },
   "outputs": [],
   "source": [
    "qcfg = calin.ix.simulation.tracker.QuadratureIACTArrayIntegrationConfig();\n",
    "qcfg.set_ray_spacing_linear(dx)\n",
    "qcfg.set_ray_spacing_angular(2)\n",
    "quad = calin.simulation.tracker.VSO_QuadratureIACTArrayIntegration(qcfg, cta, pe_imager)\n",
    "#quad.add_trace_visitor(diag)\n",
    "quad.set_detection_efficiencies(det_eff, atm_abs, cta.telescope(0).opticalAxis()[2], cone_eff)\n",
    "iact = calin.simulation.tracker.IACTDetectorSphereCherenkovConeIntersectionFinder(quad)\n",
    "act = calin.simulation.tracker.AirCherenkovParameterCalculatorTrackVisitor(iact, atm)"
   ]
  },
  {
   "cell_type": "code",
   "execution_count": null,
   "metadata": {
    "collapsed": false
   },
   "outputs": [],
   "source": [
    "limiter_lo = calin.simulation.tracker.LengthLimitingTrackVisitor(act, dx, \n",
    "    mst.array_origin().elevation() + 40*100)\n",
    "limiter_hi = calin.simulation.tracker.LengthLimitingTrackVisitor(limiter_lo, 50.0*dx)"
   ]
  },
  {
   "cell_type": "markdown",
   "metadata": {},
   "source": [
    "## 6. Track generators\n",
    "\n",
    "Two track generators are constructed, the primary one using Geant 4 to simulate the interaction of the primary and secondary particles in the atmosphere. A second generator \"StraightTrackGenerator\" generates purely straight line tracks using the primary (i.e. has no physics at all) and is used here ONLY to generate \"ballistic\" muon tracks that do not bend in the magnetic field or generate secondart particles."
   ]
  },
  {
   "cell_type": "code",
   "execution_count": null,
   "metadata": {
    "collapsed": false
   },
   "outputs": [],
   "source": [
    "generator = calin.simulation.geant4_shower_generator.\\\n",
    "    Geant4ShowerGenerator(limiter_hi, atm, 1000, mst.array_origin().elevation(), atm.top_of_atmosphere(), bfield,\n",
    "                          calin.simulation.geant4_shower_generator.VerbosityLevel_SUPRESSED_STDOUT);\n",
    "generator.set_minimum_energy_cut(20);"
   ]
  },
  {
   "cell_type": "code",
   "execution_count": null,
   "metadata": {
    "collapsed": false
   },
   "outputs": [],
   "source": [
    "ballistic_generator = calin.simulation.tracker.\\\n",
    "    StraightTrackGenerator(limiter_hi, mst.array_origin().elevation())"
   ]
  },
  {
   "cell_type": "markdown",
   "metadata": {},
   "source": [
    "## 7. PMT and Poisson noise generators\n",
    "\n"
   ]
  },
  {
   "cell_type": "code",
   "execution_count": null,
   "metadata": {
    "collapsed": false
   },
   "outputs": [],
   "source": [
    "pmt_cfg = calin.simulation.pmt.PMTSimPolya.cta_model_3()\n",
    "pmt_cfg.set_signal_in_pe(True)\n",
    "pmt = calin.simulation.pmt.PMTSimPolya(pmt_cfg,rng)\n",
    "pmt_gain = mean(pmt.rvs(1000000))\n",
    "noise_cfg = calin.ix.simulation.pmt.PoissonSignalSimConfig();\n",
    "noise_gen = calin.simulation.pmt.PoissonSignalSim(pmt, noise_cfg, rng)"
   ]
  },
  {
   "cell_type": "markdown",
   "metadata": {},
   "source": [
    "## 8. Function to run simulation and return image"
   ]
  },
  {
   "cell_type": "code",
   "execution_count": null,
   "metadata": {
    "collapsed": false,
    "scrolled": false
   },
   "outputs": [],
   "source": [
    "def gen_image(theta=0, phi=0, b=70, btheta=0, e=1000, pt='proton', threshold=20, nsb=4, noise=True):\n",
    "    theta *= pi/180\n",
    "    phi *= pi/180\n",
    "    btheta *= pi/180\n",
    "    b *= 100\n",
    "    e *= 1000\n",
    "    u = asarray([sin(theta)*cos(phi), sin(theta)*sin(phi), -cos(theta)])\n",
    "    x0 = asarray([b*cos(btheta),b*sin(btheta),mst.array_origin().elevation()])+u/u[2]*100*1e5\n",
    "    if(pt=='proton'):\n",
    "        pt = calin.simulation.tracker.ParticleType_PROTON\n",
    "    elif(pt=='gamma'):\n",
    "        pt = calin.simulation.tracker.ParticleType_GAMMA\n",
    "    elif(pt=='electron'):\n",
    "        pt = calin.simulation.tracker.ParticleType_ELECTRON\n",
    "    elif(pt=='muon'):\n",
    "        pt = calin.simulation.tracker.ParticleType_MUON\n",
    "    elif(pt=='muon (ballistic)'):\n",
    "        pt = calin.simulation.tracker.ParticleType_MUON\n",
    "        ballistic_generator.generate_showers(1, pt, e, x0, u)\n",
    "        return asarray(pe_imager.scope_image(0))\n",
    "    elif(pt=='nsb'):\n",
    "        return asarray(pe_imager.scope_image(0))*0\n",
    "    generator.generate_showers(1, pt, e, x0, u)\n",
    "    pix_data = asarray(pe_imager.scope_image(0))\n",
    "    return pix_data"
   ]
  },
  {
   "cell_type": "markdown",
   "metadata": {},
   "source": [
    "## 9. Clipping function based on hyperbola\n",
    "\n",
    "Hyperbola with asymptotes (y=x) and (y=C) with offset at x=0 removed and scaled to remove residual nonlinearity at x=0"
   ]
  },
  {
   "cell_type": "code",
   "execution_count": null,
   "metadata": {
    "collapsed": true
   },
   "outputs": [],
   "source": [
    "def gentle_clip(x, C=4000, D=1200):\n",
    "    # Hyperbola with offset and non-linearity cancelled\n",
    "    C = sqrt(C**2 - D**2) # C is interpreted as max value\n",
    "    return (x-sqrt((x-C)**2 + D**2)+sqrt(C**2 + D**2)) / (1+C/sqrt(C**2 + D**2))"
   ]
  },
  {
   "cell_type": "raw",
   "metadata": {
    "collapsed": false
   },
   "source": [
    "# Change the type of this cell to \"code\" to see plot of the clipping function\n",
    "x=frange(0,10000)\n",
    "subplot(121)\n",
    "plot(x,gentle_clip(x))\n",
    "subplot(122)\n",
    "plot(x,gentle_clip(x))\n",
    "axis([0,2000,0,2000])"
   ]
  },
  {
   "cell_type": "markdown",
   "metadata": {},
   "source": [
    "## 10. Plot image using matplotlib (using a PatchCollection)"
   ]
  },
  {
   "cell_type": "code",
   "execution_count": null,
   "metadata": {
    "collapsed": false
   },
   "outputs": [],
   "source": [
    "def plot_image(pix_data):\n",
    "    s = cta.telescope(0)\n",
    "#    figure(figsize=(10,8))\n",
    "    figure(figsize=(7,6))\n",
    "    pix = []\n",
    "    idx = []\n",
    "    for pix_id in range(len(pix_data)):\n",
    "#        if(pix_data[pix_id] == 0.0):\n",
    "#            continue\n",
    "        pix_hexid = s.pixel(pix_id).hexID()\n",
    "        vx,vy = calin.math.hex_array.hexid_to_vertexes_xy_trans(pix_hexid,\n",
    "            s.cosPixelRotation(), s.sinPixelRotation(), s.pixelSpacing()/s.focalPlanePosition()[1]/pi*180.0)\n",
    "        vv = zeros((len(vx),2))\n",
    "        vv[:,0] = vx\n",
    "        vv[:,1] = vy\n",
    "        pix.append(Polygon(vv,closed=True))\n",
    "        idx.append(pix_id)\n",
    "    pc = matplotlib.collections.PatchCollection(pix, cmap=matplotlib.cm.jet)\n",
    "    pc.set_array(asarray(pix_data)[idx])\n",
    "    pc.set_linewidths(0)\n",
    "    clo = 0\n",
    "    if(min(pix_data)<0):\n",
    "        clo = -5\n",
    "    pc.set_clim(clo,max(80,ceil(max(pix_data)/10)*10))\n",
    "    gca().add_collection(pc)\n",
    "    axis('square')\n",
    "    axis(4.5*asarray([-1,1,-1,1]))\n",
    "    xlabel('X coordinate [deg]')\n",
    "    ylabel('Y coordinate [deg]')\n",
    "    colorbar(pc)\n",
    "    grid(color='w')"
   ]
  },
  {
   "cell_type": "markdown",
   "metadata": {},
   "source": [
    "## 11. Put it all togerther : run the simulation, add noise and plot\n",
    "\n",
    "If the directory \"/CTA\" exists then the image is saved as \"/CTA/event.pdf\""
   ]
  },
  {
   "cell_type": "code",
   "execution_count": null,
   "metadata": {
    "collapsed": true
   },
   "outputs": [],
   "source": [
    "def run_sim(theta=0, phi=0, b=70, btheta=0, loge=3, pt='proton', threshold=20, nsb=4.0, noise=True, clip=True):\n",
    "    e = 10**loge\n",
    "    sim_image = gen_image(theta=theta,phi=phi,b=b,btheta=btheta,e=e,pt=pt,threshold=threshold,nsb=nsb,noise=noise)\n",
    "    im = sim_image\n",
    "    if(noise):\n",
    "        im += nsb\n",
    "        im = noise_gen.rvs(im)\n",
    "        im -= noise_gen.pedestal_mean()\n",
    "        im /= pmt_gain\n",
    "        im -= nsb\n",
    "    if(clip):\n",
    "        im = gentle_clip(im)\n",
    "    plot_image(im)\n",
    "    text(0.025,0.975,'Energy: %s$\\\\,$GeV\\nType: %s'%(\"{:,.1f}\".format(e),pt),\n",
    "         transform=gca().transAxes,va='top',ha='left')\n",
    "    text(0.025,0.025,'$\\\\vec{b}$ : %g$\\\\,$m, %g$^\\\\circ$\\n$\\\\hat{u}$ : %g$^\\\\circ$, %g$^\\\\circ$'%(b,btheta,theta,phi),\n",
    "         transform=gca().transAxes,va='bottom',ha='left')\n",
    "    text(0.975,0.975,'Size: %s$\\\\,$PE\\nN(>%g$\\\\,$PE): %g'%(\"{:,.1f}\".format(sum(im)), threshold, sum(im>threshold)),\n",
    "         transform=gca().transAxes,va='top',ha='right')\n",
    "    try:\n",
    "        gcf().savefig('/CTA/event.pdf')\n",
    "    except:\n",
    "        pass"
   ]
  },
  {
   "cell_type": "markdown",
   "metadata": {},
   "source": [
    "## 12. Set up widgets and connect them run simulation when button clicked\n",
    "\n",
    "User can change:\n",
    "\n",
    "1. Impact point on ground radially in two dimensions (distance and angle)\n",
    "2. Primary propagation direction in two radial dimensions (angular separation from optical axis and angle)\n",
    "3. Energy (log10) in GeV\n",
    "4. Event type\n",
    "   - \"gamma\", \"proton\", \"electron\", or \"muon\" : primary particle interacting in atmosphere, simulated with Geant 4 starting from 100km\n",
    "   - \"muon (ballistic)\" : a straight track with no physics interactions\n",
    "   - \"nsb\" : simple NSB event\n",
    "5. NSB level in average number of background PEs per channel per event\n",
    "6. Whether to add noise from photon Poisson fluctuations and PMT\n",
    "7. Whether to use the ad-hoc clipping/saturation function"
   ]
  },
  {
   "cell_type": "code",
   "execution_count": null,
   "metadata": {
    "collapsed": false
   },
   "outputs": [],
   "source": [
    "wb      = FloatSlider(min=0.0, max=200.0, step=0.5, value=80.0, description=\"Impact dist [m]\")\n",
    "wbtheta = FloatSlider(min=0.0, max=360.0, step=5.0, value=0.0, description=\"Impact ang [deg]\")\n",
    "wenergy = FloatSlider(min=1.0, max=5.0, step=0.0625, value=3, description=\"Log10 E/GeV\", readout_format='.3f',)\n",
    "\n",
    "wtheta  = FloatSlider(min=0.0,max=8.0,step=0.1,value=0.0, description=\"Theta [deg]\")\n",
    "wphi    = FloatSlider(min=0.0, max=360.0, step=5.0, value=0.0, description=\"Phi [deg]\")\n",
    "wtype   = Dropdown(options=['gamma', 'proton', 'electron', 'muon', 'muon (ballistic)', 'nsb'], \n",
    "                   value='gamma', description='Paricle type')\n",
    "\n",
    "wnsb    = FloatSlider(min=0.0, max=20.0, step=0.2, value=4.0, description=\"Mean NSB [PE]\")\n",
    "wnoise  = Checkbox(value=True, description='Ph & PMT noise')\n",
    "wclip  = Checkbox(value=True, description='Clipping')\n",
    "button  = Button(description=\"Run simulation\")\n",
    "\n",
    "wbox    = VBox([HBox([wb,wbtheta,wenergy]),HBox([wtheta,wphi,wtype]),\n",
    "                HBox([wnsb,wnoise,wclip,button])])\n",
    "display(wbox)\n",
    "\n",
    "def on_button_clicked(b):\n",
    "    clear_output()\n",
    "    run_sim(theta=wtheta.value, phi=wphi.value, b=wb.value, loge=wenergy.value, pt=wtype.value, \n",
    "            btheta=wbtheta.value, threshold=30, nsb=wnsb.value, noise=wnoise.value, clip=wclip.value)\n",
    "\n",
    "button.on_click(on_button_clicked)"
   ]
  }
 ],
 "metadata": {
  "kernelspec": {
   "display_name": "Python 3",
   "language": "python",
   "name": "python3"
  },
  "language_info": {
   "codemirror_mode": {
    "name": "ipython",
    "version": 3
   },
   "file_extension": ".py",
   "mimetype": "text/x-python",
   "name": "python",
   "nbconvert_exporter": "python",
   "pygments_lexer": "ipython3",
   "version": "3.4.5"
  }
 },
 "nbformat": 4,
 "nbformat_minor": 0
}
