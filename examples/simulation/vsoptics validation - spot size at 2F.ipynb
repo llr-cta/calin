{
 "cells": [
  {
   "cell_type": "markdown",
   "metadata": {},
   "source": [
    "# Raytracing of single spherical facet\n",
    "\n",
    "calin/examples/simulation/vsoptics validation - opst size at 2F.ipynb - Stephen Fegan - 2016-12-06\n",
    "\n",
    "Copyright 2013, 2016, Stephen Fegan <sfegan@llr.in2p3.fr>\n",
    "LLR, Ecole polytechnique, CNRS/IN2P3, Universite Paris-Saclay\n",
    "\n",
    "This file is part of \"__calin__\". \"__calin__\" is free software: you can redistribute it and/or modify it under the\n",
    "terms of the GNU General Public License version 2 or later, as published by\n",
    "the Free Software Foundation. \"__calin__\" is distributed in the hope that it will be useful, but WITHOUT ANY WARRANTY; without even the implied warranty of MERCHANTABILITY or FITNESS FOR A PARTICULAR PURPOSE.  See the GNU General Public License for more details.\n",
    "\n",
    "## Introduction\n",
    "\n",
    "This notebook tests the spot size from scattering from a single mirror facet by measuring the PSF at 2F."
   ]
  },
  {
   "cell_type": "code",
   "execution_count": null,
   "metadata": {
    "collapsed": false
   },
   "outputs": [],
   "source": [
    "%pylab inline\n",
    "import calin.simulation.vs_optics\n",
    "import calin.math.vector3d_util"
   ]
  },
  {
   "cell_type": "code",
   "execution_count": null,
   "metadata": {
    "collapsed": false
   },
   "outputs": [],
   "source": [
    "F = 1600.0\n",
    "R = F * 2.0\n",
    "D = 120.0\n",
    "N = 1000000\n",
    "D80_2F = 2.8 # Mirror D80 = 28mm at 2F\n",
    "\n",
    "param = calin.ix.simulation.vs_optics.IsotropicDCArrayParameters()\n",
    "param.mutable_prescribed_array_layout().add_scope_positions();\n",
    "dc = param.mutable_reflector()\n",
    "dc.set_curvature_radius(R)\n",
    "dc.set_aperture(D)\n",
    "dc.set_facet_spacing(D)\n",
    "dc.set_facet_size(dc.facet_spacing())\n",
    "dc.set_facet_focal_length(R/2.0)\n",
    "dc.mutable_psf_align().set_object_plane(inf);\n",
    "dc.set_alignment_image_plane(F)\n",
    "dc.set_weathering_factor(1.0)\n",
    "dc.set_facet_spot_size_probability(0.8)\n",
    "dc.set_facet_spot_size(0.5 * D80_2F) # Set spot size equivalent to D80 at 2F (i.e. half that at 1F)\n",
    "param.mutable_focal_plane().mutable_translation().set_y(2*F)\n",
    "param.mutable_pixel().set_spacing(1)\n",
    "param.mutable_pixel().set_cone_inner_diameter(1)\n",
    "param.mutable_pixel().set_cone_survival_prob(1)\n",
    "\n",
    "rng = calin.math.rng.RNG()\n",
    "cta = calin.simulation.vs_optics.VSOArray()\n",
    "cta.generateFromArrayParameters(param, rng)\n",
    "scope = cta.telescope(0)\n",
    "    \n",
    "raytracer = calin.simulation.vs_optics.VSORayTracer(cta, rng)\n",
    "ph = calin.math.ray.Ray()\n",
    "info = calin.simulation.vs_optics.VSOTraceInfo()\n",
    "\n",
    "beam_dir = scope.opticalAxis()\n",
    "beam_dir *= -1.0\n",
    "beam_cen = asarray([0,0,0]) - beam_dir*R\n",
    "\n",
    "x = []\n",
    "y = []\n",
    "for i in range(0,N):\n",
    "    raytracer.fanBeam(ph, beam_cen, beam_dir, D/cos(30.0/180.*pi)/R*0.52, 300)\n",
    "    pixel = raytracer.trace(ph, info, scope)\n",
    "    if info.rayHitFocalPlane():\n",
    "        x.append(info.fplane_z)\n",
    "        y.append(info.fplane_x)\n",
    "x = array(x)\n",
    "y = array(y)\n"
   ]
  },
  {
   "cell_type": "code",
   "execution_count": null,
   "metadata": {
    "collapsed": false
   },
   "outputs": [],
   "source": [
    "print(\"Raytraced D80 at 2F: %.3f cm\"%(percentile(sqrt(x**2+y**2),80) * 2.0)) # Diameter D80"
   ]
  }
 ],
 "metadata": {
  "kernelspec": {
   "display_name": "Python 3",
   "language": "python",
   "name": "python3"
  },
  "language_info": {
   "codemirror_mode": {
    "name": "ipython",
    "version": 3
   },
   "file_extension": ".py",
   "mimetype": "text/x-python",
   "name": "python",
   "nbconvert_exporter": "python",
   "pygments_lexer": "ipython3",
   "version": "3.4.5"
  }
 },
 "nbformat": 4,
 "nbformat_minor": 1
}
