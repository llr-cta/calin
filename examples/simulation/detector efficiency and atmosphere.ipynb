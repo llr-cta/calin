{
 "cells": [
  {
   "cell_type": "markdown",
   "metadata": {},
   "source": [
    "# Detector efficiency, effective bandwidth and atmospheric transmission\n",
    "\n",
    "calin/examples/simulation/detector efficiency.ipynb - Stephen Fegan - 2016-11-10\n",
    "\n",
    "Copyright 2016, Stephen Fegan <sfegan@llr.in2p3.fr>\n",
    "LLR, CNRS, Ecole Polytechnique, Institut Polytechnique de Paris\n",
    "\n",
    "This file is part of \"__calin__\". \"__calin__\" is free software: you can redistribute it and/or modify it under the\n",
    "terms of the GNU General Public License version 2 or later, as published by\n",
    "the Free Software Foundation. \"__calin__\" is distributed in the hope that it will be useful, but WITHOUT ANY WARRANTY; without even the implied warranty of MERCHANTABILITY or FITNESS FOR A PARTICULAR PURPOSE.  See the GNU General Public License for more details.\n",
    "\n",
    "## Introduction\n",
    "\n",
    "Plot detector efficiency as function of photon energy and calculate bandwidth, with and without atmospheric absorption."
   ]
  },
  {
   "cell_type": "code",
   "execution_count": null,
   "metadata": {
    "collapsed": false
   },
   "outputs": [],
   "source": [
    "%pylab inline\n",
    "import calin.simulation.detector_efficiency\n",
    "import calin.simulation.atmosphere\n",
    "import calin.provenance.system_info"
   ]
  },
  {
   "cell_type": "markdown",
   "metadata": {},
   "source": [
    "## 1 - Get location of calin simulation data files"
   ]
  },
  {
   "cell_type": "code",
   "execution_count": null,
   "metadata": {
    "collapsed": false
   },
   "outputs": [],
   "source": [
    "data_dir = calin.provenance.system_info.build_info().data_install_dir() + \"/simulation/\"\n",
    "print(\"Simulation data directory:\",data_dir)"
   ]
  },
  {
   "cell_type": "markdown",
   "metadata": {},
   "source": [
    "## 2 - Construct detector efficiency\n",
    "\n",
    "Combine multiple data files, for PMT quantum efficiency, mirror reflectivity, transmission in plexiglass. Files give efficiency vs wavelength in nm, which are transfomed automatically into curves of efficiency vs photon energy in eV."
   ]
  },
  {
   "cell_type": "code",
   "execution_count": null,
   "metadata": {
    "collapsed": true
   },
   "outputs": [],
   "source": [
    "det_eff = calin.simulation.detector_efficiency.DetectionEfficiency()\n",
    "det_eff.scaleEffFromFile(data_dir + 'qe_R12992-100-05.dat')\n",
    "det_eff.scaleEffFromFile(data_dir + 'ref_AlSiO2HfO2.dat')\n",
    "det_eff.scaleEffFromFile(data_dir + 'Aclylite8_tra_v2013ref.dat')"
   ]
  },
  {
   "cell_type": "markdown",
   "metadata": {},
   "source": [
    "## 3 - Load lightcone efficiency\n",
    "\n",
    "Input from file gives efficiency vs angle to cone entrance normal, which is then tranformed to efficiency vs cos(theta) internally."
   ]
  },
  {
   "cell_type": "code",
   "execution_count": null,
   "metadata": {
    "collapsed": true
   },
   "outputs": [],
   "source": [
    "cone_eff = calin.simulation.detector_efficiency.AngularEfficiency(data_dir + 'CTA-LST_lightguide_eff.dat')"
   ]
  },
  {
   "cell_type": "markdown",
   "metadata": {},
   "source": [
    "## 4 - Rescale effective detector and cone efficiencies\n",
    "\n",
    "Extract the maximum efficiency value for the cone and scale the effective detector efficiency by this value, resetting the cone efficiency to 1.0."
   ]
  },
  {
   "cell_type": "code",
   "execution_count": null,
   "metadata": {
    "collapsed": false
   },
   "outputs": [],
   "source": [
    "max_cone_eff = max(cone_eff.all_yi())\n",
    "det_eff.scaleEffByConst(max_cone_eff)\n",
    "cone_eff.scaleEffByConst(1.0/max_cone_eff)"
   ]
  },
  {
   "cell_type": "markdown",
   "metadata": {},
   "source": [
    "## 5 - Calculate bandwidth and plot efficiencies"
   ]
  },
  {
   "cell_type": "code",
   "execution_count": null,
   "metadata": {
    "collapsed": false
   },
   "outputs": [],
   "source": [
    "print(\"Low energy limit:    %.3f eV\"%det_eff.xmin())\n",
    "print(\"High energy limit:   %.3f eV\"%det_eff.xmax())\n",
    "print(\"Effective bandwidth: %.3f eV\"%det_eff.integrate())"
   ]
  },
  {
   "cell_type": "code",
   "execution_count": null,
   "metadata": {
    "collapsed": false
   },
   "outputs": [],
   "source": [
    "x_eff = frange(det_eff.xmin(),det_eff.xmax(),npts=100,closed=True)\n",
    "y_eff = asarray(list(map(lambda xx: det_eff.y(xx),x_eff)))\n",
    "plot(x_eff,y_eff)\n",
    "xlabel('Photon energy [eV]')\n",
    "ylabel('Detection efficiency [1]')\n",
    "grid()"
   ]
  },
  {
   "cell_type": "code",
   "execution_count": null,
   "metadata": {
    "collapsed": false
   },
   "outputs": [],
   "source": [
    "x_cone = frange(cone_eff.xmin(),cone_eff.xmax(),npts=100,closed=True)\n",
    "y_cone = asarray(list(map(lambda xx: cone_eff.y(xx),x_cone)))\n",
    "plot(arccos(x_cone)/pi*180,y_cone)\n",
    "xlabel('Photon entry angle [deg]')\n",
    "ylabel('Normalized cone efficiency [1]')\n",
    "grid()\n",
    "a=list(axis())\n",
    "a[3]=1.02\n",
    "axis(a)"
   ]
  },
  {
   "cell_type": "markdown",
   "metadata": {},
   "source": [
    "## 6 - Load an atmospheric absorption model"
   ]
  },
  {
   "cell_type": "code",
   "execution_count": null,
   "metadata": {
    "collapsed": true
   },
   "outputs": [],
   "source": [
    "atm_abs = calin.simulation.detector_efficiency.AtmosphericAbsorption(data_dir + 'atm_trans_2147_1_10_0_0_2147.dat')"
   ]
  },
  {
   "cell_type": "markdown",
   "metadata": {},
   "source": [
    "## 7 - Plot transmission and effective Cherenkov \"ground\" spectrum"
   ]
  },
  {
   "cell_type": "code",
   "execution_count": null,
   "metadata": {
    "collapsed": false
   },
   "outputs": [],
   "source": [
    "h0 = 2.147\n",
    "tau0 = atm_abs.opticalDepthForAltitude(h0 * 1e5)\n",
    "figure(2)\n",
    "plot(x_eff,y_eff,'k--',label='Ground')#%g km'%(h0/1e3))\n",
    "for h in frange(3,15.0,2.0):\n",
    "    tau = atm_abs.opticalDepthForAltitude(h * 1e5) - tau0\n",
    "    y_abs = asarray(list(map(lambda xx: tau.y(xx),x_eff)))\n",
    "    figure(1)\n",
    "    plot(x_eff,exp(-y_abs),label='%g km'%h)\n",
    "    hold('on')\n",
    "    figure(2)\n",
    "    plot(x_eff,exp(-y_abs)*y_eff,label='%g km'%h)\n",
    "    hold('on')\n",
    "figure(1)    \n",
    "xlabel('Photon energy [eV]')\n",
    "ylabel('Transmission fraction')\n",
    "legend()\n",
    "figure(2)\n",
    "xlabel('Photon energy [eV]')\n",
    "ylabel('Transmisison and detection efficiency')\n",
    "legend()"
   ]
  },
  {
   "cell_type": "markdown",
   "metadata": {},
   "source": [
    "## 8 - Integrate the atmospheric transmission times the detector efficiency\n",
    "\n",
    "The function \"integrateBandwidth\" takes a:\n",
    "\n",
    "1. ground reference level,\n",
    "2. base zenith angle (or cosine thereof), and\n",
    "3. detector efficiency\n",
    "\n",
    "and integrates the total bandwidth for Cherenkov light emitted as a function of height. The object returned allows the bandwidth to be calculated as a function of height and of the true emission (zenith) angle. The height dependency is calculated by interpolation while the angular dependence is calculated from a Taylor expansion around the base value given, which gives good accuracy for a few (5-10) degrees, sufficient for the field of view of all CTA cameras."
   ]
  },
  {
   "cell_type": "code",
   "execution_count": null,
   "metadata": {
    "collapsed": true
   },
   "outputs": [],
   "source": [
    "zn0 = 35\n",
    "bandwidth_calc = atm_abs.integrateBandwidth(h0 * 1e5, cos(zn0/180.0*pi), det_eff)"
   ]
  },
  {
   "cell_type": "markdown",
   "metadata": {},
   "source": [
    "## 9 - Plot total effective bandwidth as function of height for three zenith angles"
   ]
  },
  {
   "cell_type": "code",
   "execution_count": null,
   "metadata": {
    "collapsed": false
   },
   "outputs": [],
   "source": [
    "x_bandwidth = frange(h0,20.0,0.01)\n",
    "y_bandwidth = asarray(list(map(lambda h: bandwidth_calc.bandwidth(h*1e5,cos(zn0/180.0*pi)), x_bandwidth)))\n",
    "zn1 = zn0+5\n",
    "y_bandwidth_1 = asarray(list(map(lambda h: bandwidth_calc.bandwidth(h*1e5,cos(zn1/180.0*pi)),  x_bandwidth)))\n",
    "zn2 = zn0-5\n",
    "y_bandwidth_2 = asarray(list(map(lambda h: bandwidth_calc.bandwidth(h*1e5,cos(zn2/180.0*pi)),  x_bandwidth)))\n",
    "plot(x_bandwidth, y_bandwidth_2, 'g', label='zn=$%g^\\circ$'%zn2)\n",
    "plot(x_bandwidth, y_bandwidth, 'b', label='zn=$%g^\\circ$'%zn0)\n",
    "plot(x_bandwidth, y_bandwidth_1, 'r', label='zn=$%g^\\circ$'%zn1)\n",
    "xlabel('Altitude of Cherenkov emission [km]')\n",
    "ylabel('Total effective bandwidth [eV]')\n",
    "legend()"
   ]
  },
  {
   "cell_type": "markdown",
   "metadata": {},
   "source": [
    "## 10 - Load atmospheric profile"
   ]
  },
  {
   "cell_type": "code",
   "execution_count": null,
   "metadata": {
    "collapsed": true
   },
   "outputs": [],
   "source": [
    "#atm = calin.simulation.atmosphere.LayeredAtmosphere.us76()\n",
    "atm = calin.simulation.atmosphere.LayeredAtmosphere(data_dir + 'atmprof36.dat')"
   ]
  },
  {
   "cell_type": "markdown",
   "metadata": {},
   "source": [
    "## 11 - Calculate and plot Cherenkov angle"
   ]
  },
  {
   "cell_type": "code",
   "execution_count": null,
   "metadata": {
    "collapsed": false
   },
   "outputs": [],
   "source": [
    "y_n = asarray(list(map(lambda h: 1.0+atm.n_minus_one(h*1e5), x_bandwidth)))\n",
    "plot(x_bandwidth,arccos(1.0/y_n)/pi*180.0)\n",
    "xlabel('Altitude [km]')\n",
    "ylabel('Cherenkov angle [deg]')"
   ]
  },
  {
   "cell_type": "markdown",
   "metadata": {},
   "source": [
    "## 12 - Calculate and plot propagation delay"
   ]
  },
  {
   "cell_type": "code",
   "execution_count": null,
   "metadata": {
    "collapsed": false
   },
   "outputs": [],
   "source": [
    "ct0 = atm.propagation_ct_correction(h0*1e5)\n",
    "y_prop_delay = asarray(list(map(lambda h: atm.propagation_ct_correction(h*1e5)-ct0, x_bandwidth)))\n",
    "plot(x_bandwidth,y_prop_delay/30) # c = 30 cm/ns\n",
    "xlabel('Altitude [km]')\n",
    "ylabel('Time delay [ns]')"
   ]
  }
 ],
 "metadata": {
  "kernelspec": {
   "display_name": "Python 3",
   "language": "python",
   "name": "python3"
  },
  "language_info": {
   "codemirror_mode": {
    "name": "ipython",
    "version": 3
   },
   "file_extension": ".py",
   "mimetype": "text/x-python",
   "name": "python",
   "nbconvert_exporter": "python",
   "pygments_lexer": "ipython3",
   "version": "3.4.5"
  }
 },
 "nbformat": 4,
 "nbformat_minor": 1
}
