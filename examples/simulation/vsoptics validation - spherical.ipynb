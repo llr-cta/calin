{
 "cells": [
  {
   "cell_type": "markdown",
   "metadata": {},
   "source": [
    "# Raytracing of single spherical facet\n",
    "\n",
    "calin/examples/simulation/vsoptics validation - spherical.ipynb - Stephen Fegan - 2013-07-06\n",
    "\n",
    "Copyright 2013, 2016, Stephen Fegan <sfegan@llr.in2p3.fr>\n",
    "Laboratoire Leprince-Ringuet, CNRS/IN2P3, Ecole Polytechnique, Institut Polytechnique de Paris\n",
    "\n",
    "This file is part of \"__calin__\". \"__calin__\" is free software: you can redistribute it and/or modify it under the\n",
    "terms of the GNU General Public License version 2 or later, as published by\n",
    "the Free Software Foundation. \"__calin__\" is distributed in the hope that it will be useful, but WITHOUT ANY WARRANTY; without even the implied warranty of MERCHANTABILITY or FITNESS FOR A PARTICULAR PURPOSE.  See the GNU General Public License for more details.\n",
    "\n",
    "## Introduction\n",
    "\n",
    "This notebook develops a semi-analytic ray tracing of a single spherical facet. The general approach is that of Vassiliev, Fegan & Brousseau (Astroparticle Physics, 28, 10, 2007; hereafter VFB), section 2. The incoming rays are traced to the focal plane and the moments of the light distribution calculated by integration. Unlike VFB, the  integration is done numerically rather than by expansions. \n",
    "\n",
    "The more general ray-tracing code, from which the majority of the results in this note have been derived, is validated against these results by running it with a single facet.\n",
    "\n",
    "**Update 2016-07-13:** update for inclusion in *calin*"
   ]
  },
  {
   "cell_type": "code",
   "execution_count": null,
   "metadata": {
    "collapsed": false
   },
   "outputs": [],
   "source": [
    "%pylab inline\n",
    "matplotlib.rcParams['figure.figsize'] = 9, 6\n",
    "from numpy import *\n",
    "import scipy.integrate"
   ]
  },
  {
   "cell_type": "markdown",
   "metadata": {},
   "source": [
    "## Development of semi-analytic method\n",
    "\n",
    "Following the methodology described in section 2 of Vassiliev, Fegan & Brousseau (Astroparticle Physics, 28, 10, 2007; hereafter VFB), we derive the tangential and sagittal PSF of a single spherical mirror facet with radius of curvature $R$ and diameter $D$ at an image plane at distance $F$. The surface is defined as:\n",
    "\n",
    "\\\\[ \\vec{r}(\\phi,\\theta) = R\\\\,\\left(\\begin{array}{c} \\sin\\theta\\cos\\phi \\\\\\\\ \\sin\\theta\\sin\\phi \\\\\\\\ 1-\\cos\\theta \\end{array}\\right\\) \\\\]\n",
    "\n",
    "where $\\theta\\in[0,\\sin^{-1}(D/2R)]$ and $\\phi\\in[0,2\\pi]$. \n",
    "\n",
    "The normal for each point on the facet is:\n",
    "\n",
    "\\\\[ \\vec{n}(\\phi,\\theta) = \\left(\\begin{array}{c} -\\sin\\theta\\cos\\phi \\\\\\\\ -\\sin\\theta\\sin\\phi \\\\\\\\ \\cos\\theta \\end{array}\\right) \\\\]\n",
    "\n",
    "As in VFB, we define the direction of an incoming ray from infinity as,\n",
    "\n",
    "\\\\[ \\vec{g} = \\left(\\begin{array}{c} \\sin\\delta \\\\\\\\ 0 \\\\\\\\ -\\cos\\delta \\end{array}\\right) \\\\]\n",
    "\n",
    "and the reflected ray therefore has direction,\n",
    "\n",
    "\\\\[ \\vec{s}(\\phi,\\theta) = \\vec{g} - 2\\left(\\vec{g}\\cdot\\vec{n}(\\phi,\\theta)\\right)\\\\,\\vec{n}(\\phi,\\theta) \\\\]\n",
    "\n",
    "The reflected ray crosses the focal plane at,\n",
    "\n",
    "\\\\[ \\vec{r}_{fp}(\\phi,\\theta) = F\\\\,\\left(\\begin{array}{c} x(\\phi,\\theta) \\\\\\\\ y(\\phi,\\theta) \\\\\\\\ 1 \\end{array}\\right) = \\vec{r}(\\phi,\\theta) + t \\vec{s}(\\phi,\\theta) \\\\]\n",
    "\n",
    "The z-component can be solved to give $t$, and hence $(x,y)$. \n",
    "\n",
    "The relevent moments of the light distribution on the focal plane, i.e. the mean and variances in the tangential (x) and sagittal (y) directions ($\\hat{x},\\hat{y},\\sigma^2_x,\\sigma^2_y$) can be calculate by integrating:\n",
    "\n",
    "\\\\[ \\mathcal{I}[f(\\phi,\\theta)] = \\int_0^{\\sin^{-1}(D/2R)} \\int_0^{2\\pi} f(\\phi,\\theta) \\left|\\vec{g}\\cdot\\vec{n}(\\phi,\\theta)\\right| R^2\\sin\\theta d\\theta d\\phi \\\\]\n",
    "\n",
    "where the term $\\left|\\vec{g}\\cdot\\vec{n}(\\phi,\\theta)\\right|$ accounts for inclination of the facet with respect to the beam.\n",
    "\n",
    "For example, the mean and variances in the tangential plane are:\n",
    "\n",
    "\\\\[ \\hat{x} = \\frac{\\mathcal{I}[x(\\phi,\\theta)]}{\\mathcal{I}[1]}\\ \\ \\textrm{and}\\ \\ \\sigma^2_x = \\frac{\\mathcal{I}[x^2(\\phi,\\theta)]}{\\mathcal{I}[1]} - \\hat{x}^2 \\\\]\n",
    "\n",
    "These integrals can be done by expansions (as in VFB) or numerically. Code to evaluate them numerically using the SciPy quadrature double integration routine is presented below."
   ]
  },
  {
   "cell_type": "code",
   "execution_count": null,
   "metadata": {
    "collapsed": false
   },
   "outputs": [],
   "source": [
    "def r(t,p,R,F): # Position on reflector of facet at theta,phi\n",
    "    return R*array([sin(t)*cos(p), sin(t)*sin(p), 1-cos(t)])\n",
    "\n",
    "def n(t,p,R,F): # Normal of facet at theta,phi\n",
    "    return array([-sin(t)*cos(p), -sin(t)*sin(p), cos(t)]);\n",
    "\n",
    "def s(t,p,g,R,F): # Direction of ray reflected from facet at theta,phi\n",
    "    _n = n(t,p,R,F)\n",
    "    # Note: return vector is not normlized\n",
    "    return g - 2*dot(g,_n)*_n   \n",
    "    \n",
    "def r_fp(t,p,g,R,F): # Position on focal plane of ray reflected from facet at theta,phi\n",
    "    _r = r(t,p,R,F)\n",
    "    _s = s(t,p,g,R,F)\n",
    "    tfp = (F-_r[2])/_s[2]\n",
    "    return (_r+tfp*_s)/F\n",
    "\n",
    "def integrate(fn,g,R,F,D,p0=0): # Integral of parallel beam over full reflector\n",
    "    integrand = lambda t,p: -(R**2)*sin(t)*fn(t,p)*dot(n(t,p,R,F),g)\n",
    "    gfun = lambda p: 0\n",
    "    hfun = lambda p: arcsin(D/cos(mod(p+p0,pi/3)-pi/6)/2.0/R)\n",
    "    return scipy.integrate.dblquad(integrand,0,2*pi,gfun,hfun)"
   ]
  },
  {
   "cell_type": "markdown",
   "metadata": {},
   "source": [
    "### Illustration of focal-plane images"
   ]
  },
  {
   "cell_type": "code",
   "execution_count": null,
   "metadata": {
    "collapsed": false
   },
   "outputs": [],
   "source": [
    "F = 1600.\n",
    "R = 1607. * 2.0\n",
    "D = 120."
   ]
  },
  {
   "cell_type": "code",
   "execution_count": null,
   "metadata": {
    "collapsed": false
   },
   "outputs": [],
   "source": [
    "d = 4.0/180.0*pi\n",
    "\n",
    "figure(1,figsize=[15,3])\n",
    "labset=False\n",
    "C = [ 'k','r','b' ]\n",
    "for d in arange(0,4.01,0.5)/180.0*pi:\n",
    "    g = array([sin(d), 0, -cos(d)])\n",
    "    for i in range(0,3):\n",
    "        Di = D*float(i+1)/3.0/2.0\n",
    "        t = Di/R\n",
    "        p = arange(0.0,360.1,1)/180.0*pi\n",
    "        rfp = list(map(lambda _p: r_fp(t,_p,g,R,F),p))\n",
    "        x = array(list(map(lambda _r: _r[0]/pi*180, rfp)))\n",
    "        y = array(list(map(lambda _r: _r[1]/pi*180, rfp)))\n",
    "        lab = \"_NOLABEL_\"\n",
    "        if labset==False:\n",
    "            lab = 'd=%.0fcm'%Di\n",
    "        plot(x,y,C[i],label=lab)\n",
    "    labset = True\n",
    "axis([-0.25, 4.75, -.5, .5]);\n",
    "xlabel('Tangential focal plane position [deg]')\n",
    "ylabel('Sagittal position [deg]')\n",
    "legend(loc=2);"
   ]
  },
  {
   "cell_type": "code",
   "execution_count": null,
   "metadata": {
    "collapsed": false
   },
   "outputs": [],
   "source": [
    "def calcPSF_SA(dv, R, F, D):\n",
    "    meanxv = []\n",
    "    meanyv = []\n",
    "    rmsxv = []\n",
    "    rmsyv = []\n",
    "\n",
    "    for d in dv:\n",
    "        v = array([sin(d), 0, -cos(d)])\n",
    "\n",
    "        int1  = integrate(lambda t,p: 1,v,R,F,D)\n",
    "        intx  = integrate(lambda t,p: r_fp(t,p,v,R,F)[0],v,R,F,D)\n",
    "        inty  = integrate(lambda t,p: r_fp(t,p,v,R,F)[1],v,R,F,D)\n",
    "        intxx = integrate(lambda t,p: r_fp(t,p,v,R,F)[0]**2,v,R,F,D)\n",
    "        intyy = integrate(lambda t,p: r_fp(t,p,v,R,F)[1]**2,v,R,F,D)\n",
    "\n",
    "        meanx = intx[0]/int1[0]\n",
    "        meany = inty[0]/int1[0]\n",
    "\n",
    "        varx = intxx[0]/int1[0] - meanx**2\n",
    "        vary = intyy[0]/int1[0] - meany**2\n",
    "\n",
    "        meanxv.append(meanx)\n",
    "        meanyv.append(meany)\n",
    "        rmsxv.append(sqrt(varx))\n",
    "        rmsyv.append(sqrt(vary))\n",
    "    \n",
    "    meanx = array(meanxv)\n",
    "    meany = array(meanyv)\n",
    "    rmsx = array(rmsxv)\n",
    "    rmsy = array(rmsyv)\n",
    "    \n",
    "    return meanx, meany, rmsx, rmsy"
   ]
  },
  {
   "cell_type": "code",
   "execution_count": null,
   "metadata": {
    "collapsed": false
   },
   "outputs": [],
   "source": [
    "dv = arange(0.0,20.01,0.25)/180.0*pi\n",
    "meanx_sa, meany_sa, rmsx_sa, rmsy_sa = calcPSF_SA(dv,R,F,D)"
   ]
  },
  {
   "cell_type": "code",
   "execution_count": null,
   "metadata": {
    "collapsed": false
   },
   "outputs": [],
   "source": [
    "import sys,os\n",
    "from calin.simulation.vs_optics import *\n",
    "import calin.math.vector3d_util\n",
    "from numpy import *"
   ]
  },
  {
   "cell_type": "code",
   "execution_count": null,
   "metadata": {
    "collapsed": false
   },
   "outputs": [],
   "source": [
    "def calcPSF_RT(dv, R, F, D, N=100000):\n",
    "    param = calin.ix.simulation.vs_optics.IsotropicDCArrayParameters()\n",
    "    param.mutable_prescribed_array_layout().add_scope_positions();\n",
    "    dc = param.mutable_reflector()\n",
    "    dc.set_curvature_radius(R)\n",
    "    dc.set_aperture(D)\n",
    "    dc.set_facet_spacing(D)\n",
    "    dc.set_facet_size(dc.facet_spacing())\n",
    "    dc.set_facet_focal_length(R/2.0)\n",
    "    dc.mutable_psf_align().set_object_plane(inf);\n",
    "    dc.set_alignment_image_plane(F)\n",
    "    dc.set_weathering_factor(1.0)\n",
    "    dc.set_facet_spot_size_probability(0.8)\n",
    "    dc.set_facet_spot_size(0)\n",
    "    param.mutable_focal_plane().mutable_translation().set_y(F)\n",
    "    param.mutable_pixel().set_spacing(1)\n",
    "    param.mutable_pixel().set_cone_inner_diameter(1)\n",
    "    param.mutable_pixel().set_cone_survival_prob(1)\n",
    "\n",
    "    rng = calin.math.rng.RNG()\n",
    "    cta = calin.simulation.vs_optics.VSOArray()\n",
    "    cta.generateFromArrayParameters(param, rng)\n",
    "    scope = cta.telescope(0)\n",
    "    \n",
    "    print(scope.numMirrors(), scope.numPixels())\n",
    "    \n",
    "    PS = 1/scope.focalPlanePosition()[1]\n",
    "\n",
    "    raytracer = calin.simulation.vs_optics.VSORayTracer(cta, rng)\n",
    "    ph = calin.math.ray.Ray()\n",
    "    info = calin.simulation.vs_optics.VSOTraceInfo()\n",
    "\n",
    "    beam_dir = scope.opticalAxis()\n",
    "    beam_dir *= -1.0\n",
    "    beam_cen = asarray([0,0,0])\n",
    "\n",
    "    meanxv = []\n",
    "    meanyv = []\n",
    "    rmsxv = []\n",
    "    rmsyv = []\n",
    "    for d in dv:\n",
    "        beam_dir_offset = \\\n",
    "            calin.math.vector3d_util.rotate_angle_axis(beam_dir, d, asarray([1,0,0]));\n",
    "        x = []\n",
    "        y = []\n",
    "        for i in range(0,N):\n",
    "            raytracer.laserBeam(ph, beam_cen, beam_dir_offset, -1.0*scope.curvatureRadius(), D/cos(30.0/180.*pi)*0.52, 300)\n",
    "            pixel = raytracer.trace(ph, info, scope)\n",
    "            if info.rayHitFocalPlane():\n",
    "                x.append(info.fplane_z)\n",
    "                y.append(info.fplane_x)\n",
    "        x = array(x)*PS\n",
    "        y = array(y)*PS\n",
    "    \n",
    "        meanxv.append(mean(x))\n",
    "        meanxv.append(mean(y))\n",
    "        rmsxv.append(std(x))\n",
    "        rmsyv.append(std(y))\n",
    "\n",
    "    meanx = array(meanxv)\n",
    "    meany = array(meanyv)\n",
    "    rmsx  = array(rmsxv)\n",
    "    rmsy  = array(rmsyv)\n",
    "    \n",
    "    return meanx, meany, rmsx, rmsy"
   ]
  },
  {
   "cell_type": "code",
   "execution_count": null,
   "metadata": {
    "collapsed": false
   },
   "outputs": [],
   "source": [
    "dv2 = arange(0.0,20.01,1.0)/180.0*pi\n",
    "meanx_rt, meany_rt, rmsx_rt, rmsy_rt = calcPSF_RT(dv2,R,F,D,N=100000)"
   ]
  },
  {
   "cell_type": "code",
   "execution_count": null,
   "metadata": {
    "collapsed": false
   },
   "outputs": [],
   "source": [
    "figure(figsize=(6,4))\n",
    "plot(dv/pi*180,rmsx_sa/pi*180,'r-',label='Quadrature: tangential')\n",
    "plot(dv/pi*180,rmsy_sa/pi*180,'g-',label='Quadrature: sagittal')\n",
    "#plot(dv/pi*180,rmsx_sa_c/pi*180,'r-')\n",
    "#plot(dv/pi*180,rmsy_sa_c/pi*180,'g-')\n",
    "plot(dv2/pi*180,rmsx_rt/pi*180,'rx',label='Monte Carlo: tangential')\n",
    "plot(dv2/pi*180,rmsy_rt/pi*180,'gx',label='Monte Carlo: sagittal')\n",
    "xlabel('Off axis angle [deg]')\n",
    "ylabel('Image RMS [deg]')\n",
    "legend(loc=2)\n",
    "axis(array(axis())+array([-0.1, 0.1, 0, 0]))\n",
    "grid()\n",
    "#gcf().savefig('single_facet_rms.pdf',bbox_inches='tight')"
   ]
  },
  {
   "cell_type": "code",
   "execution_count": null,
   "metadata": {
    "collapsed": false
   },
   "outputs": [],
   "source": [
    "meanx_sa_x10, meany_sa_x10, rmsx_sa_x10, rmsy_sa_x10 = calcPSF_SA(dv,R,F,D*10.0)\n",
    "meanx_rt_x10, meany_rt_x10, rmsx_rt_x10, rmsy_rt_x10 = calcPSF_RT(dv2,R,F,D*10.0,N=100000)"
   ]
  },
  {
   "cell_type": "code",
   "execution_count": null,
   "metadata": {
    "collapsed": false
   },
   "outputs": [],
   "source": [
    "figure(figsize=(6,4))\n",
    "plot(dv/pi*180,rmsx_sa_x10/pi*180,'r-',label='Quadrature: tangential')\n",
    "plot(dv/pi*180,rmsy_sa_x10/pi*180,'g-',label='Quadrature: sagittal')\n",
    "#plot(dv/pi*180,rmsx_sa_c/pi*180,'r-')\n",
    "#plot(dv/pi*180,rmsy_sa_c/pi*180,'g-')\n",
    "plot(dv2/pi*180,rmsx_rt_x10/pi*180,'rx',label='Monte Carlo: tangential')\n",
    "plot(dv2/pi*180,rmsy_rt_x10/pi*180,'gx',label='Monte Carlo: sagittal')\n",
    "xlabel('Off axis angle [deg]')\n",
    "ylabel('Image RMS [deg]')\n",
    "legend(loc=2)\n",
    "axis(array(axis())+array([-0.1, 0.1, 0, 0]))\n",
    "grid()\n",
    "#gcf().savefig('single_facet_x10_rms.pdf',bbox_inches='tight')"
   ]
  },
  {
   "cell_type": "code",
   "execution_count": null,
   "metadata": {
    "collapsed": false
   },
   "outputs": [],
   "source": [
    "#numpy.savez('single_facet.npz',dv,meanx_sa,meany_sa,rmsx_sa,rmsy_sa,dv2,meanx_rt, meany_rt, rmsx_rt, rmsy_rt,meanx_sa_x10, meany_sa_x10, rmsx_sa_x10, rmsy_sa_x10,meanx_rt_x10, meany_rt_x10, rmsx_rt_x10, rmsy_rt_x10)"
   ]
  }
 ],
 "metadata": {
  "kernelspec": {
   "display_name": "Python 3",
   "language": "python",
   "name": "python3"
  },
  "language_info": {
   "codemirror_mode": {
    "name": "ipython",
    "version": 3
   },
   "file_extension": ".py",
   "mimetype": "text/x-python",
   "name": "python",
   "nbconvert_exporter": "python",
   "pygments_lexer": "ipython3",
   "version": "3.4.5"
  }
 },
 "nbformat": 4,
 "nbformat_minor": 0
}
