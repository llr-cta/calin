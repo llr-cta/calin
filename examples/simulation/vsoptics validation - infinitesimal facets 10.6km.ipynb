{
 "cells": [
  {
   "cell_type": "markdown",
   "metadata": {},
   "source": [
    "# Raytracing of modified DC telescopes with infinitesimal facets\n",
    "\n",
    "calin/examples/simulation/vsoptics validation - infinitesimal facets 10.6km.ipynb - Stephen Fegan - 2013-07-04\n",
    "\n",
    "Copyright 2013, 2016, Stephen Fegan <sfegan@llr.in2p3.fr>\n",
    "LLR, Ecole polytechnique, CNRS/IN2P3, Universite Paris-Saclay\n",
    "\n",
    "This file is part of \"__calin__\". \"__calin__\" is free software: you can redistribute it and/or modify it under the\n",
    "terms of the GNU General Public License version 2 or later, as published by\n",
    "the Free Software Foundation. \"__calin__\" is distributed in the hope that it will be useful, but WITHOUT ANY WARRANTY; without even the implied warranty of MERCHANTABILITY or FITNESS FOR A PARTICULAR PURPOSE.  See the GNU General Public License for more details.\n",
    "\n",
    "## Introduction\n",
    "\n",
    "This notebook develops a semi-analytic ray tracing of the modified Davies-Cotton telescope design under the approximation of infinitesimal facet size. The general approach is that of Vassiliev, Fegan & Brousseau (Astroparticle Physics, 28, 10, 2007; hereafter VFB), section 2. The incoming rays are traced to the focal plane and the moments of the light distribution calculated by integration. Unlike VFB, the  integration is done numerically rather than by expansions. \n",
    "\n",
    "The more general Monte Carlo ray-tracing code, from which the majority of the results in this note have been derived, is validated against these results by running it in with as small a facet size as practical (1cm).\n",
    "\n",
    "**Update 2016-07-13:** update for inclusion in *calin*"
   ]
  },
  {
   "cell_type": "code",
   "execution_count": null,
   "metadata": {
    "collapsed": false
   },
   "outputs": [],
   "source": [
    "%pylab inline\n",
    "matplotlib.rcParams['figure.figsize'] = 9, 6\n",
    "from numpy import *\n",
    "import scipy.integrate"
   ]
  },
  {
   "cell_type": "markdown",
   "metadata": {},
   "source": [
    "## Development of semi-analytic method\n",
    "\n",
    "Following the methodology described in section 2 of Vassiliev, Fegan & Brousseau (Astroparticle Physics, 28, 10, 2007; hereafter VFB), we derive the tangential and sagittal PSF of an idealized modified Davies-Cotton reflector, with infinitesimal facet size. The reflector is a sphere with radius of curvature $R$ and aperture $D$. The surface is defined as:\n",
    "\n",
    "\\\\[ \\vec{r}(\\phi,\\theta) = R\\\\,\\left(\\begin{array}{c} \\sin\\theta\\cos\\phi \\\\\\\\ \\sin\\theta\\sin\\phi \\\\\\\\ 1-\\cos\\theta \\end{array} \\right\\) \\\\]\n",
    "\n",
    "where $\\theta\\in[0,\\sin^{-1}(D/2R)]$ and $\\phi\\in[0,2\\pi]$. \n",
    "\n",
    "To focus parallel on-axis rays (from infinity) to a point at $\\vec{F}_0=(0,0,F)$ each facet must be aligned to a point on the z-axis the same distance from the focal point as is the facet,\n",
    "\n",
    "\\\\[ \\vec{A}(\\phi,\\theta)=\\left(\\begin{array}{c} 0 \\\\\\\\ 0 \\\\\\\\ F+|\\vec{r}(\\phi,\\theta)-\\vec{F}_0| \\end{array}\\right) = \\left(\\begin{array}{c} 0 \\\\\\\\ 0 \\\\\\\\ F+\\sqrt{4R(R-F)\\sin^2(\\theta/2)+F^2} \\end{array}\\right) \\\\]\n",
    "\n",
    "It can be seen that for the standard Davies-Cotton design (i.e. $R=F$), this simplifies to the usual value of $\\vec{A}_{DC}=(0,0,2F)$. For the modified Davies-Cotton design, however, the alignment point is different for each ring of facets at a given value of $\\theta$. When the facets are aligned, the normal for each facet is:\n",
    "\n",
    "\\\\[ \\vec{n}(\\phi,\\theta) = \\frac{\\vec{A}(\\phi,\\theta)-\\vec{r}(\\phi,\\theta)}{|\\vec{A}(\\phi,\\theta)-\\vec{r}(\\phi,\\theta)|} \\\\]\n",
    "\n",
    "We wish to image a source in a plane at distance $u$ from the central mirror, at the position,\n",
    "\n",
    "\\\\[ \\vec{u} = \\left(\\begin{array}{c} -u\\tan\\delta \\\\\\\\ 0 \\\\\\\\ -u \\end{array}\\right) \\\\]\n",
    "\n",
    "onto an image plane at distance $v$ from the central mirror, given by the standard mirror formula:\n",
    "\n",
    "\\\\[ \\frac{1}{v} = \\frac{1}{F} - \\frac{1}{u} \\\\]\n",
    "\n",
    "As in VFB, we define the direction of an incoming ray from infinity as,\n",
    "\n",
    "\\\\[ \\vec{g}(\\phi,\\theta) = \\frac{\\vec{r}(\\phi,\\theta)-\\vec{u}}{|\\vec{r}(\\phi,\\theta)-\\vec{u}|} \\\\]\n",
    "\n",
    "and the reflected ray therefore has direction,\n",
    "\n",
    "\\\\[ \\vec{s}(\\phi,\\theta) = \\vec{g} - 2\\left(\\vec{g}\\cdot\\vec{n}(\\phi,\\theta)\\right)\\\\,\\vec{n}(\\phi,\\theta) \\\\]\n",
    "\n",
    "The reflected ray crosses the focal plane at,\n",
    "\n",
    "\\\\[ \\vec{r}_{fp}(\\phi,\\theta) = v\\\\,\\left(\\begin{array}{c} x(\\phi,\\theta) \\\\\\\\ y(\\phi,\\theta) \\\\\\\\ 1 \\end{array}\\right) = \\vec{r}(\\phi,\\theta) + t \\vec{s}(\\phi,\\theta) \\\\]\n",
    "\n",
    "The z-component can be solved to give $t$, and hence $(x,y)$. \n",
    "\n",
    "The total time of flight of the photon (assuming vacuum propagation) is:\n",
    "\n",
    "\\\\[ T(\\phi,\\theta) = \\frac{|\\vec{r}(\\phi,\\theta) - \\vec{u}|\\\\,+\\\\, |\\vec{r}_{fp}(\\phi,\\theta)-\\vec{r}(\\phi,\\theta)|}{c} \\\\]\n",
    "\n",
    "The relevant moments of the light distribution on the image plane, i.e. the mean and variances in the tangential (x) and sagittal (y) directions ($\\hat{x},\\hat{y},\\sigma^2_x,\\sigma^2_y$), and the mean time of flight and its variance over the image plane ($\\hat{T},\\sigma^2_T$) can be calculate by integrating:\n",
    "\n",
    "\\\\[ \\mathcal{I}[f(\\phi,\\theta)] = R^2 \\int_0^{\\sin^{-1}(D/2R)} \\int_0^{2\\pi} f(\\phi,\\theta) \\left|\\vec{g}(\\phi,\\theta)\\cdot\\vec{n}(\\phi,\\theta)\\right| \\cos\\theta\\sin\\theta d\\theta d\\phi \\\\]\n",
    "\n",
    "where the term $\\left|\\vec{g}(\\phi,\\theta)\\cdot\\vec{n}(\\phi,\\theta)\\right|$ accounts for inclination of the facet with respect to the rays and the $\\cos\\theta$ term accounts for the fact that the facet spacing is not defined by the spherical area element, but rather its projection onto a plane parallel to the optical axis. **Note: VFB did not include the dot product factor (as did Bretz and Ribordy, Astroparticle Physics, 45, 44, 2013), as they both assume a 100% reflecting telescope, which cannot be realized in the MC simulation.**\n",
    "\n",
    "For example, the mean and variances in the tangential plane are:\n",
    "\n",
    "\\\\[ \\hat{x} = \\frac{\\mathcal{I}[x(\\phi,\\theta)]}{\\mathcal{I}[1]}\\ \\ \\textrm{and}\\ \\ \\sigma^2_x = \\frac{\\mathcal{I}[x^2(\\phi,\\theta)]}{\\mathcal{I}[1]} - \\hat{x}^2 \\\\]\n",
    "\n",
    "These integrals can be done by expansions (as in VFB) or numerically. Code to evaluate them numerically using the SciPy quadrature double integration routine is presented below."
   ]
  },
  {
   "cell_type": "code",
   "execution_count": null,
   "metadata": {
    "collapsed": false
   },
   "outputs": [],
   "source": [
    "# This code is not very efficient, it recalculates many quantities from many\n",
    "# different functions. It is easy to maintain though, and does not need to be\n",
    "# run very often.\n",
    "\n",
    "def r(t,p,R,F): # Position on reflector of facet at theta,phi\n",
    "    return R*array([sin(t)*cos(p), sin(t)*sin(p), 1-cos(t)])\n",
    "\n",
    "def A(t,p,R,F): # Alignment point for facet at theta,phi\n",
    "    return array([0,0,F+norm(r(t,p,R,F)-array([0,0,F]))])\n",
    "\n",
    "def n(t,p,R,F): # Normal of facet at theta,phi\n",
    "    _n = A(t,p,R,F)-r(t,p,R,F)\n",
    "    return _n/norm(_n)\n",
    "\n",
    "def g(t,p,U,R,F):\n",
    "    _g = r(t,p,R,F)-U\n",
    "    return _g/norm(_g)\n",
    "\n",
    "def s(t,p,U,R,F): # Direction of ray reflected from facet at theta,phi\n",
    "    _g = g(t,p,U,R,F)\n",
    "    _n = n(t,p,R,F)\n",
    "    return _g - 2*dot(_g,_n)*_n   \n",
    "    \n",
    "def r_im(t,p,U,R,F): # Position on image plane of ray reflected from facet at theta,phi\n",
    "    V = 1.0/(1.0/F-1.0/U[2])\n",
    "    _r = r(t,p,R,F)\n",
    "    _s = s(t,p,U,R,F)\n",
    "    tim = (V-_r[2])/_s[2]\n",
    "    return (_r+tim*_s)/V\n",
    "\n",
    "def integrate(fn,U,R,F,D): # Integral of parallel beam over full reflector\n",
    "    integrand = lambda t,p: -(R**2)*sin(t)*fn(t,p)*cos(t)*dot(n(t,p,R,F),g(t,p,U,R,F))\n",
    "    tmax = arcsin(D/2.0/R)\n",
    "    gfun = lambda p: 0\n",
    "    hfun = lambda p: tmax\n",
    "    return scipy.integrate.dblquad(integrand,0,2*pi,gfun,hfun)"
   ]
  },
  {
   "cell_type": "markdown",
   "metadata": {},
   "source": [
    "### Illustration of focal plane images\n",
    "\n",
    "To test the code we attempt to qualitatively reproduce the \"reentrant double (cometary) ring\" structures described by Lewes (Experimental Astronomy, 1, 213, 1990) using the parameters of the modified Davies-Cotton design of the MST. The plot below shows the focal plane image formed by the rays reflected from the ring of facets at 2m, 4m and 6m from the center of the reflector for incoming rays at angles between $0^\\circ$ and $4^\\circ$."
   ]
  },
  {
   "cell_type": "code",
   "execution_count": null,
   "metadata": {
    "collapsed": false
   },
   "outputs": [],
   "source": [
    "F = 1600.\n",
    "R = F*1.2\n",
    "D = 1200.\n",
    "Uz = 10.6 * 1e5"
   ]
  },
  {
   "cell_type": "code",
   "execution_count": null,
   "metadata": {
    "collapsed": false
   },
   "outputs": [],
   "source": [
    "d = 4.0/180.0*pi\n",
    "\n",
    "figure(1,figsize=[15,3])\n",
    "labset=False\n",
    "C = [ 'k','r','b' ]\n",
    "for d in arange(0,4.01,0.5)/180.0*pi:\n",
    "    U = array([-Uz*tan(d), 0, Uz])\n",
    "    for i in range(0,3):\n",
    "        Di = D*float(i+1)/3.0/2.0\n",
    "        t = Di/R\n",
    "        p = arange(0.0,360.1,1)/180.0*pi\n",
    "        rfp = list(map(lambda _p: r_im(t,_p,U,R,F),p))\n",
    "        x = array(list(map(lambda _r: _r[0]/pi*180, rfp)))\n",
    "        y = array(list(map(lambda _r: _r[1]/pi*180, rfp)))\n",
    "        lab = \"_NOLABEL_\"\n",
    "        if labset==False:\n",
    "            lab = 'd=%.0fcm'%Di\n",
    "        plot(x,y,C[i],label=lab)\n",
    "    labset = True\n",
    "axis([-0.25, 4.75, -.5, .5]);\n",
    "xlabel('Tangential focal plane position [deg]')\n",
    "ylabel('Sagittal position [deg]')\n",
    "legend(loc=2);\n",
    "#gcf().savefig('zfs_lewes_10k.pdf',bbox_inches='tight')"
   ]
  },
  {
   "cell_type": "markdown",
   "metadata": {},
   "source": [
    "## Image moments using semi-analytic method"
   ]
  },
  {
   "cell_type": "code",
   "execution_count": null,
   "metadata": {
    "collapsed": false
   },
   "outputs": [],
   "source": [
    "def tof(t,p,U,R,F):\n",
    "    V = 1.0/(1.0/F-1.0/U[2])\n",
    "    r_ref = r(t,p,R,F)\n",
    "    return (norm(r_ref-U)+norm(r_im(t,p,U,R,F)*V - r_ref))/2.9979246e+10\n",
    "\n",
    "def calcPSF_SA(dv, R, F, D, Uz):\n",
    "    meanxv = []\n",
    "    meanyv = []\n",
    "    meantv = []\n",
    "    rmsxv = []\n",
    "    rmsyv = []\n",
    "    rmstv = []\n",
    "    \n",
    "    for d in dv:\n",
    "        U = array([-Uz*tan(d), 0, Uz])\n",
    "        \n",
    "        int1  = integrate(lambda t,p: 1,U,R,F,D)\n",
    "        intx  = integrate(lambda t,p: r_im(t,p,U,R,F)[0],U,R,F,D)\n",
    "        inty  = integrate(lambda t,p: r_im(t,p,U,R,F)[1],U,R,F,D)\n",
    "        intxx = integrate(lambda t,p: r_im(t,p,U,R,F)[0]**2,U,R,F,D)\n",
    "        intyy = integrate(lambda t,p: r_im(t,p,U,R,F)[1]**2,U,R,F,D)\n",
    "        intt  = integrate(lambda t,p: tof(t,p,U,R,F),U,R,F,D)\n",
    "        inttt = integrate(lambda t,p: tof(t,p,U,R,F)**2,U,R,F,D)\n",
    "\n",
    "        meanx = intx[0]/int1[0]\n",
    "        meany = inty[0]/int1[0]\n",
    "        meant = intt[0]/int1[0]\n",
    "\n",
    "        varx = intxx[0]/int1[0] - meanx**2\n",
    "        vary = intyy[0]/int1[0] - meany**2\n",
    "        vart = inttt[0]/int1[0] - meant**2\n",
    "\n",
    "        meanxv.append(meanx)\n",
    "        meanyv.append(meany)\n",
    "        meantv.append(meant)\n",
    "        rmsxv.append(sqrt(varx))\n",
    "        rmsyv.append(sqrt(vary))\n",
    "        rmstv.append(sqrt(vart))\n",
    "    \n",
    "    meanx = array(meanxv)\n",
    "    meany = array(meanyv)\n",
    "    meant = array(meantv)\n",
    "    rmsx = array(rmsxv)\n",
    "    rmsy = array(rmsyv)\n",
    "    rmst = array(rmstv)\n",
    "    \n",
    "    return meanx, meany, rmsx, rmsy, meant, rmst"
   ]
  },
  {
   "cell_type": "code",
   "execution_count": null,
   "metadata": {
    "collapsed": false
   },
   "outputs": [],
   "source": [
    "dv = arange(0.0,10.01,0.1)/180.0*pi\n",
    "meanx_sa, meany_sa, rmsx_sa, rmsy_sa, meant_sa, rmst_sa = calcPSF_SA(dv,R,F,D,Uz)"
   ]
  },
  {
   "cell_type": "markdown",
   "metadata": {},
   "source": [
    "Fitting a linear function to the centroid position gives the plate-scale correction factor appropriate for this modified DC design:"
   ]
  },
  {
   "cell_type": "code",
   "execution_count": null,
   "metadata": {
    "collapsed": false
   },
   "outputs": [],
   "source": [
    "P=polyfit(dv,meanx_sa,1)\n",
    "print(\"Plate-scale factor: %.3f\"%P[0])"
   ]
  },
  {
   "cell_type": "markdown",
   "metadata": {},
   "source": [
    "## Image moments using Monte Carlo ray-tracing code\n",
    "\n",
    "The Monte Carlo ray-tracing code cannot simulate the zero-facet-size case exactly, instead a 1cm facet size is used, giving a telescope with 1.3 million facets."
   ]
  },
  {
   "cell_type": "code",
   "execution_count": null,
   "metadata": {
    "collapsed": false
   },
   "outputs": [],
   "source": [
    "import sys,os\n",
    "from calin.simulation.vs_optics import *\n",
    "from numpy import *"
   ]
  },
  {
   "cell_type": "code",
   "execution_count": null,
   "metadata": {
    "collapsed": false
   },
   "outputs": [],
   "source": [
    "def calcPSF_RT(dv, R, F, D, Uz, N=100000):\n",
    "    param = calin.ix.simulation.vs_optics.IsotropicDCArrayParameters()\n",
    "    param.mutable_prescribed_array_layout().add_scope_positions();\n",
    "    dc = param.mutable_reflector()\n",
    "    dc.set_curvature_radius(R)\n",
    "    dc.set_aperture(D)\n",
    "    dc.set_facet_spacing(1.0)\n",
    "    dc.set_facet_size(dc.facet_spacing())\n",
    "    dc.set_facet_focal_length(F)\n",
    "    dc.mutable_psf_align().set_object_plane(inf);\n",
    "    dc.set_alignment_image_plane(F)\n",
    "    dc.set_weathering_factor(1.0)\n",
    "    dc.set_facet_spot_size_probability(0.8)\n",
    "    dc.set_facet_spot_size(0)\n",
    "    param.mutable_focal_plane().mutable_translation().set_y(1.0/(1.0/F-1.0/Uz))\n",
    "    param.mutable_pixel().set_spacing(1)\n",
    "    param.mutable_pixel().set_cone_inner_diameter(1)\n",
    "    param.mutable_pixel().set_cone_survival_prob(1)\n",
    "\n",
    "    rng = calin.math.rng.RNG()\n",
    "    cta = calin.simulation.vs_optics.VSOArray()\n",
    "    cta.generateFromArrayParameters(param, rng)\n",
    "    scope = cta.telescope(0)\n",
    "    \n",
    "    print(scope.numMirrors(), scope.numPixels())\n",
    "    \n",
    "    PS = 1/scope.focalPlanePosition()[1]\n",
    "\n",
    "    raytracer = calin.simulation.vs_optics.VSORayTracer(cta, rng)\n",
    "    ph = calin.math.ray.Ray()\n",
    "    info = calin.simulation.vs_optics.VSOTraceInfo()\n",
    "\n",
    "    nhit = []\n",
    "    meanxv = []\n",
    "    meanyv = []\n",
    "    meantv = []\n",
    "    rmsxv = []\n",
    "    rmsyv = []\n",
    "    rmstv = []\n",
    "    for d in dv:\n",
    "        x = []\n",
    "        y = []\n",
    "        t = []\n",
    "        for i in range(0,N):\n",
    "            raytracer.testBeam(ph, scope, d, 0, Uz)\n",
    "            pixel = raytracer.trace(ph, info, scope)\n",
    "#            print(info.status)\n",
    "            if info.rayHitFocalPlane():\n",
    "                x.append(info.fplane_z)\n",
    "                y.append(info.fplane_x)\n",
    "                t.append(info.fplane_t)\n",
    "        x = array(x)*PS\n",
    "        y = array(y)*PS\n",
    "        nhit.append(len(x))\n",
    "        meanxv.append(mean(x))\n",
    "        meanyv.append(mean(y))\n",
    "        meantv.append(mean(t))\n",
    "        rmsxv.append(std(x))\n",
    "        rmsyv.append(std(y))\n",
    "        rmstv.append(std(t))\n",
    "\n",
    "    nhit  = array(nhit)\n",
    "    meanx = array(meanxv)\n",
    "    meany = array(meanyv)\n",
    "    meant = array(meantv)\n",
    "    rmsx  = array(rmsxv)\n",
    "    rmsy  = array(rmsyv)\n",
    "    rmst  = array(rmstv)\n",
    "    \n",
    "    return nhit, meanx, meany, rmsx, rmsy, meant, rmst"
   ]
  },
  {
   "cell_type": "code",
   "execution_count": null,
   "metadata": {
    "collapsed": false
   },
   "outputs": [],
   "source": [
    "dv2 = arange(0.0,10.01,0.5)/180.0*pi\n",
    "nhit_rt, meanx_rt, meany_rt, rmsx_rt, rmsy_rt, meant_rt, rmst_rt = calcPSF_RT(dv2,R,F,D,Uz,N=100000)"
   ]
  },
  {
   "cell_type": "markdown",
   "metadata": {},
   "source": [
    "## Comparison of results - PSF and time dispersion"
   ]
  },
  {
   "cell_type": "code",
   "execution_count": null,
   "metadata": {
    "collapsed": false
   },
   "outputs": [],
   "source": [
    "figure(figsize=(6,4))\n",
    "plot(dv/pi*180,rmsx_sa/pi*180,'r-',label='Quadrature: tangential')\n",
    "plot(dv/pi*180,rmsy_sa/pi*180,'g-',label='Quadrature: sagittal')\n",
    "plot(dv2/pi*180,rmsx_rt/pi*180,'rx',label='Monte Carlo: tangential')\n",
    "plot(dv2/pi*180,rmsy_rt/pi*180,'gx',label='Monte Carlo: sagittal')\n",
    "xlabel('Off axis angle [deg]')\n",
    "ylabel('Image RMS [deg]')\n",
    "legend(loc=2)\n",
    "axis(array(axis())+array([-0.1, 0.1, 0, 0]))\n",
    "grid()\n",
    "#gcf().savefig('zfs_rms_10k.pdf',bbox_inches='tight')"
   ]
  },
  {
   "cell_type": "code",
   "execution_count": null,
   "metadata": {
    "collapsed": false
   },
   "outputs": [],
   "source": [
    "figure(figsize=(6,4))\n",
    "plot(dv/pi*180,rmst_sa*1e9,'b-',label='Quadrature')\n",
    "#plot(dv2/pi*180,rmst_rt*1e9,'bx',label='Monte Carlo')\n",
    "errorbar(dv2/pi*180,rmst_rt*1e9,fmt='bx',yerr=rmst_rt*1e9/sqrt(2*nhit_rt),label='Monte Carlo')\n",
    "text(0.025,0.025,'Note: errors on RMS assume Gaussian distribution',transform=gca().transAxes)\n",
    "xlabel('Off axis angle [deg]')\n",
    "ylabel('Time dispersion RMS [ns]')\n",
    "legend(loc=1)\n",
    "a=array(axis())\n",
    "a[0] = -0.1\n",
    "a[1] = 10.1\n",
    "a[3] = 0.7501\n",
    "axis(a)\n",
    "grid()\n",
    "#gcf().savefig('zfs_tdisp_10k.pdf',bbox_inches='tight')"
   ]
  },
  {
   "cell_type": "markdown",
   "metadata": {},
   "source": [
    "## System with f=F/D=1600/2400=0.67\n",
    "\n",
    "A more challenging comparison can be made to a faster optical system, with double the aperture (i.e. $f=0.67$). Here the angles between the mirrors and the beam are much more pronounced and it might be expected that any differences between the codes would be more clearly visible. The MC simulation has 5.2 million 1cm facets."
   ]
  },
  {
   "cell_type": "code",
   "execution_count": null,
   "metadata": {
    "collapsed": false
   },
   "outputs": [],
   "source": [
    "meanx_sa_x2, meany_sa_x2, rmsx_sa_x2, rmsy_sa_x2, meant_sa_x2, rmst_sa_x2 = calcPSF_SA(dv,R,F,D*2.0,Uz)\n",
    "nhit_rt_x2, meanx_rt_x2, meany_rt_x2, rmsx_rt_x2, rmsy_rt_x2, meant_rt_x2, rmst_rt_x2 = calcPSF_RT(dv2,R,F,D*2.0,Uz,N=100000)"
   ]
  },
  {
   "cell_type": "code",
   "execution_count": null,
   "metadata": {
    "collapsed": false
   },
   "outputs": [],
   "source": [
    "figure(figsize=(6,4))\n",
    "plot(dv/pi*180,rmsx_sa_x2/pi*180,'r-',label='Quadrature: tangential')\n",
    "plot(dv/pi*180,rmsy_sa_x2/pi*180,'g-',label='Quadrature: sagittal')\n",
    "plot(dv2/pi*180,rmsx_rt_x2/pi*180,'rx',label='Monte Carlo: tangential')\n",
    "plot(dv2/pi*180,rmsy_rt_x2/pi*180,'gx',label='Monte Carlo: sagittal')\n",
    "xlabel('Off axis angle [deg]')\n",
    "ylabel('Image RMS [deg]')\n",
    "legend(loc=2)\n",
    "axis(array(axis())+array([-0.1, 0.1, 0, 0]))\n",
    "grid()\n",
    "#gcf().savefig('zfs_rms_D2400_10k.pdf',bbox_inches='tight')"
   ]
  },
  {
   "cell_type": "code",
   "execution_count": null,
   "metadata": {
    "collapsed": false
   },
   "outputs": [],
   "source": [
    "figure(figsize=(6,4))\n",
    "plot(dv/pi*180,rmst_sa_x2*1e9,'b-',label='Quadrature')\n",
    "#plot(dv2/pi*180,rmst_rt_x2*1e9,'bx',label='Monte Carlo')\n",
    "errorbar(dv2/pi*180,rmst_rt_x2*1e9,fmt='bx',yerr=rmst_rt_x2*1e9/sqrt(2*nhit_rt_x2),label='Monte Carlo')\n",
    "text(0.025,0.025,'Note: errors on RMS assume Gaussian distribution',transform=gca().transAxes)\n",
    "xlabel('Off axis angle [deg]')\n",
    "ylabel('Time dispersion RMS [ns]')\n",
    "legend(loc=1)\n",
    "a=array(axis())\n",
    "a[0] = -0.1\n",
    "a[1] = 10.1\n",
    "axis(a)\n",
    "grid()\n",
    "#gcf().savefig('zfs_tdisp_D2400_10k.pdf',bbox_inches='tight')"
   ]
  },
  {
   "cell_type": "code",
   "execution_count": null,
   "metadata": {
    "collapsed": false
   },
   "outputs": [],
   "source": [
    "#numpy.savez('zfs_10k.npz',dv, meanx_sa, meany_sa, rmsx_sa, rmsy_sa, meant_sa, rmst_sa,\n",
    "#    dv2, nhit_rt, meanx_rt, meany_rt, rmsx_rt, rmsy_rt, meant_rt, rmst_rt,\n",
    "#    meanx_sa_x2, meany_sa_x2, rmsx_sa_x2, rmsy_sa_x2, meant_sa_x2, rmst_sa_x2,\n",
    "#    nhit_rt_x2, meanx_rt_x2, meany_rt_x2, rmsx_rt_x2, rmsy_rt_x2, meant_rt_x2, rmst_rt_x2)"
   ]
  },
  {
   "cell_type": "markdown",
   "metadata": {},
   "source": [
    "## Conclusions\n",
    "\n",
    "The agreement between the semi-analytic and full code is very good over a wide range of off-axis angle, and serves to validate the full ray-tracing code, at least with respect to its handling of the overall reflector structure."
   ]
  }
 ],
 "metadata": {
  "kernelspec": {
   "display_name": "Python 3",
   "language": "python",
   "name": "python3"
  },
  "language_info": {
   "codemirror_mode": {
    "name": "ipython",
    "version": 3
   },
   "file_extension": ".py",
   "mimetype": "text/x-python",
   "name": "python",
   "nbconvert_exporter": "python",
   "pygments_lexer": "ipython3",
   "version": "3.4.5"
  }
 },
 "nbformat": 4,
 "nbformat_minor": 0
}
