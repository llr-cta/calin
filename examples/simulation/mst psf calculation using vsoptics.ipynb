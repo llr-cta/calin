{
 "cells": [
  {
   "cell_type": "code",
   "execution_count": null,
   "metadata": {
    "collapsed": false
   },
   "outputs": [],
   "source": [
    "%pylab inline\n",
    "import calin.math.geometry\n",
    "import calin.math.hex_array\n",
    "import calin.simulation.vs_optics\n",
    "import calin.simulation.ray_processor"
   ]
  },
  {
   "cell_type": "code",
   "execution_count": null,
   "metadata": {
    "collapsed": false
   },
   "outputs": [],
   "source": [
    "def dms(d,m,s):\n",
    "    # Note this function fails for \"negative\" d=0 (e.g. -00:30:00)\n",
    "    sign = 1\n",
    "    if(d<0):\n",
    "        sign = -1\n",
    "        d = abs(d)\n",
    "    return sign * (d + m/60.0 + s/3600.0)\n",
    "\n",
    "mst = calin.ix.simulation.vs_optics.IsotropicDCArrayParameters()\n",
    "mst.mutable_array_origin().set_latitude(dms(28, 45, 47.36))\n",
    "mst.mutable_array_origin().set_longitude(dms(-17, 53, 23.93))\n",
    "mst.mutable_array_origin().set_elevation(2147 * 100.0)\n",
    "scope = mst.mutable_prescribed_array_layout().add_scope_positions();\n",
    "scope.set_z(mst.array_origin().elevation())\n",
    "mst.mutable_reflector_frame().set_optic_axis_rotation(-90);\n",
    "dc = mst.mutable_reflector()\n",
    "dc.set_curvature_radius(1920)\n",
    "dc.set_aperture(1230)\n",
    "dc.set_facet_num_hex_rings(5)\n",
    "dc.mutable_psf_align().set_object_plane(inf) # 10 * 1e5);\n",
    "dc.set_alignment_image_plane(1600)\n",
    "dc.set_facet_spacing(122)\n",
    "dc.set_facet_size(120)\n",
    "dc.set_facet_focal_length(1607)\n",
    "dc.set_facet_focal_length_dispersion(1)\n",
    "dc.set_facet_spot_size_probability(0.8)\n",
    "dc.set_facet_spot_size(0.5 * 2.8) # Spot size of 28mm at 2F\n",
    "dc.set_facet_spot_size_dispersion(0.5 * 0.02)\n",
    "dc.set_facet_labeling_parity(True)\n",
    "dc.set_weathering_factor(1.0)\n",
    "for id in [1,62,67,72,77,82,87]: dc.add_facet_missing_list(id-1)\n",
    "mst.mutable_focal_plane().set_camera_diameter(235)\n",
    "mst.mutable_focal_plane().mutable_translation().set_y(1/(1.0/dc.alignment_image_plane()-1/(10 * 1e5)))\n",
    "mst.mutable_pixel().set_spacing(5)\n",
    "mst.mutable_pixel().set_cone_inner_diameter(5)\n",
    "mst.mutable_pixel().set_cone_survival_prob(1)\n",
    "mst.mutable_pixel().set_hex_module_size(1)\n",
    "mst.mutable_pixel().set_module_num_hex_rings(9)\n",
    "u1,v1 = calin.math.hex_array.cluster_hexid_to_center_uv(1,1)\n",
    "x1,y1 = calin.math.hex_array.uv_to_xy(u1,v1)\n",
    "rot = arctan2(-y1,x1)/pi*180 - 30\n",
    "mst.mutable_pixel().set_grid_rotation(rot)\n",
    "\n",
    "obs_camera_box = mst.add_obscurations()\n",
    "obs_camera_box.aligned_box().max_corner().set_x(150)\n",
    "obs_camera_box.aligned_box().max_corner().set_y(mst.focal_plane().translation().y()+150)\n",
    "obs_camera_box.aligned_box().max_corner().set_z(150)\n",
    "obs_camera_box.aligned_box().min_corner().set_x(-150)\n",
    "obs_camera_box.aligned_box().min_corner().set_y(mst.focal_plane().translation().y())\n",
    "obs_camera_box.aligned_box().min_corner().set_z(-150)\n",
    "obs_camera_box.aligned_box().set_incoming_only(True)\n",
    "\n",
    "rng = calin.math.rng.RNG()\n",
    "cta = calin.simulation.vs_optics.VSOArray()\n",
    "cta.generateFromArrayParameters(mst, rng)\n",
    "\n",
    "cta.pointTelescopesAzEl(0,90.0/180.0*pi);\n",
    "\n",
    "scope = cta.telescope(0)"
   ]
  },
  {
   "cell_type": "code",
   "execution_count": null,
   "metadata": {
    "collapsed": true
   },
   "outputs": [],
   "source": [
    "pe_imager = calin.simulation.ray_processor.TelescopePSFCalcPEProcessor()\n",
    "processor = calin.simulation.ray_processor.VSORayProcessor(cta, pe_imager, rng)"
   ]
  },
  {
   "cell_type": "code",
   "execution_count": null,
   "metadata": {
    "collapsed": false
   },
   "outputs": [],
   "source": [
    "dx = 1 # cm\n",
    "dtheta = 0.1 / 180*pi # rad\n",
    "\n",
    "fov_2 = 4.5 / 180.0*pi # rad\n",
    "R = scope.reflectorIP()/2.0\n",
    "\n",
    "x00 = scope.reflectorIPCenter()\n",
    "scope.reflectorToGlobal_pos(x00)\n",
    "\n",
    "all_theta = []\n",
    "mean_x = []\n",
    "mean_y = []\n",
    "psf_x = []\n",
    "psf_y = []\n",
    "\n",
    "for theta in frange(0,fov_2,dtheta):\n",
    "    pos_gen = calin.math.ray_generator.HexGridPlanePositionGenerator(R, dx)\n",
    "    dir_gen = calin.math.ray_generator.SingleDirectionGenerator()\n",
    "    ray_gen = calin.math.ray_generator.PositionNestedByDirectionRayGenerator(x00,\n",
    "        calin.math.geometry.rotation_theta_phi(pi-theta,0), asarray([0,0,-100e5]), dir_gen, pos_gen)\n",
    "    pe_imager.clear()\n",
    "    processor.process_all_from_ray_generator(ray_gen)\n",
    "    all_theta.append(theta/pi*180)\n",
    "    mean_x.append(pe_imager.mom().mean_x())\n",
    "    mean_y.append(pe_imager.mom().mean_y())\n",
    "    psf_x.append(sqrt(pe_imager.mom().var_x()))\n",
    "    psf_y.append(sqrt(pe_imager.mom().var_y()))"
   ]
  },
  {
   "cell_type": "code",
   "execution_count": null,
   "metadata": {
    "collapsed": false
   },
   "outputs": [],
   "source": [
    "plot(all_theta, asarray(psf_x)/scope.focalPlanePosition()[1]/pi*180, label='Tangential')\n",
    "hold('on')\n",
    "plot(all_theta, asarray(psf_y)/scope.focalPlanePosition()[1]/pi*180, label='Saggital')\n",
    "legend(loc=2)\n",
    "xlabel('Field angle [deg]')\n",
    "ylabel('PSF RMS [deg]')\n",
    "a=list(axis())\n",
    "a[2] = 0\n",
    "axis(a);"
   ]
  },
  {
   "cell_type": "code",
   "execution_count": null,
   "metadata": {
    "collapsed": false
   },
   "outputs": [],
   "source": [
    "plot(all_theta, asarray(mean_x)/scope.focalPlanePosition()[1]/pi*180, label='Tangential')\n",
    "hold('on')\n",
    "plot(all_theta, asarray(mean_y)/scope.focalPlanePosition()[1]/pi*180, label='Saggital')\n",
    "legend(loc=2)\n",
    "xlabel('Field angle [deg]')\n",
    "ylabel('Image centroid location [deg]')\n",
    "grid()\n",
    "a=list(axis())\n",
    "a[2] = 0\n",
    "axis(a);"
   ]
  }
 ],
 "metadata": {
  "kernelspec": {
   "display_name": "Python 3",
   "language": "python",
   "name": "python3"
  },
  "language_info": {
   "codemirror_mode": {
    "name": "ipython",
    "version": 3
   },
   "file_extension": ".py",
   "mimetype": "text/x-python",
   "name": "python",
   "nbconvert_exporter": "python",
   "pygments_lexer": "ipython3",
   "version": "3.4.5"
  }
 },
 "nbformat": 4,
 "nbformat_minor": 1
}
