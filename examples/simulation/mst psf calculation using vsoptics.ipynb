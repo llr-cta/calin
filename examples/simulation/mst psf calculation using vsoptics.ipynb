{
 "cells": [
  {
   "cell_type": "markdown",
   "metadata": {},
   "source": [
    "# Calculate point-spread function for MST\n",
    "\n",
    "calin/examples/simulation/mst psf calculation using vsoptics.ipynb - Stephen Fegan - 2017-01-25\n",
    "\n",
    "Copyright 2017, Stephen Fegan <sfegan@llr.in2p3.fr>\n",
    "LLR, Ecole polytechnique, CNRS/IN2P3, Universite Paris-Saclay\n",
    "\n",
    "This file is part of \"__calin__\". \"__calin__\" is free software: you can redistribute it and/or modify it under the terms of the GNU General Public License version 2 or later, as published by the Free Software Foundation. \"__calin__\" is distributed in the hope that it will be useful, but WITHOUT ANY WARRANTY; without even the implied warranty of MERCHANTABILITY or FITNESS FOR A PARTICULAR PURPOSE.  See the GNU General Public License for more details."
   ]
  },
  {
   "cell_type": "markdown",
   "metadata": {},
   "source": [
    "## 1. Import all required packages from __calin__ and ipwidgets"
   ]
  },
  {
   "cell_type": "code",
   "execution_count": null,
   "metadata": {
    "collapsed": false
   },
   "outputs": [],
   "source": [
    "%pylab inline\n",
    "import calin.math.geometry\n",
    "import calin.math.hex_array\n",
    "import calin.simulation.vs_optics\n",
    "import calin.simulation.ray_processor"
   ]
  },
  {
   "cell_type": "markdown",
   "metadata": {},
   "source": [
    "## 2. Define telescope properties for ray tracer and construct array\n",
    "\n",
    "- Elevation : 2147m (all values are in centimeters)\n",
    "- One single telescope at (0,0,2147m)\n",
    "- Reflector radius : 1920cm\n",
    "- Facets : 120cm side-side, on hexagonal grid with spacing of 122cm between centers\n",
    "- Facet focal length : 1607cm\n",
    "- Aperture : 1230cm - 5 hexagonal rings of mirror facets with 7 facets missing\n",
    "- Alignment : image at infinity focused on plane at 1600m\n",
    "- Camera plane : offset for focusing of source at 10km (approx 1602.5cm)\n",
    "- Camera : 9 hexagonal rings of modules, each of 7 PMTs\n",
    "- Obsucration by camera box 300cm x 300cm x 150cm"
   ]
  },
  {
   "cell_type": "code",
   "execution_count": null,
   "metadata": {
    "collapsed": false
   },
   "outputs": [],
   "source": [
    "def dms(d,m,s):\n",
    "    # Note this function fails for \"negative\" d=0 (e.g. -00:30:00)\n",
    "    sign = 1\n",
    "    if(d<0):\n",
    "        sign = -1\n",
    "        d = abs(d)\n",
    "    return sign * (d + m/60.0 + s/3600.0)\n",
    "\n",
    "mst = calin.ix.simulation.vs_optics.IsotropicDCArrayParameters()\n",
    "mst.mutable_array_origin().set_latitude(dms(28, 45, 47.36))\n",
    "mst.mutable_array_origin().set_longitude(dms(-17, 53, 23.93))\n",
    "mst.mutable_array_origin().set_elevation(2147 * 100.0)\n",
    "scope = mst.mutable_prescribed_array_layout().add_scope_positions();\n",
    "scope.set_z(mst.array_origin().elevation())\n",
    "mst.mutable_reflector_frame().set_optic_axis_rotation(-90);\n",
    "dc = mst.mutable_reflector()\n",
    "dc.set_curvature_radius(1920)\n",
    "dc.set_aperture(1230)\n",
    "dc.set_facet_num_hex_rings(5)\n",
    "dc.mutable_psf_align().set_object_plane(inf) # 10 * 1e5);\n",
    "dc.set_alignment_image_plane(1600)\n",
    "dc.set_facet_spacing(122)\n",
    "dc.set_facet_size(120)\n",
    "dc.set_facet_focal_length(1607)\n",
    "dc.set_facet_focal_length_dispersion(1)\n",
    "dc.set_facet_spot_size_probability(0.8)\n",
    "dc.set_facet_spot_size(0.5 * 2.8) # Spot size of 28mm at 2F\n",
    "dc.set_facet_spot_size_dispersion(0.5 * 0.02)\n",
    "dc.set_facet_labeling_parity(True)\n",
    "dc.set_weathering_factor(1.0)\n",
    "for id in [1,62,67,72,77,82,87]: dc.add_facet_missing_list(id-1)\n",
    "mst.mutable_focal_plane().set_camera_diameter(235)\n",
    "mst.mutable_focal_plane().mutable_translation().set_y(1/(1.0/dc.alignment_image_plane()-1/(10 * 1e5)))\n",
    "mst.mutable_pixel().set_spacing(5)\n",
    "mst.mutable_pixel().set_cone_inner_diameter(5)\n",
    "mst.mutable_pixel().set_cone_survival_prob(1)\n",
    "mst.mutable_pixel().set_hex_module_size(1)\n",
    "mst.mutable_pixel().set_module_num_hex_rings(9)\n",
    "u1,v1 = calin.math.hex_array.cluster_hexid_to_center_uv(1,1)\n",
    "x1,y1 = calin.math.hex_array.uv_to_xy(u1,v1)\n",
    "rot = arctan2(-y1,x1)/pi*180 - 30\n",
    "mst.mutable_pixel().set_grid_rotation(rot)\n",
    "\n",
    "obs_camera_box = mst.add_obscurations()\n",
    "obs_camera_box.aligned_box().max_corner().set_x(150)\n",
    "obs_camera_box.aligned_box().max_corner().set_y(mst.focal_plane().translation().y()+150)\n",
    "obs_camera_box.aligned_box().max_corner().set_z(150)\n",
    "obs_camera_box.aligned_box().min_corner().set_x(-150)\n",
    "obs_camera_box.aligned_box().min_corner().set_y(mst.focal_plane().translation().y())\n",
    "obs_camera_box.aligned_box().min_corner().set_z(-150)\n",
    "obs_camera_box.aligned_box().set_incoming_only(True)\n",
    "\n",
    "rng = calin.math.rng.RNG()\n",
    "cta = calin.simulation.vs_optics.VSOArray()\n",
    "cta.generateFromArrayParameters(mst, rng)\n",
    "\n",
    "cta.pointTelescopesAzEl(0,90.0/180.0*pi);\n",
    "\n",
    "scope = cta.telescope(0)"
   ]
  },
  {
   "cell_type": "markdown",
   "metadata": {},
   "source": [
    "## 3. Construct PE imager and ray procesor\n",
    "\n",
    "Here we use a PE imager that calculates the PSF. The ray processor takes rays and propagates them through the VSOptics package and delivers them to the imager."
   ]
  },
  {
   "cell_type": "code",
   "execution_count": null,
   "metadata": {
    "collapsed": true
   },
   "outputs": [],
   "source": [
    "pe_imager = calin.simulation.ray_processor.TelescopePSFCalcPEProcessor()\n",
    "processor = calin.simulation.ray_processor.VSORayProcessor(cta, pe_imager, rng)"
   ]
  },
  {
   "cell_type": "markdown",
   "metadata": {},
   "source": [
    "## 4. Construct ray generator for each off-axis angle and pass it to ray processor\n",
    "\n",
    "The ray generator uses a direction and position generator to generate rays, rotating and shifting the rays to the approprate direction to make a beam of parallel rays that are traced through the optical system.\n",
    "\n",
    "The positions are on a hexagonal grid with spacing od 1cm between rays out to the radius of the telescope impact sphere."
   ]
  },
  {
   "cell_type": "code",
   "execution_count": null,
   "metadata": {
    "collapsed": false
   },
   "outputs": [],
   "source": [
    "dx = 1 # cm\n",
    "dtheta = 0.1 / 180*pi # rad\n",
    "\n",
    "fov_2 = 4.5 / 180.0*pi # rad\n",
    "R = scope.reflectorIP()/2.0\n",
    "\n",
    "x00 = scope.reflectorIPCenter()\n",
    "scope.reflectorToGlobal_pos(x00)\n",
    "\n",
    "all_theta = []\n",
    "mean_x = []\n",
    "mean_y = []\n",
    "psf_x = []\n",
    "psf_y = []\n",
    "\n",
    "for theta in frange(0,fov_2,dtheta):\n",
    "    pos_gen = calin.math.ray_generator.HexGridPlanePositionGenerator(R, dx)\n",
    "    dir_gen = calin.math.ray_generator.SingleDirectionGenerator()\n",
    "    ray_gen = calin.math.ray_generator.PositionNestedByDirectionRayGenerator(x00,\n",
    "        calin.math.geometry.rotation_theta_phi(pi-theta,0), asarray([0,0,-100e5]), dir_gen, pos_gen)\n",
    "    pe_imager.clear()\n",
    "    processor.process_all_from_ray_generator(ray_gen)\n",
    "    all_theta.append(theta/pi*180)\n",
    "    mean_x.append(pe_imager.mom().mean_x())\n",
    "    mean_y.append(pe_imager.mom().mean_y())\n",
    "    psf_x.append(sqrt(pe_imager.mom().var_x()))\n",
    "    psf_y.append(sqrt(pe_imager.mom().var_y()))"
   ]
  },
  {
   "cell_type": "markdown",
   "metadata": {},
   "source": [
    "## 5. Plot the results \n",
    "\n",
    "The tangential and saigittal PSF and the mean centroid as a function of the field angle."
   ]
  },
  {
   "cell_type": "code",
   "execution_count": null,
   "metadata": {
    "collapsed": false
   },
   "outputs": [],
   "source": [
    "plot(all_theta, asarray(psf_x)/scope.focalPlanePosition()[1]/pi*180, label='Tangential')\n",
    "hold('on')\n",
    "plot(all_theta, asarray(psf_y)/scope.focalPlanePosition()[1]/pi*180, label='Sagittal')\n",
    "legend(loc=2)\n",
    "xlabel('Field angle [deg]')\n",
    "ylabel('PSF RMS [deg]')\n",
    "grid()\n",
    "a=list(axis())\n",
    "a[2] = 0\n",
    "axis(a);"
   ]
  },
  {
   "cell_type": "code",
   "execution_count": null,
   "metadata": {
    "collapsed": false
   },
   "outputs": [],
   "source": [
    "plot(all_theta, asarray(mean_x)/scope.focalPlanePosition()[1]/pi*180, label='Tangential')\n",
    "hold('on')\n",
    "plot(all_theta, asarray(mean_y)/scope.focalPlanePosition()[1]/pi*180, label='Sagittal')\n",
    "legend(loc=2)\n",
    "xlabel('Field angle [deg]')\n",
    "ylabel('Image centroid location [deg]')\n",
    "grid()\n",
    "a=list(axis())\n",
    "a[2] = 0\n",
    "axis(a);"
   ]
  }
 ],
 "metadata": {
  "kernelspec": {
   "display_name": "Python 3",
   "language": "python",
   "name": "python3"
  },
  "language_info": {
   "codemirror_mode": {
    "name": "ipython",
    "version": 3
   },
   "file_extension": ".py",
   "mimetype": "text/x-python",
   "name": "python",
   "nbconvert_exporter": "python",
   "pygments_lexer": "ipython3",
   "version": "3.4.5"
  }
 },
 "nbformat": 4,
 "nbformat_minor": 1
}
