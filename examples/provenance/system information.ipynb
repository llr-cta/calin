{
 "cells": [
  {
   "cell_type": "markdown",
   "metadata": {},
   "source": [
    "# System information\n",
    "\n",
    "calin/examples/provenence/system information.ipynb - Stephen Fegan - 2016-11-30\n",
    "\n",
    "Copyright 2016, Stephen Fegan <sfegan@llr.in2p3.fr>\n",
    "LLR, Ecole Polytechnique, CNRS/IN2P3\n",
    "\n",
    "This file is part of \"__calin__\". \"__calin__\" is free software: you can redistribute it and/or modify it under the\n",
    "terms of the GNU General Public License version 2 or later, as published by\n",
    "the Free Software Foundation. \"__calin__\" is distributed in the hope that it will be useful, but WITHOUT ANY WARRANTY; without even the implied warranty of MERCHANTABILITY or FITNESS FOR A PARTICULAR PURPOSE.  See the GNU General Public License for more details.\n",
    "\n",
    "## Introduction\n",
    "\n",
    "Get and print system information from calin provenance package"
   ]
  },
  {
   "cell_type": "code",
   "execution_count": null,
   "metadata": {
    "collapsed": false
   },
   "outputs": [],
   "source": [
    "%pylab inline\n",
    "import calin.provenance.system_info"
   ]
  },
  {
   "cell_type": "markdown",
   "metadata": {},
   "source": [
    "## Print build-system information"
   ]
  },
  {
   "cell_type": "code",
   "execution_count": null,
   "metadata": {
    "collapsed": false
   },
   "outputs": [],
   "source": [
    "build_info = calin.provenance.system_info.build_info()\n",
    "print(build_info.DebugString())"
   ]
  }
 ],
 "metadata": {
  "kernelspec": {
   "display_name": "Python 3",
   "language": "python",
   "name": "python3"
  },
  "language_info": {
   "codemirror_mode": {
    "name": "ipython",
    "version": 3
   },
   "file_extension": ".py",
   "mimetype": "text/x-python",
   "name": "python",
   "nbconvert_exporter": "python",
   "pygments_lexer": "ipython3",
   "version": "3.4.5"
  }
 },
 "nbformat": 4,
 "nbformat_minor": 1
}
