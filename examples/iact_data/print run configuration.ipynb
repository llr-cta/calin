{
 "cells": [
  {
   "cell_type": "code",
   "execution_count": null,
   "metadata": {
    "collapsed": false
   },
   "outputs": [],
   "source": [
    "%pylab inline\n",
    "import calin.iact_data.telescope_data_source"
   ]
  },
  {
   "cell_type": "code",
   "execution_count": null,
   "metadata": {
    "collapsed": false
   },
   "outputs": [],
   "source": [
    "dcfg = calin.iact_data.telescope_data_source.NectarCamZFITSDataSource.default_decoder_config()\n",
    "dcfg.set_demand_configured_module_id([1,2,5,6,10,11,14,15,17,18])\n",
    "src = calin.iact_data.telescope_data_source.NectarCamZFITSDataSource(\n",
    "    '/CTA/cta.cppm.in2p3.fr/NectarCAM/20161207/Run0268.1.fits.fz', dcfg)"
   ]
  },
  {
   "cell_type": "code",
   "execution_count": null,
   "metadata": {
    "collapsed": false
   },
   "outputs": [],
   "source": [
    "print(src.get_run_configuration().SerializeAsJSON())"
   ]
  }
 ],
 "metadata": {
  "kernelspec": {
   "display_name": "Python 3",
   "language": "python",
   "name": "python3"
  },
  "language_info": {
   "codemirror_mode": {
    "name": "ipython",
    "version": 3
   },
   "file_extension": ".py",
   "mimetype": "text/x-python",
   "name": "python",
   "nbconvert_exporter": "python",
   "pygments_lexer": "ipython3",
   "version": "3.4.5"
  }
 },
 "nbformat": 4,
 "nbformat_minor": 1
}
