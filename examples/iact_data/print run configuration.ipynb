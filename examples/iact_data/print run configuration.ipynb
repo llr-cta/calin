{
 "cells": [
  {
   "cell_type": "markdown",
   "metadata": {},
   "source": [
    "# Print run configuration object\n",
    "\n",
    "calin/examples/iact_data/print run configuration.ipynb - Stephen Fegan - 2016-12-12\n",
    "\n",
    "Copyright 2016, Stephen Fegan <sfegan@llr.in2p3.fr>\n",
    "Laboratoire Leprince-Ringuet, CNRS/IN2P3, Ecole Polytechnique, Institut Polytechnique de Paris\n",
    "\n",
    "This file is part of \"__calin__\". \"__calin__\" is free software: you can redistribute it and/or modify it under the\n",
    "terms of the GNU General Public License version 2 or later, as published by\n",
    "the Free Software Foundation. \"__calin__\" is distributed in the hope that it will be useful, but WITHOUT ANY WARRANTY; without even the implied warranty of MERCHANTABILITY or FITNESS FOR A PARTICULAR PURPOSE.  See the GNU General Public License for more details.\n",
    "\n",
    "## Introduction\n",
    "\n",
    "Open a ZFits file, retrieve run configuration, and print it as JSON."
   ]
  },
  {
   "cell_type": "code",
   "execution_count": null,
   "metadata": {
    "collapsed": false
   },
   "outputs": [],
   "source": [
    "%pylab inline\n",
    "import calin.iact_data.telescope_data_source"
   ]
  },
  {
   "cell_type": "code",
   "execution_count": null,
   "metadata": {
    "collapsed": false
   },
   "outputs": [],
   "source": [
    "dcfg = calin.iact_data.telescope_data_source.NectarCamZFITSDataSource.default_decoder_config()\n",
    "dcfg.set_demand_configured_module_id([1,2,5,6,10,11,14,15,17,18])\n",
    "src = calin.iact_data.telescope_data_source.NectarCamZFITSDataSource(\n",
    "    '/CTA/cta.cppm.in2p3.fr/NectarCAM/20161207/Run0268.1.fits.fz', dcfg)"
   ]
  },
  {
   "cell_type": "code",
   "execution_count": null,
   "metadata": {
    "collapsed": false
   },
   "outputs": [],
   "source": [
    "print(src.get_run_configuration().SerializeAsJSON())"
   ]
  }
 ],
 "metadata": {
  "kernelspec": {
   "display_name": "Python 3",
   "language": "python",
   "name": "python3"
  },
  "language_info": {
   "codemirror_mode": {
    "name": "ipython",
    "version": 3
   },
   "file_extension": ".py",
   "mimetype": "text/x-python",
   "name": "python",
   "nbconvert_exporter": "python",
   "pygments_lexer": "ipython3",
   "version": "3.4.5"
  }
 },
 "nbformat": 4,
 "nbformat_minor": 1
}
