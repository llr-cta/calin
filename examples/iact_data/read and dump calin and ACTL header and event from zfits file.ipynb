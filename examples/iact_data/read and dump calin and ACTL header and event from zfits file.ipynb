{
 "cells": [
  {
   "cell_type": "markdown",
   "metadata": {},
   "source": [
    "# Read and dump calin and ACTL header and event\n",
    "\n",
    "calin/examples/iact_data/read and dump calin and ACTL raw header and event from zfits file.ipynb - Stephen Fegan - 2017-03-09\n",
    "\n",
    "Copyright 2017, Stephen Fegan <sfegan@llr.in2p3.fr>\n",
    "LLR, Ecole polytechnique, CNRS/IN2P3, Universite Paris-Saclay\n",
    "\n",
    "This file is part of \"__calin__\". \"__calin__\" is free software: you can redistribute it and/or modify it under the\n",
    "terms of the GNU General Public License version 2 or later, as published by\n",
    "the Free Software Foundation. \"__calin__\" is distributed in the hope that it will be useful, but WITHOUT ANY WARRANTY; without even the implied warranty of MERCHANTABILITY or FITNESS FOR A PARTICULAR PURPOSE.  See the GNU General Public License for more details.\n",
    "\n",
    "## Introduction\n",
    "\n",
    "__calin__ provides some level of access to the raw ACTL header and event protobuf structures. In Python it is possible to retrieve the header and any desired event from ZFits but __calin__ does not provide simple access to the fields in the protobuf in the usual way. However the messages can be serialized to JSON and then accessed through the Python JSON packages if desired. This is only really intended for debugging.\n",
    "\n",
    "This example shows how both the __calin__ and __ACTL__ data structures can be retrieved at the same time."
   ]
  },
  {
   "cell_type": "code",
   "execution_count": null,
   "metadata": {
    "collapsed": false
   },
   "outputs": [],
   "source": [
    "%pylab inline\n",
    "import calin.iact_data.raw_actl_event_data_source\n",
    "import calin.iact_data.telescope_data_source\n",
    "import json\n",
    "import struct\n",
    "import base64"
   ]
  },
  {
   "cell_type": "markdown",
   "metadata": {},
   "source": [
    "## 1 - Create NectarCam data source\n",
    "\n",
    "The serialized raw data is included with the __calin__ data structure only if the __include_serialized_raw_data__ option is set in the decoder configuration, as shown below."
   ]
  },
  {
   "cell_type": "code",
   "execution_count": null,
   "metadata": {
    "collapsed": false
   },
   "outputs": [],
   "source": [
    "decoder_cfg = calin.iact_data.telescope_data_source.NectarCamZFITSDataSource.default_decoder_config()\n",
    "decoder_cfg.set_include_serialized_raw_data(True)\n",
    "src = calin.iact_data.telescope_data_source.NectarCamZFITSDataSource(\n",
    "    '/CTA/cta.cppm.in2p3.fr/NectarCAM/20161207/Run0268.1.fits.fz', decoder_cfg)"
   ]
  },
  {
   "cell_type": "markdown",
   "metadata": {},
   "source": [
    "## 2 - Read header and print JSON string"
   ]
  },
  {
   "cell_type": "code",
   "execution_count": null,
   "metadata": {
    "collapsed": false
   },
   "outputs": [],
   "source": [
    "calin_header = src.get_run_configuration()\n",
    "print(calin_header.SerializeAsJSON())"
   ]
  },
  {
   "cell_type": "markdown",
   "metadata": {},
   "source": [
    "## 3 - Extract serialized ACTL header, deserialize it and print JSON string"
   ]
  },
  {
   "cell_type": "code",
   "execution_count": null,
   "metadata": {
    "collapsed": false
   },
   "outputs": [],
   "source": [
    "cta_serialized_header = calin_header.serialized_raw_header()\n",
    "cta_header = calin.iact_data.raw_actl_event_data_source.CameraRunHeader()\n",
    "cta_header.ParseFromString(cta_serialized_header)\n",
    "cta_str_header = cta_header.SerializeAsJSON();\n",
    "print(cta_str_header)"
   ]
  },
  {
   "cell_type": "markdown",
   "metadata": {},
   "source": [
    "## 4 - Read first calin event and print JSON string"
   ]
  },
  {
   "cell_type": "code",
   "execution_count": null,
   "metadata": {
    "collapsed": false
   },
   "outputs": [],
   "source": [
    "calin_event = src.simple_get_next()\n",
    "calin_str_event = calin_event.SerializeAsJSON();\n",
    "print(calin_str_event)"
   ]
  },
  {
   "cell_type": "markdown",
   "metadata": {},
   "source": [
    "## 5 - Plot waveforms for this event"
   ]
  },
  {
   "cell_type": "code",
   "execution_count": null,
   "metadata": {
    "collapsed": false
   },
   "outputs": [],
   "source": [
    "high_gain_wfs = calin_event.high_gain_image().camera_waveforms();\n",
    "for ichan, chan_id in enumerate(high_gain_wfs.channel_id()):\n",
    "    plot(high_gain_wfs.waveform(ichan).samples())\n",
    "xlabel('Sample number')\n",
    "ylabel('Sample amplitude [DC]')"
   ]
  },
  {
   "cell_type": "markdown",
   "metadata": {},
   "source": [
    "## 6 - Extract serialized ACTL event deserialize it and print JSON string"
   ]
  },
  {
   "cell_type": "code",
   "execution_count": null,
   "metadata": {
    "collapsed": false
   },
   "outputs": [],
   "source": [
    "cta_serialized_event = calin_event.serialized_raw_event()\n",
    "cta_event = calin.iact_data.raw_actl_event_data_source.CameraEvent()\n",
    "cta_event.ParseFromString(cta_serialized_event)\n",
    "cta_str_event = cta_event.SerializeAsJSON();\n",
    "print(cta_str_event)"
   ]
  },
  {
   "cell_type": "markdown",
   "metadata": {},
   "source": [
    "## 7 - Use Python JSON decoder to conver string to Python structure\n",
    "\n",
    "Print keys of the JSON dictionary"
   ]
  },
  {
   "cell_type": "code",
   "execution_count": null,
   "metadata": {
    "collapsed": false
   },
   "outputs": [],
   "source": [
    "json_event = json.loads(cta_str_event)\n",
    "json_event.keys()"
   ]
  },
  {
   "cell_type": "markdown",
   "metadata": {},
   "source": [
    "## 8 - Convert samples data to integer array\n",
    "\n",
    "The bytes array from the ACTL Protobuf structure is encoded as a base64 string in the JSON; for details see the mapping guide below:\n",
    "\n",
    "https://developers.google.com/protocol-buffers/docs/proto3#json"
   ]
  },
  {
   "cell_type": "code",
   "execution_count": null,
   "metadata": {
    "collapsed": false
   },
   "outputs": [],
   "source": [
    "nsamples = json_event['hiGain']['waveforms']['numSamples']\n",
    "samples_data = base64.b64decode(json_event['hiGain']['waveforms']['samples']['data'])\n",
    "samples = frombuffer(samples_data,dtype='int16').reshape([-1,nsamples])\n",
    "plot(samples.transpose())\n",
    "xlabel('Sample number')\n",
    "ylabel('Sample amplitude [DC]')"
   ]
  }
 ],
 "metadata": {
  "kernelspec": {
   "display_name": "Python 3",
   "language": "python",
   "name": "python3"
  },
  "language_info": {
   "codemirror_mode": {
    "name": "ipython",
    "version": 3
   },
   "file_extension": ".py",
   "mimetype": "text/x-python",
   "name": "python",
   "nbconvert_exporter": "python",
   "pygments_lexer": "ipython3",
   "version": "3.4.5"
  }
 },
 "nbformat": 4,
 "nbformat_minor": 1
}
