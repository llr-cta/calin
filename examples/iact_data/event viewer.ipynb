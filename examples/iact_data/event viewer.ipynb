{
 "cells": [
  {
   "cell_type": "markdown",
   "metadata": {},
   "source": [
    "# Event viewer\n",
    "\n",
    "calin/examples/iact_data/event viewer.ipynb - Stephen Fegan - 2016-12-13\n",
    "\n",
    "Copyright 2016, Stephen Fegan <sfegan@llr.in2p3.fr>\n",
    "Laboratoire Leprince-Ringuet, CNRS/IN2P3, Ecole Polytechnique, Institut Polytechnique de Paris\n",
    "\n",
    "This file is part of \"__calin__\". \"__calin__\" is free software: you can redistribute it and/or modify it under the\n",
    "terms of the GNU General Public License version 2 or later, as published by\n",
    "the Free Software Foundation. \"__calin__\" is distributed in the hope that it will be useful, but WITHOUT ANY WARRANTY; without even the implied warranty of MERCHANTABILITY or FITNESS FOR A PARTICULAR PURPOSE.  See the GNU General Public License for more details.\n",
    "\n",
    "## Introduction\n",
    "\n",
    "Open a ZFits file and draw camera events"
   ]
  },
  {
   "cell_type": "code",
   "execution_count": null,
   "metadata": {
    "collapsed": false
   },
   "outputs": [],
   "source": [
    "%pylab inline\n",
    "import calin.iact_data.telescope_data_source\n",
    "from IPython.display import clear_output\n",
    "from ipywidgets.widgets import *"
   ]
  },
  {
   "cell_type": "code",
   "execution_count": null,
   "metadata": {
    "collapsed": true
   },
   "outputs": [],
   "source": [
    "dcfg = calin.iact_data.telescope_data_source.NectarCamZFITSDataSource.default_decoder_config()\n",
    "dcfg.set_demand_configured_module_id([1,2,5,6,10,11,14,15,17,18])\n",
    "dcfg.set_exchange_gain_channels(True)\n",
    "dcfg.set_camera_type(dcfg.NECTARCAM_TESTBENCH_19CHANNEL)\n",
    "src = calin.iact_data.telescope_data_source.NectarCamZFITSDataSource(\n",
    "    '/CTA/cta.cppm.in2p3.fr/NectarCAM/20161021/Run0264.fits.fz', dcfg)"
   ]
  },
  {
   "cell_type": "code",
   "execution_count": null,
   "metadata": {
    "collapsed": true
   },
   "outputs": [],
   "source": [
    "run_config = src.get_run_configuration()"
   ]
  },
  {
   "cell_type": "code",
   "execution_count": null,
   "metadata": {
    "collapsed": true
   },
   "outputs": [],
   "source": [
    "def plot_image(pix_data):\n",
    "#    figure(figsize=(10,8))\n",
    "#    figure(figsize=(7,6))\n",
    "    figure(figsize=(5,4.5))\n",
    "    pix = []\n",
    "    max_xy = 0\n",
    "    for pix_index in range(len(pix_data)):\n",
    "        pix_id = run_config.configured_channel_id(pix_index)\n",
    "        vx = run_config.camera_layout().channel(pix_id).outline_polygon_vertex_x_view()\n",
    "        vy = run_config.camera_layout().channel(pix_id).outline_polygon_vertex_y_view()\n",
    "        vv = zeros((len(vx),2))\n",
    "        vv[:,0] = vx\n",
    "        vv[:,1] = vy\n",
    "        max_xy = max(max_xy, max(abs(vx)), max(abs(vy)))\n",
    "        pix.append(Polygon(vv,closed=True))\n",
    "    pc = matplotlib.collections.PatchCollection(pix, cmap=matplotlib.cm.jet)\n",
    "    pc.set_array(asarray(pix_data))\n",
    "    pc.set_linewidths(0)\n",
    "    clo = min(-100, min(pix_data))\n",
    "    chi = max(100, max(pix_data))\n",
    "    pc.set_clim(clo,chi)\n",
    "    gca().add_collection(pc)\n",
    "    axis('square')\n",
    "    axis(asarray([-1,1,-1,1])*1.05*max_xy)\n",
    "    xlabel('X coordinate [cm]')\n",
    "    ylabel('Y coordinate [cm]')\n",
    "    colorbar(pc)\n",
    "#    grid(color='w')"
   ]
  },
  {
   "cell_type": "code",
   "execution_count": null,
   "metadata": {
    "collapsed": false
   },
   "outputs": [],
   "source": [
    "def plot_next_event():\n",
    "    index, event, arena = src.get_next()\n",
    "    im = event.high_gain_image()\n",
    "    pixdata = im.camera_charges().charge() * 0.0\n",
    "    for i in range(im.camera_waveforms().waveform_size()):\n",
    "        samp = im.camera_waveforms().waveform(i).samples()\n",
    "        pixdata[i] = sum(samp[30:42]*1.0) - sum(samp[0:12]*1.0)\n",
    "    plot_image(pixdata)\n",
    "    title('Index: %d'%index)"
   ]
  },
  {
   "cell_type": "code",
   "execution_count": null,
   "metadata": {
    "collapsed": false
   },
   "outputs": [],
   "source": [
    "button  = Button(description=\"Display next event\")\n",
    "display(button)\n",
    "\n",
    "def on_button_clicked(b):\n",
    "    clear_output()\n",
    "    plot_next_event()\n",
    "\n",
    "button.on_click(on_button_clicked)"
   ]
  }
 ],
 "metadata": {
  "kernelspec": {
   "display_name": "Python 3",
   "language": "python",
   "name": "python3"
  },
  "language_info": {
   "codemirror_mode": {
    "name": "ipython",
    "version": 3
   },
   "file_extension": ".py",
   "mimetype": "text/x-python",
   "name": "python",
   "nbconvert_exporter": "python",
   "pygments_lexer": "ipython3",
   "version": "3.4.5"
  }
 },
 "nbformat": 4,
 "nbformat_minor": 1
}
