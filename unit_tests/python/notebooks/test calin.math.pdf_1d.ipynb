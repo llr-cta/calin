{
 "cells": [
  {
   "cell_type": "code",
   "execution_count": 1,
   "metadata": {
    "collapsed": false
   },
   "outputs": [
    {
     "name": "stdout",
     "output_type": "stream",
     "text": [
      "Populating the interactive namespace from numpy and matplotlib\n"
     ]
    }
   ],
   "source": [
    "%pylab inline\n",
    "import calin.math.pdf_1d\n",
    "import scipy.integrate"
   ]
  },
  {
   "cell_type": "code",
   "execution_count": 2,
   "metadata": {
    "collapsed": true
   },
   "outputs": [],
   "source": [
    "exp_pdf=calin.math.pdf_1d.LimitedExponentialPDF(0,numpy.inf)\n",
    "gauss_pdf=calin.math.pdf_1d.LimitedGaussianPDF(0,numpy.inf)\n",
    "ses = calin.math.pdf_1d.TwoComponentPDF(exp_pdf, \"exp\", gauss_pdf, \"gauss\")"
   ]
  },
  {
   "cell_type": "code",
   "execution_count": 3,
   "metadata": {
    "collapsed": false
   },
   "outputs": [
    {
     "name": "stdout",
     "output_type": "stream",
     "text": [
      "4\n"
     ]
    }
   ],
   "source": [
    "print(ses.num_parameters())"
   ]
  },
  {
   "cell_type": "code",
   "execution_count": 4,
   "metadata": {
    "collapsed": false
   },
   "outputs": [
    {
     "name": "stdout",
     "output_type": "stream",
     "text": [
      "exp probability\n",
      "exp.scale\n",
      "gauss.mean\n",
      "gauss.rms\n"
     ]
    }
   ],
   "source": [
    "pars = ses.parameters()\n",
    "for ipar in pars:\n",
    "    print(ipar.name)"
   ]
  },
  {
   "cell_type": "code",
   "execution_count": 5,
   "metadata": {
    "collapsed": true
   },
   "outputs": [],
   "source": [
    "p0 = asarray([0.28, 97.6, 484.6, 131.7])\n",
    "ses.set_parameter_values(p0)"
   ]
  },
  {
   "cell_type": "code",
   "execution_count": 6,
   "metadata": {
    "collapsed": false
   },
   "outputs": [
    {
     "name": "stdout",
     "output_type": "stream",
     "text": [
      "[  2.80000000e-01   9.76000000e+01   4.84600000e+02   1.31700000e+02]\n"
     ]
    }
   ],
   "source": [
    "print(ses.parameter_values())"
   ]
  },
  {
   "cell_type": "code",
   "execution_count": 7,
   "metadata": {
    "collapsed": false
   },
   "outputs": [
    {
     "data": {
      "text/plain": [
       "[<matplotlib.lines.Line2D at 0x10d74c400>]"
      ]
     },
     "execution_count": 7,
     "metadata": {},
     "output_type": "execute_result"
    },
    {
     "data": {
      "image/png": "[encoded data removed]",
      "text/plain": [
       "<matplotlib.figure.Figure at 0x10a9529e8>"
      ]
     },
     "metadata": {},
     "output_type": "display_data"
    }
   ],
   "source": [
    "x=frange(0.0,1000.0)\n",
    "plot(x,asarray(list(map(lambda xx:ses.value_1d(xx),x))))"
   ]
  },
  {
   "cell_type": "code",
   "execution_count": 8,
   "metadata": {
    "collapsed": false
   },
   "outputs": [
    {
     "name": "stdout",
     "output_type": "stream",
     "text": [
      "(0.9999999999999998, 1.0930855162236863e-11)\n"
     ]
    }
   ],
   "source": [
    "print(scipy.integrate.quad(lambda xx:ses.value_1d(xx),0,100000))"
   ]
  },
  {
   "cell_type": "code",
   "execution_count": 9,
   "metadata": {
    "collapsed": false
   },
   "outputs": [
    {
     "name": "stdout",
     "output_type": "stream",
     "text": [
      "[  1.02424234e-02  -2.93939801e-05  -6.99774608e-08   2.38471856e-07]\n"
     ]
    }
   ],
   "source": [
    "g = zeros(0)\n",
    "ses.value_and_parameter_gradient_1d(0.0,g)\n",
    "print(g)"
   ]
  },
  {
   "cell_type": "code",
   "execution_count": 17,
   "metadata": {
    "collapsed": false
   },
   "outputs": [
    {
     "name": "stdout",
     "output_type": "stream",
     "text": [
      "[  1.02424234e-02  -2.93939801e-05  -6.99774608e-08   2.38471856e-07]\n",
      "[[  0.00000000e+00  -1.04978500e-04   9.71909178e-08  -3.31210911e-07]\n",
      " [ -1.04978500e-04   6.02335658e-07   0.00000000e+00   0.00000000e+00]\n",
      " [  9.71909178e-08   0.00000000e+00   1.81120704e-09  -5.60179203e-09]\n",
      " [ -3.31210911e-07   0.00000000e+00  -5.60179203e-09   1.69907723e-08]]\n"
     ]
    }
   ],
   "source": [
    "h = zeros([5,5])\n",
    "ses.value_parameter_gradient_and_hessian_1d(0.0,g,h)\n",
    "print(g)\n",
    "print(h)"
   ]
  },
  {
   "cell_type": "code",
   "execution_count": null,
   "metadata": {
    "collapsed": true
   },
   "outputs": [],
   "source": []
  }
 ],
 "metadata": {
  "kernelspec": {
   "display_name": "Python 3",
   "language": "python",
   "name": "python3"
  },
  "language_info": {
   "codemirror_mode": {
    "name": "ipython",
    "version": 3
   },
   "file_extension": ".py",
   "mimetype": "text/x-python",
   "name": "python",
   "nbconvert_exporter": "python",
   "pygments_lexer": "ipython3",
   "version": "3.4.3"
  }
 },
 "nbformat": 4,
 "nbformat_minor": 0
}
