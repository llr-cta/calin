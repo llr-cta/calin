{
 "cells": [
  {
   "cell_type": "code",
   "execution_count": 1,
   "metadata": {
    "collapsed": false
   },
   "outputs": [
    {
     "name": "stdout",
     "output_type": "stream",
     "text": [
      "Populating the interactive namespace from numpy and matplotlib\n"
     ]
    }
   ],
   "source": [
    "%pylab inline\n",
    "import calin.calib.spe_fit\n",
    "import calin.math.histogram\n",
    "import calin.math.optimizer\n",
    "import calin.math.pdf_1d"
   ]
  },
  {
   "cell_type": "markdown",
   "metadata": {},
   "source": [
    "## Load data and plot histogram"
   ]
  },
  {
   "cell_type": "code",
   "execution_count": 2,
   "metadata": {
    "collapsed": false
   },
   "outputs": [],
   "source": [
    "fernandez_data = loadtxt('../../calib/fernandez_dc_1.5kV_6.45V.dat');\n",
    "mes_hist = calin.math.histogram.SimpleHist(1.0)\n",
    "mes_hist.insert_vec(fernandez_data);"
   ]
  },
  {
   "cell_type": "markdown",
   "metadata": {},
   "source": [
    "## Fit of single-Gaussian model"
   ]
  },
  {
   "cell_type": "code",
   "execution_count": 3,
   "metadata": {
    "collapsed": true
   },
   "outputs": [],
   "source": [
    "ped_gauss_pdf = calin.math.pdf_1d.GaussianPDF()"
   ]
  },
  {
   "cell_type": "code",
   "execution_count": 4,
   "metadata": {
    "collapsed": false
   },
   "outputs": [
    {
     "name": "stdout",
     "output_type": "stream",
     "text": [
      "[   1.04990191  358.72165658   51.04687963  454.92516744  165.28480598] 72518.83149087398\n",
      "[ 0.01317109  1.00096576  0.81565     3.93725818  3.97663702]\n"
     ]
    }
   ],
   "source": [
    "ses_g_pdf = calin.math.pdf_1d.LimitedGaussianPDF(0,numpy.inf)\n",
    "mes_model_g = calin.calib.spe_fit.GeneralPoissonMES(mes_hist.xval_left(0), mes_hist.dxval(),\\\n",
    "        mes_hist.size(), ses_g_pdf, ped_gauss_pdf)\n",
    "like_g = calin.calib.spe_fit.SPELikelihood(mes_model_g, mes_hist)\n",
    "opt_g = calin.math.optimizer.NLOptOptimizer(calin.math.optimizer.LD_LBFGS, like_g)\n",
    "opt_g.set_verbosity_level(calin.math.optimizer.OptimizerVerbosityLevel_MAX);\n",
    "opt_g.set_abs_tolerance(0.0001);\n",
    "opt_g.set_initial_values([1.0, 355.0, 10.0, 500.0, 200.0]);\n",
    "opt_g.set_limits_lo([0.01, 300.0, 0.1, 100.0, 10.0])\n",
    "opt_g.set_limits_hi([2.0,  400.0, 100.1, 1000.0, 500.0])\n",
    "status, xopt_g, fval_g = opt_g.minimize()\n",
    "print(xopt_g, fval_g)\n",
    "status, err_mat_g = opt_g.calc_error_matrix()\n",
    "xerr_g = sqrt(err_mat_g.diagonal())\n",
    "print(xerr_g)"
   ]
  },
  {
   "cell_type": "markdown",
   "metadata": {},
   "source": [
    "## Fit of exponential/Gaussian model"
   ]
  },
  {
   "cell_type": "code",
   "execution_count": 5,
   "metadata": {
    "collapsed": false
   },
   "outputs": [
    {
     "name": "stdout",
     "output_type": "stream",
     "text": [
      "[  1.21958383e+00   3.51232214e+02   4.64338310e+01   3.15225185e-01\n",
      "   1.96041860e+02   4.92991929e+02   1.21171345e+02] 72466.89689786671\n",
      "[  2.64560878e-02   1.25234505e+00   8.48860063e-01   3.37910648e-02\n",
      "   3.71091135e+01   3.94204815e+00   5.33874943e+00]\n"
     ]
    }
   ],
   "source": [
    "ses_eg_exp_pdf = calin.math.pdf_1d.LimitedExponentialPDF(0,numpy.inf,mes_hist.dxval())\n",
    "ses_eg_exp_pdf.limit_scale(0.1, inf);\n",
    "ses_eg_gauss_pdf = calin.math.pdf_1d.LimitedGaussianPDF(0,numpy.inf)\n",
    "ses_eg_pdf = calin.math.pdf_1d.TwoComponentPDF(ses_eg_exp_pdf, \"exp\", ses_eg_gauss_pdf, \"gauss\")\n",
    "mes_model_eg = calin.calib.spe_fit.GeneralPoissonMES(mes_hist.xval_left(0), mes_hist.dxval(),\\\n",
    "        mes_hist.size(), ses_eg_pdf, ped_gauss_pdf)\n",
    "like_eg = calin.calib.spe_fit.SPELikelihood(mes_model_eg, mes_hist)\n",
    "opt_eg = calin.math.optimizer.NLOptOptimizer(calin.math.optimizer.LD_LBFGS, like_eg)\n",
    "#opt_eg.set_scale([0.1,0.1,1.0,0.01,1.0,1.0,0.05]);\n",
    "opt_eg.set_verbosity_level(calin.math.optimizer.OptimizerVerbosityLevel_MAX);\n",
    "opt_eg.set_abs_tolerance(0.0001);\n",
    "opt_eg.set_max_iterations(1000);\n",
    "opt_eg.set_initial_values([1.0, 355.0, 10.0, 0.1, 200.0, 500.0, 200.0]);\n",
    "opt_eg.set_limits_lo([0.01, 300.0, 0.1, 0.0, 10.0, 100.0, 10.0])\n",
    "opt_eg.set_limits_hi([2.0,  400.0, 100.1, 1.0, 500.0, 1000.0, 500.0])\n",
    "status, xopt_eg, fval_eg = opt_eg.minimize()\n",
    "print(xopt_eg, fval_eg)\n",
    "status, err_mat_eg = opt_eg.calc_error_matrix()\n",
    "xerr_eg = sqrt(err_mat_eg.diagonal())\n",
    "print(xerr_eg)"
   ]
  },
  {
   "cell_type": "code",
   "execution_count": 6,
   "metadata": {
    "collapsed": false
   },
   "outputs": [
    {
     "name": "stdout",
     "output_type": "stream",
     "text": [
      "[  2.64560878e-02   1.25234505e+00   8.48860063e-01   3.37910648e-02\n",
      "   3.71091135e+01   3.94204815e+00   5.33874943e+00]\n"
     ]
    }
   ],
   "source": [
    "status, err_mat_eg, eval_eg, evec_eg = opt_eg.calc_error_matrix_and_eigenvectors()\n",
    "xerr_eg = sqrt(err_mat_eg.diagonal())\n",
    "print(xerr_eg)\n",
    "err_mat_eg = matrix(err_mat_eg)\n",
    "evec_eg = matrix(evec_eg)"
   ]
  },
  {
   "cell_type": "markdown",
   "metadata": {},
   "source": [
    "## Fit of double-Gaussian model\n",
    "\n",
    "Mean of one of the Gaussians is fixed at zero in the fit"
   ]
  },
  {
   "cell_type": "code",
   "execution_count": 7,
   "metadata": {
    "collapsed": false
   },
   "outputs": [
    {
     "name": "stdout",
     "output_type": "stream",
     "text": [
      "[  1.18930676e+00   3.52214093e+02   4.68817800e+01   2.55606341e-01\n",
      "   1.97934671e+02   4.94651876e+02   1.22595480e+02] 72465.71922122368\n"
     ]
    }
   ],
   "source": [
    "ses_2g_g1_pdf = calin.math.pdf_1d.LimitedGaussianPDF(0,numpy.inf)\n",
    "ses_2g_g2_pdf = calin.math.pdf_1d.LimitedGaussianPDF(0,numpy.inf)\n",
    "ses_2g_pdf = calin.math.pdf_1d.TwoComponentPDF(ses_2g_g1_pdf, \"g1\", ses_2g_g2_pdf, \"g2\")\n",
    "mes_model_2g = calin.calib.spe_fit.GeneralPoissonMES(mes_hist.xval_left(0), mes_hist.dxval(),\\\n",
    "        mes_hist.size(), ses_2g_pdf, ped_gauss_pdf)\n",
    "like_2g = calin.calib.spe_fit.SPELikelihood(mes_model_2g, mes_hist)\n",
    "freezer = calin.math.function.FreezeThawFunction(like_2g)\n",
    "freezer.freeze(4,0)\n",
    "opt_2g = calin.math.optimizer.NLOptOptimizer(calin.math.optimizer.LD_LBFGS, freezer)\n",
    "#opt_2g.set_scale([0.1,0.1,1.0,0.01,1.0,1.0,0.05]);\n",
    "opt_2g.set_verbosity_level(calin.math.optimizer.OptimizerVerbosityLevel_MAX);\n",
    "opt_2g.set_abs_tolerance(0.0001);\n",
    "opt_2g.set_initial_values([1.0, 355.0, 10.0, 0.1, 200.0, 500.0, 200.0]);\n",
    "status, xopt_2g, fval_2g = opt_2g.minimize()\n",
    "print(xopt_2g, fval_2g)"
   ]
  },
  {
   "cell_type": "code",
   "execution_count": 8,
   "metadata": {
    "collapsed": false
   },
   "outputs": [
    {
     "name": "stdout",
     "output_type": "stream",
     "text": [
      "[  2.28576450e-02   1.23422202e+00   8.53103934e-01   3.75722307e-02\n",
      "   4.83962795e+01   7.41936546e+00   5.75775697e+00]\n"
     ]
    }
   ],
   "source": [
    "status, err_mat_2g, eval_2g, evec_2g = opt_2g.calc_error_matrix_and_eigenvectors()\n",
    "xerr_2g = sqrt(err_mat_2g.diagonal())\n",
    "print(xerr_2g)\n",
    "err_mat_2g = matrix(err_mat_2g)\n",
    "evec_2g = matrix(evec_2g)"
   ]
  },
  {
   "cell_type": "markdown",
   "metadata": {},
   "source": [
    "## MCMC in Python"
   ]
  },
  {
   "cell_type": "code",
   "execution_count": 10,
   "metadata": {
    "collapsed": false
   },
   "outputs": [],
   "source": [
    "def rand_gauss(basis,sigma):\n",
    "    x = basis*transpose(matrix(sigma*randn(sigma.size)))\n",
    "    x = squeeze(asarray(x))\n",
    "    return x"
   ]
  },
  {
   "cell_type": "markdown",
   "metadata": {},
   "source": [
    "**Exponential/Gaussian**"
   ]
  },
  {
   "cell_type": "code",
   "execution_count": 23,
   "metadata": {
    "collapsed": false
   },
   "outputs": [
    {
     "name": "stdout",
     "output_type": "stream",
     "text": [
      "678\n"
     ]
    }
   ],
   "source": [
    "x = xopt_eg\n",
    "f = 1\n",
    "\n",
    "accept = 0\n",
    "g_eg_all = []\n",
    "r_eg_all = []\n",
    "\n",
    "mes_model_eg.set_parameter_values(xopt_eg)\n",
    "ses_eg_y = asarray(mes_model_eg.n_electron_spectrum(1));\n",
    "ses_eg_x = asarray(list(map(lambda i: mes_model_eg.ses_x(i), range(0,len(ses_eg_y)))))\n",
    "ses_eg_norm = sum(ses_eg_y)\n",
    "ses_eg_mean = sum(ses_eg_y*ses_eg_x)\n",
    "ses_eg_rms = sqrt(sum(ses_eg_y*ses_eg_x*ses_eg_x) - ses_eg_mean**2)\n",
    "\n",
    "for i in range(0,1000):\n",
    "    xp = x + rand_gauss(evec_eg,sqrt(eval_eg)*0.3)\n",
    "#    print(x,xp)\n",
    "    val = like_eg.value(xp)\n",
    "    fp = exp(fval_eg-val)\n",
    "#    print(fp>f or rand(1)>fp/f,f,val,fval_eg-val,fp)\n",
    "    if(fp>f or rand(1)<fp/f):\n",
    "        accept += 1\n",
    "        x = xp\n",
    "        f = fp\n",
    "        ses_eg_y = asarray(mes_model_eg.n_electron_spectrum(1));\n",
    "        ses_eg_x = asarray(list(map(lambda i: mes_model_eg.ses_x(i), range(0,len(ses_eg_y)))))\n",
    "        ses_eg_norm = sum(ses_eg_y)\n",
    "        ses_eg_mean = sum(ses_eg_y*ses_eg_x)\n",
    "        ses_eg_rms = sqrt(sum(ses_eg_y*ses_eg_x*ses_eg_x) - ses_eg_mean**2)\n",
    "    g_eg_all.append(ses_eg_mean)\n",
    "    r_eg_all.append(ses_eg_rms/ses_eg_mean)\n",
    "    \n",
    "print(accept)"
   ]
  },
  {
   "cell_type": "code",
   "execution_count": 24,
   "metadata": {
    "collapsed": false
   },
   "outputs": [
    {
     "name": "stdout",
     "output_type": "stream",
     "text": [
      "401.940590684 6.0077353719\n",
      "0.507160601358 0.0131304209945\n"
     ]
    }
   ],
   "source": [
    "print(mean(g_eg_all), std(g_eg_all))\n",
    "print(mean(r_eg_all), std(r_eg_all))"
   ]
  },
  {
   "cell_type": "code",
   "execution_count": 25,
   "metadata": {
    "collapsed": false
   },
   "outputs": [
    {
     "data": {
      "text/plain": [
       "(array([   6.,   14.,   34.,   33.,   51.,   88.,  113.,   87.,   92.,\n",
       "         102.,  111.,   82.,   64.,   57.,   44.,    8.,    4.,    4.,\n",
       "           1.,    5.]),\n",
       " array([ 0.47415524,  0.47792028,  0.48168533,  0.48545037,  0.48921541,\n",
       "         0.49298045,  0.4967455 ,  0.50051054,  0.50427558,  0.50804062,\n",
       "         0.51180566,  0.51557071,  0.51933575,  0.52310079,  0.52686583,\n",
       "         0.53063088,  0.53439592,  0.53816096,  0.541926  ,  0.54569105,\n",
       "         0.54945609]),\n",
       " <a list of 20 Patch objects>)"
      ]
     },
     "execution_count": 25,
     "metadata": {},
     "output_type": "execute_result"
    },
    {
     "data": {
      "image/png": "[encoded data removed]",
      "text/plain": [
       "<matplotlib.figure.Figure at 0x110187518>"
      ]
     },
     "metadata": {},
     "output_type": "display_data"
    }
   ],
   "source": [
    "hist(r_eg_all,20)"
   ]
  },
  {
   "cell_type": "markdown",
   "metadata": {},
   "source": [
    "**Double Gaussian**"
   ]
  },
  {
   "cell_type": "code",
   "execution_count": null,
   "metadata": {
    "collapsed": true
   },
   "outputs": [],
   "source": []
  },
  {
   "cell_type": "code",
   "execution_count": 13,
   "metadata": {
    "collapsed": false
   },
   "outputs": [
    {
     "ename": "NameError",
     "evalue": "name 'ses_2g_y' is not defined",
     "output_type": "error",
     "traceback": [
      "\u001b[0;31m---------------------------------------------------------------------------\u001b[0m",
      "\u001b[0;31mNameError\u001b[0m                                 Traceback (most recent call last)",
      "\u001b[0;32m<ipython-input-13-314065b37979>\u001b[0m in \u001b[0;36m<module>\u001b[0;34m()\u001b[0m\n\u001b[0;32m----> 1\u001b[0;31m \u001b[0mses_2g_norm\u001b[0m \u001b[0;34m=\u001b[0m \u001b[0msum\u001b[0m\u001b[0;34m(\u001b[0m\u001b[0mses_2g_y\u001b[0m\u001b[0;34m)\u001b[0m\u001b[0;34m\u001b[0m\u001b[0m\n\u001b[0m\u001b[1;32m      2\u001b[0m \u001b[0mses_2g_mean\u001b[0m \u001b[0;34m=\u001b[0m \u001b[0msum\u001b[0m\u001b[0;34m(\u001b[0m\u001b[0mses_2g_y\u001b[0m\u001b[0;34m*\u001b[0m\u001b[0mses_2g_x\u001b[0m\u001b[0;34m)\u001b[0m\u001b[0;34m\u001b[0m\u001b[0m\n\u001b[1;32m      3\u001b[0m \u001b[0mses_2g_rms\u001b[0m \u001b[0;34m=\u001b[0m \u001b[0msqrt\u001b[0m\u001b[0;34m(\u001b[0m\u001b[0msum\u001b[0m\u001b[0;34m(\u001b[0m\u001b[0mses_2g_y\u001b[0m\u001b[0;34m*\u001b[0m\u001b[0mses_2g_x\u001b[0m\u001b[0;34m*\u001b[0m\u001b[0mses_2g_x\u001b[0m\u001b[0;34m)\u001b[0m \u001b[0;34m-\u001b[0m \u001b[0mses_2g_mean\u001b[0m\u001b[0;34m**\u001b[0m\u001b[0;36m2\u001b[0m\u001b[0;34m)\u001b[0m\u001b[0;34m\u001b[0m\u001b[0m\n\u001b[1;32m      4\u001b[0m \u001b[0mprint\u001b[0m\u001b[0;34m(\u001b[0m\u001b[0;34m\"Norm, mean, RMS: \"\u001b[0m\u001b[0;34m,\u001b[0m\u001b[0mses_2g_norm\u001b[0m\u001b[0;34m,\u001b[0m \u001b[0mses_2g_mean\u001b[0m\u001b[0;34m,\u001b[0m \u001b[0mses_2g_rms\u001b[0m\u001b[0;34m)\u001b[0m\u001b[0;34m\u001b[0m\u001b[0m\n\u001b[1;32m      5\u001b[0m \u001b[0mprint\u001b[0m\u001b[0;34m(\u001b[0m\u001b[0;34m\"Resolution: \"\u001b[0m\u001b[0;34m,\u001b[0m\u001b[0mses_2g_rms\u001b[0m\u001b[0;34m/\u001b[0m\u001b[0mses_2g_mean\u001b[0m\u001b[0;34m)\u001b[0m\u001b[0;34m\u001b[0m\u001b[0m\n",
      "\u001b[0;31mNameError\u001b[0m: name 'ses_2g_y' is not defined"
     ]
    }
   ],
   "source": [
    "ses_2g_norm = sum(ses_2g_y)\n",
    "ses_2g_mean = sum(ses_2g_y*ses_2g_x)\n",
    "ses_2g_rms = sqrt(sum(ses_2g_y*ses_2g_x*ses_2g_x) - ses_2g_mean**2)\n",
    "print(\"Norm, mean, RMS: \",ses_2g_norm, ses_2g_mean, ses_2g_rms)\n",
    "print(\"Resolution: \",ses_2g_rms/ses_2g_mean)\n",
    "print(\"ENF: \",sqrt(1+(ses_2g_rms/ses_2g_mean)**2))"
   ]
  }
 ],
 "metadata": {
  "kernelspec": {
   "display_name": "Python 3",
   "language": "python",
   "name": "python3"
  },
  "language_info": {
   "codemirror_mode": {
    "name": "ipython",
    "version": 3
   },
   "file_extension": ".py",
   "mimetype": "text/x-python",
   "name": "python",
   "nbconvert_exporter": "python",
   "pygments_lexer": "ipython3",
   "version": "3.4.3"
  }
 },
 "nbformat": 4,
 "nbformat_minor": 0
}
