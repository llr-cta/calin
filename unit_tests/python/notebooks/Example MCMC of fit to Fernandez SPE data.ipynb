{
 "cells": [
  {
   "cell_type": "code",
   "execution_count": 1,
   "metadata": {
    "collapsed": false
   },
   "outputs": [
    {
     "name": "stdout",
     "output_type": "stream",
     "text": [
      "Populating the interactive namespace from numpy and matplotlib\n"
     ]
    }
   ],
   "source": [
    "%pylab inline\n",
    "import calin.calib.spe_fit\n",
    "import calin.math.histogram\n",
    "import calin.math.optimizer\n",
    "import calin.math.pdf_1d"
   ]
  },
  {
   "cell_type": "markdown",
   "metadata": {},
   "source": [
    "## Load data and plot histogram"
   ]
  },
  {
   "cell_type": "code",
   "execution_count": 2,
   "metadata": {
    "collapsed": false
   },
   "outputs": [],
   "source": [
    "fernandez_data = loadtxt('../../calib/fernandez_dc_1.5kV_6.45V.dat');\n",
    "mes_hist = calin.math.histogram.SimpleHist(1.0)\n",
    "mes_hist.insert_vec(fernandez_data);"
   ]
  },
  {
   "cell_type": "markdown",
   "metadata": {},
   "source": [
    "## Fit of single-Gaussian model"
   ]
  },
  {
   "cell_type": "code",
   "execution_count": 3,
   "metadata": {
    "collapsed": true
   },
   "outputs": [],
   "source": [
    "ped_gauss_pdf = calin.math.pdf_1d.GaussianPDF()"
   ]
  },
  {
   "cell_type": "code",
   "execution_count": 4,
   "metadata": {
    "collapsed": false
   },
   "outputs": [
    {
     "name": "stdout",
     "output_type": "stream",
     "text": [
      "[   1.04990191  358.72165658   51.04687963  454.92516744  165.28480598] 72518.83149087397\n",
      "[ 0.01317109  1.00096576  0.81565     3.93725818  3.97663702]\n"
     ]
    }
   ],
   "source": [
    "ses_g_pdf = calin.math.pdf_1d.LimitedGaussianPDF(0,numpy.inf)\n",
    "mes_model_g = calin.calib.spe_fit.GeneralPoissonMES(mes_hist.xval_left(0), mes_hist.dxval(),\\\n",
    "        mes_hist.size(), ses_g_pdf, ped_gauss_pdf)\n",
    "like_g = calin.calib.spe_fit.SPELikelihood(mes_model_g, mes_hist)\n",
    "opt_g = calin.math.optimizer.NLOptOptimizer(calin.math.optimizer.LD_LBFGS, like_g)\n",
    "opt_g.set_verbosity_level(calin.math.optimizer.OptimizerVerbosityLevel_MAX);\n",
    "opt_g.set_abs_tolerance(0.0001);\n",
    "opt_g.set_initial_values([1.0, 355.0, 10.0, 500.0, 200.0]);\n",
    "opt_g.set_limits_lo([0.01, 300.0, 0.1, 100.0, 10.0])\n",
    "opt_g.set_limits_hi([2.0,  400.0, 100.1, 1000.0, 500.0])\n",
    "status, xopt_g, fval_g = opt_g.minimize()\n",
    "print(xopt_g, fval_g)\n",
    "status, err_mat_g = opt_g.calc_error_matrix()\n",
    "xerr_g = sqrt(err_mat_g.diagonal())\n",
    "print(xerr_g)"
   ]
  },
  {
   "cell_type": "markdown",
   "metadata": {},
   "source": [
    "## Fit of exponential/Gaussian model"
   ]
  },
  {
   "cell_type": "code",
   "execution_count": 5,
   "metadata": {
    "collapsed": false
   },
   "outputs": [
    {
     "name": "stdout",
     "output_type": "stream",
     "text": [
      "[  1.21958051e+00   3.51232226e+02   4.64337521e+01   3.15220837e-01\n",
      "   1.96041908e+02   4.92991177e+02   1.21171969e+02] 72466.89689790118\n",
      "[  2.64562283e-02   1.25234744e+00   8.48858168e-01   3.37916355e-02\n",
      "   3.71104114e+01   3.94208091e+00   5.33882486e+00]\n"
     ]
    }
   ],
   "source": [
    "ses_eg_exp_pdf = calin.math.pdf_1d.LimitedExponentialPDF(0,numpy.inf,mes_hist.dxval())\n",
    "ses_eg_exp_pdf.limit_scale(0.1, inf);\n",
    "ses_eg_gauss_pdf = calin.math.pdf_1d.LimitedGaussianPDF(0,numpy.inf)\n",
    "ses_eg_pdf = calin.math.pdf_1d.TwoComponentPDF(ses_eg_exp_pdf, \"exp\", ses_eg_gauss_pdf, \"gauss\")\n",
    "mes_model_eg = calin.calib.spe_fit.GeneralPoissonMES(mes_hist.xval_left(0), mes_hist.dxval(),\\\n",
    "        mes_hist.size(), ses_eg_pdf, ped_gauss_pdf)\n",
    "like_eg = calin.calib.spe_fit.SPELikelihood(mes_model_eg, mes_hist)\n",
    "opt_eg = calin.math.optimizer.NLOptOptimizer(calin.math.optimizer.LD_LBFGS, like_eg)\n",
    "#opt_eg.set_scale([0.1,0.1,1.0,0.01,1.0,1.0,0.05]);\n",
    "opt_eg.set_verbosity_level(calin.math.optimizer.OptimizerVerbosityLevel_MAX);\n",
    "opt_eg.set_abs_tolerance(0.0001);\n",
    "opt_eg.set_max_iterations(1000);\n",
    "opt_eg.set_initial_values([1.0, 355.0, 10.0, 0.1, 200.0, 500.0, 200.0]);\n",
    "opt_eg.set_limits_lo([0.01, 300.0, 0.1, 0.0, 10.0, 100.0, 10.0])\n",
    "opt_eg.set_limits_hi([2.0,  400.0, 100.1, 1.0, 500.0, 1000.0, 500.0])\n",
    "status, xopt_eg, fval_eg = opt_eg.minimize()\n",
    "print(xopt_eg, fval_eg)\n",
    "status, err_mat_eg = opt_eg.calc_error_matrix()\n",
    "xerr_eg = sqrt(err_mat_eg.diagonal())\n",
    "print(xerr_eg)"
   ]
  },
  {
   "cell_type": "code",
   "execution_count": 6,
   "metadata": {
    "collapsed": false
   },
   "outputs": [
    {
     "name": "stdout",
     "output_type": "stream",
     "text": [
      "[  2.64562283e-02   1.25234744e+00   8.48858168e-01   3.37916355e-02\n",
      "   3.71104114e+01   3.94208091e+00   5.33882486e+00]\n"
     ]
    }
   ],
   "source": [
    "status, err_mat_eg, eval_eg, evec_eg = opt_eg.calc_error_matrix_and_eigenvectors()\n",
    "xerr_eg = sqrt(err_mat_eg.diagonal())\n",
    "print(xerr_eg)\n",
    "err_mat_eg = matrix(err_mat_eg)\n",
    "evec_eg = matrix(evec_eg)"
   ]
  },
  {
   "cell_type": "markdown",
   "metadata": {},
   "source": [
    "## Fit of double-Gaussian model\n",
    "\n",
    "Mean of one of the Gaussians is fixed at zero in the fit"
   ]
  },
  {
   "cell_type": "code",
   "execution_count": 7,
   "metadata": {
    "collapsed": false
   },
   "outputs": [
    {
     "name": "stdout",
     "output_type": "stream",
     "text": [
      "[  1.18930651e+00   3.52214112e+02   4.68817801e+01   2.55604381e-01\n",
      "   1.97933056e+02   4.94651503e+02   1.22595667e+02] 72465.71924673254\n"
     ]
    }
   ],
   "source": [
    "ses_2g_g1_pdf = calin.math.pdf_1d.LimitedGaussianPDF(0,numpy.inf)\n",
    "ses_2g_g2_pdf = calin.math.pdf_1d.LimitedGaussianPDF(0,numpy.inf)\n",
    "ses_2g_pdf = calin.math.pdf_1d.TwoComponentPDF(ses_2g_g1_pdf, \"g1\", ses_2g_g2_pdf, \"g2\")\n",
    "mes_model_2g = calin.calib.spe_fit.GeneralPoissonMES(mes_hist.xval_left(0), mes_hist.dxval(),\\\n",
    "        mes_hist.size(), ses_2g_pdf, ped_gauss_pdf)\n",
    "like_2g = calin.calib.spe_fit.SPELikelihood(mes_model_2g, mes_hist)\n",
    "freezer = calin.math.function.FreezeThawFunction(like_2g)\n",
    "freezer.freeze(4,0)\n",
    "opt_2g = calin.math.optimizer.NLOptOptimizer(calin.math.optimizer.LD_LBFGS, freezer)\n",
    "#opt_2g.set_scale([0.1,0.1,1.0,0.01,1.0,1.0,0.05]);\n",
    "opt_2g.set_verbosity_level(calin.math.optimizer.OptimizerVerbosityLevel_MAX);\n",
    "opt_2g.set_abs_tolerance(0.0001);\n",
    "opt_2g.set_initial_values([1.0, 355.0, 10.0, 0.1, 200.0, 500.0, 200.0]);\n",
    "status, xopt_2g, fval_2g = opt_2g.minimize()\n",
    "print(xopt_2g, fval_2g)"
   ]
  },
  {
   "cell_type": "code",
   "execution_count": 8,
   "metadata": {
    "collapsed": false
   },
   "outputs": [
    {
     "name": "stdout",
     "output_type": "stream",
     "text": [
      "[  2.28576020e-02   1.23422052e+00   8.53103619e-01   3.75709538e-02\n",
      "   4.83946669e+01   7.41923896e+00   5.75769429e+00]\n"
     ]
    }
   ],
   "source": [
    "status, err_mat_2g, eval_2g, evec_2g = opt_2g.calc_error_matrix_and_eigenvectors()\n",
    "xerr_2g = sqrt(err_mat_2g.diagonal())\n",
    "print(xerr_2g)\n",
    "err_mat_2g = matrix(err_mat_2g)\n",
    "evec_2g = matrix(evec_2g)"
   ]
  },
  {
   "cell_type": "markdown",
   "metadata": {},
   "source": [
    "## MCMC in Python"
   ]
  },
  {
   "cell_type": "code",
   "execution_count": 9,
   "metadata": {
    "collapsed": false
   },
   "outputs": [],
   "source": [
    "def rand_gauss(basis,sigma):\n",
    "    x = basis*transpose(matrix(sigma*randn(sigma.size)))\n",
    "    x = squeeze(asarray(x))\n",
    "    return x\n",
    "\n",
    "def mcmc(model,like,xopt,fopt,err_basis,err_sigma):\n",
    "    x = xopt\n",
    "    f = 1\n",
    "\n",
    "    accept = 0\n",
    "    g_all = []\n",
    "    r_all = []\n",
    "    p0_all = []\n",
    "    lqp_all = []\n",
    "\n",
    "    like.value(xopt)\n",
    "    ses_y = asarray(model.n_electron_spectrum(1));\n",
    "    ses_x = asarray(list(map(lambda i: model.ses_x(i), range(0,len(ses_y)))))\n",
    "    ses_norm = sum(ses_y)\n",
    "    ses_mean = sum(ses_y*ses_x)\n",
    "    ses_rms = sqrt(sum(ses_y*ses_x*ses_x) - ses_mean**2)\n",
    "    lqp = sum(ses_y[ses_x<0.2*ses_mean])\n",
    "    for i in range(0,10000):\n",
    "        xp = x + rand_gauss(err_basis, err_sigma)\n",
    "#        print(x,xp)\n",
    "        val = like.value(xp)\n",
    "        fp = exp(fopt-val)\n",
    "#        print(fp>f or rand(1)>fp/f,f,val,fopt-val,fp)\n",
    "        if(fp>f or rand(1)<fp/f):\n",
    "            accept += 1\n",
    "            x = xp\n",
    "            f = fp\n",
    "\n",
    "            ses_y = asarray(model.n_electron_spectrum(1));\n",
    "            ses_x = asarray(list(map(lambda i: model.ses_x(i), range(0,len(ses_y)))))\n",
    "            ses_norm = sum(ses_y)\n",
    "            ses_mean = sum(ses_y*ses_x)\n",
    "            ses_rms = sqrt(sum(ses_y*ses_x*ses_x) - ses_mean**2)\n",
    "            lqp = sum(ses_y[ses_x<0.2*ses_mean])\n",
    "        if(i<100):\n",
    "            next\n",
    "        g_all.append(ses_mean)\n",
    "        r_all.append(ses_rms/ses_mean)\n",
    "        p0_all.append(x[0])\n",
    "        lqp_all.append(lqp)\n",
    "    return accept, g_all, r_all, p0_all, lqp_all"
   ]
  },
  {
   "cell_type": "markdown",
   "metadata": {},
   "source": [
    "**Exponential/Gaussian**"
   ]
  },
  {
   "cell_type": "code",
   "execution_count": 10,
   "metadata": {
    "collapsed": false
   },
   "outputs": [
    {
     "name": "stdout",
     "output_type": "stream",
     "text": [
      "4271\n"
     ]
    }
   ],
   "source": [
    "accept, g_eg_all, r_eg_all, p0_eg_all, lqp_eg_all = \\\n",
    "    mcmc(mes_model_eg, like_eg, xopt_eg, fval_eg, evec_eg,sqrt(eval_eg)*0.6)\n",
    "print(accept)"
   ]
  },
  {
   "cell_type": "code",
   "execution_count": 11,
   "metadata": {
    "collapsed": false
   },
   "outputs": [
    {
     "name": "stdout",
     "output_type": "stream",
     "text": [
      "1.21933151044 0.026963521827\n",
      "399.757089896 7.48082456046\n",
      "0.511546727952 0.0153828490176\n",
      "0.106211621317 0.00975583549065\n"
     ]
    }
   ],
   "source": [
    "print(mean(p0_eg_all), std(p0_eg_all))\n",
    "print(mean(g_eg_all), std(g_eg_all))\n",
    "print(mean(r_eg_all), std(r_eg_all))\n",
    "print(mean(lqp_eg_all), std(lqp_eg_all))"
   ]
  },
  {
   "cell_type": "code",
   "execution_count": 37,
   "metadata": {
    "collapsed": false
   },
   "outputs": [
    {
     "data": {
      "image/png": "[encoded data removed]",
      "text/plain": [
       "<matplotlib.figure.Figure at 0x107db9860>"
      ]
     },
     "metadata": {},
     "output_type": "display_data"
    }
   ],
   "source": [
    "hx = frange(0.05,0.17,0.001)\n",
    "heg = hist(lqp_eg_all,hx);"
   ]
  },
  {
   "cell_type": "markdown",
   "metadata": {},
   "source": [
    "**Double Gaussian**"
   ]
  },
  {
   "cell_type": "code",
   "execution_count": 13,
   "metadata": {
    "collapsed": false
   },
   "outputs": [
    {
     "name": "stdout",
     "output_type": "stream",
     "text": [
      "3937\n"
     ]
    }
   ],
   "source": [
    "accept, g_2g_all, r_2g_all, p0_2g_all, lqp_2g_all = \\\n",
    "    mcmc(mes_model_2g, freezer, xopt_2g, fval_2g, evec_2g, sqrt(eval_2g)*0.6)\n",
    "print(accept)"
   ]
  },
  {
   "cell_type": "code",
   "execution_count": 14,
   "metadata": {
    "collapsed": false
   },
   "outputs": [
    {
     "name": "stdout",
     "output_type": "stream",
     "text": [
      "1.17846669035 0.0213522007812\n",
      "412.204772586 5.94779236748\n",
      "0.460707514578 0.0133512228879\n",
      "0.0762589612457 0.00698167941995\n"
     ]
    }
   ],
   "source": [
    "print(mean(p0_2g_all), std(p0_2g_all))\n",
    "print(mean(g_2g_all), std(g_2g_all))\n",
    "print(mean(r_2g_all), std(r_2g_all))\n",
    "print(mean(lqp_2g_all), std(lqp_2g_all))"
   ]
  },
  {
   "cell_type": "code",
   "execution_count": 24,
   "metadata": {
    "collapsed": false
   },
   "outputs": [
    {
     "data": {
      "image/png": "[encoded data removed]",
      "text/plain": [
       "<matplotlib.figure.Figure at 0x1070f44a8>"
      ]
     },
     "metadata": {},
     "output_type": "display_data"
    }
   ],
   "source": [
    "h2g = hist(lqp_2g_all, hx);"
   ]
  },
  {
   "cell_type": "code",
   "execution_count": 38,
   "metadata": {
    "collapsed": false
   },
   "outputs": [
    {
     "data": {
      "text/plain": [
       "[<matplotlib.lines.Line2D at 0x107ba0908>]"
      ]
     },
     "execution_count": 38,
     "metadata": {},
     "output_type": "execute_result"
    },
    {
     "data": {
      "image/png": "[encoded data removed]",
      "text/plain": [
       "<matplotlib.figure.Figure at 0x107b50860>"
      ]
     },
     "metadata": {},
     "output_type": "display_data"
    }
   ],
   "source": [
    "step(0.5*(hx[0:-1]+hx[1:]),h2g[0])\n",
    "hold('on')\n",
    "step(0.5*(hx[0:-1]+hx[1:]),heg[0],'r')"
   ]
  },
  {
   "cell_type": "code",
   "execution_count": 28,
   "metadata": {
    "collapsed": false
   },
   "outputs": [
    {
     "data": {
      "text/plain": [
       "121"
      ]
     },
     "execution_count": 28,
     "metadata": {},
     "output_type": "execute_result"
    }
   ],
   "source": [
    "len(hx)"
   ]
  },
  {
   "cell_type": "code",
   "execution_count": null,
   "metadata": {
    "collapsed": true
   },
   "outputs": [],
   "source": []
  }
 ],
 "metadata": {
  "kernelspec": {
   "display_name": "Python 3",
   "language": "python",
   "name": "python3"
  },
  "language_info": {
   "codemirror_mode": {
    "name": "ipython",
    "version": 3
   },
   "file_extension": ".py",
   "mimetype": "text/x-python",
   "name": "python",
   "nbconvert_exporter": "python",
   "pygments_lexer": "ipython3",
   "version": "3.4.3"
  }
 },
 "nbformat": 4,
 "nbformat_minor": 0
}
