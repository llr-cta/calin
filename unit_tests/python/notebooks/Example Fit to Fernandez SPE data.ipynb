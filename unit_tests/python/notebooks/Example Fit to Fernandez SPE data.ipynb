{
 "cells": [
  {
   "cell_type": "code",
   "execution_count": 1,
   "metadata": {
    "collapsed": false
   },
   "outputs": [
    {
     "name": "stdout",
     "output_type": "stream",
     "text": [
      "Populating the interactive namespace from numpy and matplotlib\n"
     ]
    }
   ],
   "source": [
    "%pylab inline\n",
    "import calin.calib.spe_fit\n",
    "import calin.math.histogram\n",
    "import calin.math.optimizer\n",
    "import calin.math.pdf_1d"
   ]
  },
  {
   "cell_type": "markdown",
   "metadata": {},
   "source": [
    "## Load data and plot histogram"
   ]
  },
  {
   "cell_type": "code",
   "execution_count": 2,
   "metadata": {
    "collapsed": false
   },
   "outputs": [],
   "source": [
    "fernandez_data = loadtxt('../../calib/fernandez_dc_1.5kV_6.45V.dat');\n",
    "mes_hist = calin.math.histogram.SimpleHist(1.0)\n",
    "mes_hist.insert_vec(fernandez_data);"
   ]
  },
  {
   "cell_type": "code",
   "execution_count": 3,
   "metadata": {
    "collapsed": false
   },
   "outputs": [
    {
     "data": {
      "image/png": "[encoded data removed]",
      "text/plain": [
       "<matplotlib.figure.Figure at 0x110879160>"
      ]
     },
     "metadata": {},
     "output_type": "display_data"
    }
   ],
   "source": [
    "mes_hist_plot = calin.math.histogram.SimpleHist(20.0)\n",
    "mes_hist_plot.insert_vec(fernandez_data);\n",
    "\n",
    "ihist = range(0,mes_hist_plot.nbin());\n",
    "xhist_plot = list(map(lambda i: mes_hist_plot.xval_center(i),ihist))\n",
    "yhist_plot = list(map(lambda i: mes_hist_plot.weight(i),ihist))\n",
    "step(xhist_plot,yhist_plot,'k')\n",
    "xlabel('Signal [DC]')\n",
    "ylabel('Events per 20 DC bin')\n",
    "axis([0,2500,0,600])\n",
    "gcf().savefig('../../../mybuild/fernandez_data.pdf')"
   ]
  },
  {
   "cell_type": "markdown",
   "metadata": {},
   "source": [
    "## Fit of single-Gaussian model"
   ]
  },
  {
   "cell_type": "code",
   "execution_count": 4,
   "metadata": {
    "collapsed": true
   },
   "outputs": [],
   "source": [
    "ped_gauss_pdf = calin.math.pdf_1d.GaussianPDF()"
   ]
  },
  {
   "cell_type": "code",
   "execution_count": 5,
   "metadata": {
    "collapsed": false
   },
   "outputs": [
    {
     "name": "stdout",
     "output_type": "stream",
     "text": [
      "Minimization starting using Hello. Naxis = 5.\n",
      "List of function domain axes: \n",
      "Num Name            Lo bound Hi bound Stepsize\n",
      "0   light_intensity 0.01     2        1       \n",
      "1   ped.mean        300      400      1       \n",
      "2   ped.rms         0.1      100.1    1       \n",
      "3   ses.mean        100      1000     1       \n",
      "4   ses.rms         10       500      1       \n",
      "1    81875.361  1          355        10         500        200       \n",
      "2    81316.763  2          354.96321  10.249637  499.9992   200.00579 \n",
      "3    80877.349  1.7050732  354.95564  10.305112  499.99777  200.00808 \n",
      "4    80587.408  1.3335123  354.90642  10.641047  499.993    200.01851 \n",
      "5    80365.884  1.3313025  354.86351  10.932399  499.98954  200.02701 \n",
      "6    73673.92   1.1962753  352.24159  28.734784  499.7783   200.54628 \n",
      "7    73440.755  0.73984342 351.48993  33.951294  499.70738  200.68715 \n",
      "8    72985.417  0.99248992 351.33102  35.022967  499.69587  200.72002 \n",
      "9    72838.126  1.0105892  350.89434  38.03016   499.65744  200.80435 \n",
      "10   72693.12   1.0090503  350.08739  43.699227  499.57959  200.96153 \n",
      "11   72656.149  0.99553291 350.03394  47.072359  499.39867  201.00255 \n",
      "12   72646.799  0.98705076 350.06463  49.373712  499.25312  201.02085 \n",
      "13   72645.571  0.98616939 350.13624  50.106361  499.18637  201.01766 \n",
      "14   72630.721  0.9843848  352.0221   50.523083  498.50274  200.69983 \n",
      "15   72602.864  0.98356765 358.07926  50.631244  494.43622  198.51803 \n",
      "16   72598.44   0.98535606 359.16761  50.996303  492.60927  197.47447 \n",
      "17   72584.723  0.99443469 361.69597  52.100352  485.38387  193.24846 \n",
      "18   72567.74   1.009214   363.45172  52.99726   475.01981  187.06467 \n",
      "19   72544.305  1.0354284  363.94763  53.388063  458.5601   177.05789 \n",
      "20   72528.074  1.0548162  361.81261  52.348171  449.3467   171.17467 \n",
      "21   72520.509  1.0626371  358.55505  50.579797  448.61359  170.35542 \n",
      "22   72520.175  1.0590592  358.27553  50.506478  450.5768   171.17262 \n",
      "23   72520.111  1.0568756  358.23098  50.497251  451.39006  171.41721 \n",
      "24   72520.053  1.0551069  358.21574  50.499207  451.94226  171.43885 \n",
      "25   72519.893  1.0515443  358.21992  50.53176   453.03462  171.1314  \n",
      "26   72519.605  1.047255   358.28401  50.62667   454.4594   170.07298 \n",
      "27   72519.198  1.0440243  358.45082  50.816936  455.84517  167.85803 \n",
      "28   72518.917  1.0453527  358.63966  51.00113   455.96892  165.76383 \n",
      "29   72518.837  1.0486621  358.72428  51.062971  455.2412   165.14978 \n",
      "30   72518.832  1.0498096  358.72499  51.05159   454.94186  165.25141 \n",
      "31   72518.831  1.0498977  358.72195  51.04716   454.9235   165.2823  \n",
      "32   72518.831  1.0499019  358.72166  51.04688   454.92517  165.28481 \n",
      "0 [   1.04990191  358.72165658   51.04687963  454.92516744  165.28480598] 72518.83149087397\n",
      "[ 0.01317109  1.00096589  0.81565011  3.937259    3.9766476 ]\n"
     ]
    }
   ],
   "source": [
    "ses_g_pdf = calin.math.pdf_1d.LimitedGaussianPDF(0,numpy.inf)\n",
    "mes_model_g = calin.calib.spe_fit.GeneralPoissonMES(mes_hist.xval_left(0), mes_hist.dxval(),\\\n",
    "        mes_hist.size(), ses_g_pdf, ped_gauss_pdf)\n",
    "like_g = calin.calib.spe_fit.SPELikelihood(mes_model_g, mes_hist)\n",
    "opt_g = calin.math.optimizer.NLOptOptimizer(\"LD_LBFGS\", like_g)\n",
    "opt_g.set_verbosity_level(calin.math.optimizer.OptimizerVerbosityLevel_MAX);\n",
    "opt_g.set_abs_tolerance(0.0001);\n",
    "opt_g.set_initial_values([1.0, 355.0, 10.0, 500.0, 200.0]);\n",
    "opt_g.set_limits_lo([0.01, 300.0, 0.1, 100.0, 10.0])\n",
    "opt_g.set_limits_hi([2.0,  400.0, 100.0, 1000.0, 500.0])\n",
    "status, xopt_g, fval_g = opt_g.minimize()\n",
    "print(status, xopt_g, fval_g)\n",
    "status, err_mat_g = opt_g.calc_error_matrix()\n",
    "xerr_g = sqrt(err_mat_g.diagonal())\n",
    "print(xerr_g)"
   ]
  },
  {
   "cell_type": "code",
   "execution_count": 6,
   "metadata": {
    "collapsed": false
   },
   "outputs": [
    {
     "data": {
      "image/png": "[encoded data removed]",
      "text/plain": [
       "<matplotlib.figure.Figure at 0x110a1d320>"
      ]
     },
     "metadata": {},
     "output_type": "display_data"
    }
   ],
   "source": [
    "ihist = range(0,mes_hist_plot.nbin());\n",
    "xhist_plot = list(map(lambda i: mes_hist_plot.xval_center(i),ihist))\n",
    "yhist_plot = list(map(lambda i: mes_hist_plot.weight(i),ihist))\n",
    "step(xhist_plot,yhist_plot,'k')\n",
    "\n",
    "ihist = range(0,mes_hist.nbin());\n",
    "xhist = list(map(lambda i: mes_hist.xval_center(i),ihist))\n",
    "mes_model_g.set_parameter_values(xopt_g)\n",
    "ymodel_g = \\\n",
    "    list(map(lambda x: mes_hist_plot.sum_w()*mes_hist_plot.dxval()*mes_model_g.pdf_mes(x),xhist))\n",
    "hold('on')\n",
    "plot(xhist,ymodel_g,'g',lw=1, label='Gaussian')\n",
    "legend()\n",
    "xlabel('Signal [DC]')\n",
    "ylabel('Events per 20 DC bin')\n",
    "axis([0,2500,0,600])\n",
    "gcf().savefig('../../../mybuild/fernandez_gaussian_fit.pdf')"
   ]
  },
  {
   "cell_type": "markdown",
   "metadata": {},
   "source": [
    "## Fit of exponential/Gaussian model"
   ]
  },
  {
   "cell_type": "code",
   "execution_count": 7,
   "metadata": {
    "collapsed": false
   },
   "outputs": [
    {
     "name": "stdout",
     "output_type": "stream",
     "text": [
      "Minimization starting using Hello. Naxis = 7.\n",
      "List of function domain axes: \n",
      "Num Name                Lo bound Hi bound Stepsize\n",
      "0   light_intensity     0.01     2        1       \n",
      "1   ped.mean            300      400      1       \n",
      "2   ped.rms             0.1      100.1    1       \n",
      "3   ses.exp probability 0        1        1       \n",
      "4   ses.exp.scale       10       500      1       \n",
      "5   ses.gauss.mean      100      1000     1       \n",
      "6   ses.gauss.rms       10       500      1       \n",
      "1    81082.563  1          355        10         0.1        200        500        200       \n",
      "2    81050.119  2          354.96089  10.213191  0.98628597 199.99978  500.00116  200.00232 \n",
      "3    79252.161  2          354.97495  10.127464  0.36879692 200.00083  500.00061  200.00121 \n",
      "4    79155.666  2          354.96341  10.174769  0.45201889 200.00101  500.00081  200.00156 \n",
      "5    79103.191  2          354.94054  10.260414  0.50641871 200.00129  500.00127  200.00208 \n",
      "6    79013.967  2          354.88434  10.465686  0.56786646 200.00197  500.00242  200.00326 \n",
      "7    78766.905  2          354.69852  11.138231  0.68309944 200.0043   500.00621  200.00702 \n",
      "8    78258.939  2          354.27631  12.658607  0.83192038 200.00994  500.01471  200.01536 \n",
      "9    77277.6    2          353.34356  16.007822  0.99643305 200.0231   500.03313  200.03356 \n",
      "10   75576.408  2          352.28041  19.812417  0.9488034  200.03876  500.05371  200.05415 \n",
      "11   74084.729  2          350.75931  25.236128  0.82105192 200.06018  500.08335  200.08353 \n",
      "12   73548.937  2          349.4062   30.055594  0.75783037 200.07886  500.1097   200.10948 \n",
      "13   73269.589  1.358748   348.09329  34.694026  0.71946096 200.09568  500.13483  200.13375 \n",
      "14   72863.347  1.5206531  347.12408  38.143426  0.61522246 200.10892  500.15378  200.15222 \n",
      "15   72707.409  1.3901545  345.98147  42.193028  0.49268028 200.12393  500.17591  200.17354 \n",
      "16   72639.833  1.2318287  345.03042  45.563991  0.36420527 200.13576  500.19426  200.19026 \n",
      "17   72625.864  1.1976029  344.79602  46.407863  0.30106878 200.13769  500.19844  200.1922  \n",
      "18   72621.563  1.1755094  344.80247  46.39491   0.26660849 200.13674  500.19795  200.19011 \n",
      "19   72618.621  1.1633436  344.97572  45.792881  0.24662817 200.13364  500.19408  200.18471 \n",
      "20   72616.681  1.1597049  345.26054  44.800242  0.24238551 200.12923  500.18783  200.17702 \n",
      "21   72616.071  1.1646456  345.42248  44.302764  0.25147244 200.12674  500.18192  200.16762 \n",
      "22   72615.935  1.1669655  345.47413  44.180017  0.25735266 200.12589  500.17875  200.1618  \n",
      "23   72615.869  1.1683885  345.49582  44.152212  0.25992753 200.12544  500.17657  200.15743 \n",
      "24   72615.63   1.1708553  345.56356  44.108729  0.26523364 200.12383  500.16822  200.14016 \n",
      "25   72615.066  1.1741243  345.71684  44.066841  0.27234809 200.11986  500.14731  200.09634 \n",
      "26   72613.581  1.1774165  346.10759  44.063298  0.28184835 200.10914  500.09032  199.97591 \n",
      "27   72610.036  1.177809   347.03109  44.21516   0.29056919 200.0829   499.94987  199.67775 \n",
      "28   72602.568  1.166969   349.01318  44.792654  0.2882817  200.02514  499.63936  199.01652 \n",
      "29   72591.705  1.1362213  352.105    46.026075  0.25761873 199.93316  499.1427   197.95646 \n",
      "30   72582.977  1.1010511  354.51742  47.365164  0.20516628 199.85372  498.67987  196.99587 \n",
      "31   72579.65   1.0812388  355.0821   47.989993  0.16565436 199.83     498.52361  196.68422 \n",
      "32   72579.193  1.0771442  354.74516  47.991247  0.15464606 199.8377   498.55633  196.76103 \n",
      "33   72579.166  1.0776308  354.58604  47.920046  0.15462914 199.84224  498.57984  196.81242 \n",
      "34   72579.147  1.0779774  354.51639  47.878954  0.15504007 199.84409  498.58784  196.8316  \n",
      "35   72579.02   1.0793966  354.30159  47.74629   0.15656826 199.8485   498.59128  196.85814 \n",
      "36   72578.589  1.081892   353.87162  47.481822  0.15945602 199.85297  498.52766  196.8025  \n",
      "37   72577.508  1.0868297  353.21124  47.079368  0.16415399 199.84877  498.25207  196.44246 \n",
      "38   72574.658  1.0938325  352.18826  46.4746    0.17069922 199.81182  497.33477  195.12744 \n",
      "39   72567.41   1.1086014  350.67672  45.614467  0.18091478 199.6774   494.69489  191.20085 \n",
      "40   72550.535  1.1296618  348.85159  44.67179   0.19193068 199.29284  487.93088  180.93569 \n",
      "41   72523.341  1.1650062  347.92289  44.334797  0.20374009 198.51406  475.10472  161.21761 \n",
      "42   72502.749  1.1822651  349.90215  45.432626  0.21095085 197.95394  466.70393  148.0401  \n",
      "43   72490.727  1.1711452  353.52784  47.23067   0.20161435 197.84273  466.05405  146.66222 \n",
      "44   72489.559  1.1468848  354.98164  48.135646  0.17794687 197.84913  466.63814  147.40496 \n",
      "45   72489.517  1.1509887  354.98203  48.18613   0.18056486 197.87272  467.02289  147.99138 \n",
      "46   72489.51   1.150113   354.96374  48.18117   0.1801666  197.86531  466.89738  147.80019 \n",
      "47   72489.51   1.1500952  354.96465  48.181817  0.18012088 197.86473  466.88891  147.78633 \n",
      "48   72489.508  1.1499017  354.97453  48.188863  0.1796229  197.85838  466.79666  147.63532 \n",
      "49   72489.502  1.1498007  354.97408  48.191942  0.17965141 197.85802  466.79927  147.62913 \n",
      "50   72489.387  1.1453339  354.95443  48.328054  0.18091209 197.84201  466.91471  147.35582 \n",
      "51   72489.11   1.1460278  354.93612  48.327779  0.1821588  197.82612  467.09855  147.11201 \n",
      "52   72472.734  1.2288701  352.7504   48.294997  0.33099715 195.92965  489.04593  118.00514 \n",
      "53   72467.805  1.2097572  352.24023  47.302773  0.29665451 196.25032  489.22927  124.09602 \n",
      "54   72466.985  1.2207258  351.01902  46.234541  0.31968714 195.98299  494.39789  120.49017 \n",
      "55   72466.898  1.2192248  351.24017  46.43441   0.31472685 196.05075  492.88302  121.30555 \n",
      "56   72466.897  1.2194903  351.23975  46.440206  0.31510795 196.04079  492.99103  121.15274 \n",
      "57   72466.897  1.2196077  351.23083  46.432873  0.3152786  196.04168  492.9989   121.16987 \n",
      "58   72466.897  1.2195805  351.23223  46.433752  0.31522084 196.04191  492.99118  121.17197 \n",
      "0 [  1.21958051e+00   3.51232226e+02   4.64337521e+01   3.15220837e-01\n",
      "   1.96041908e+02   4.92991177e+02   1.21171969e+02] 72466.89689790118\n",
      "[  2.64562095e-02   1.25234717e+00   8.48858011e-01   3.37915847e-02\n",
      "   3.71103114e+01   3.94208111e+00   5.33882098e+00]\n"
     ]
    }
   ],
   "source": [
    "ses_eg_exp_pdf = calin.math.pdf_1d.LimitedExponentialPDF(0,numpy.inf,mes_hist.dxval())\n",
    "ses_eg_exp_pdf.limit_scale(0.1, inf);\n",
    "ses_eg_gauss_pdf = calin.math.pdf_1d.LimitedGaussianPDF(0,numpy.inf)\n",
    "ses_eg_pdf = calin.math.pdf_1d.TwoComponentPDF(ses_eg_exp_pdf, \"exp\", ses_eg_gauss_pdf, \"gauss\")\n",
    "mes_model_eg = calin.calib.spe_fit.GeneralPoissonMES(mes_hist.xval_left(0), mes_hist.dxval(),\\\n",
    "        mes_hist.size(), ses_eg_pdf, ped_gauss_pdf)\n",
    "like_eg = calin.calib.spe_fit.SPELikelihood(mes_model_eg, mes_hist)\n",
    "opt_eg = calin.math.optimizer.NLOptOptimizer(\"LD_LBFGS\", like_eg)\n",
    "#opt_eg.set_scale([0.1,0.1,1.0,0.01,1.0,1.0,0.05]);\n",
    "opt_eg.set_verbosity_level(calin.math.optimizer.OptimizerVerbosityLevel_MAX);\n",
    "opt_eg.set_abs_tolerance(0.0001);\n",
    "opt_eg.set_max_iterations(1000);\n",
    "opt_eg.set_initial_values([1.0, 355.0, 10.0, 0.1, 200.0, 500.0, 200.0]);\n",
    "opt_eg.set_limits_lo([0.01, 300.0, 0.1, 0.0, 10.0, 100.0, 10.0])\n",
    "opt_eg.set_limits_hi([2.0,  400.0, 100.1, 1.0, 500.0, 1000.0, 500.0])\n",
    "status, xopt_eg, fval_eg = opt_eg.minimize()\n",
    "print(status, xopt_eg, fval_eg)\n",
    "status, err_mat_eg = opt_eg.calc_error_matrix()\n",
    "xerr_eg = sqrt(err_mat_eg.diagonal())\n",
    "print(xerr_eg)"
   ]
  },
  {
   "cell_type": "markdown",
   "metadata": {},
   "source": [
    "## Fit of double-Gaussian model\n",
    "\n",
    "Mean of one of the Gaussians is fixed at zero in the fit"
   ]
  },
  {
   "cell_type": "code",
   "execution_count": 8,
   "metadata": {
    "collapsed": false
   },
   "outputs": [
    {
     "name": "stdout",
     "output_type": "stream",
     "text": [
      "Minimization starting using Hello. Naxis = 7.\n",
      "List of function domain axes: \n",
      "Num Name               Lo bound Hi bound Stepsize\n",
      "0   light_intensity    0        inf      1       \n",
      "1   ped.mean           -inf     inf      1       \n",
      "2   ped.rms            2.22507e-308 inf      1       \n",
      "3   ses.g1 probability 0        1        1       \n",
      "4   ses.g1.rms         2.22507e-308 inf      1       \n",
      "5   ses.g2.mean        -inf     inf      1       \n",
      "6   ses.g2.rms         2.22507e-308 inf      1       \n",
      "1    81120.863  1          355        10         0.1        200        500        200       \n",
      "2    86557.459  2.2445569  354.95138  10.26544   1          199.99936  500.00163  200.00285 \n",
      "3    80403.297  1.7796361  354.96954  10.166281  0.66379299 199.9996   500.00102  200.00179 \n",
      "4    79329.931  1.9188809  354.95683  10.218247  0.37320327 199.99989  500.00156  200.00221 \n",
      "5    79311.044  1.9073881  354.9499   10.244068  0.36728869 199.99979  500.00174  200.00239 \n",
      "6    79008.69   1.4869636  354.69651  11.188653  0.15092466 199.99617  500.00835  200.00895 \n",
      "7    78613.478  1.4962493  354.59914  11.56602   0.21239356 199.99493  500.01085  200.01173 \n",
      "8    76470.399  1.1769638  353.50681  15.757114  0.37874685 199.98053  500.03912  200.04202 \n",
      "9    74617.959  1.2954295  351.89314  21.968441  0.59328636 199.95951  500.08104  200.08658 \n",
      "10   73861.578  1.5457514  351.18229  24.711022  0.57963043 199.95209  500.09949  200.10662 \n",
      "11   73221.216  1.511764   349.86174  29.780912  0.52260719 199.9372   500.13353  200.14316 \n",
      "12   72839.371  1.3623907  348.52869  34.905702  0.4179743  199.92273  500.16746  200.17883 \n",
      "13   72663.48   1.2022568  347.30176  39.657455  0.29396054 199.90915  500.19808  200.20878 \n",
      "14   72623.235  1.1484824  346.56808  42.524837  0.21552068 199.9005   500.21585  200.22445 \n",
      "15   72618.76   1.1310095  346.25587  43.751759  0.18895821 199.89677  500.2232   200.23071 \n",
      "16   72617.986  1.1284757  346.13497  44.236056  0.18459687 199.89528  500.22574  200.23255 \n",
      "17   72617.234  1.1295093  346.02585  44.730139  0.18651818 199.89373  500.2262   200.2303  \n",
      "18   72616.83   1.1346082  345.98797  44.977342  0.19311109 199.89289  500.22396  200.22426 \n",
      "19   72616.713  1.1378588  346.00149  44.989751  0.19794382 199.8928   500.22156  200.21941 \n",
      "20   72616.649  1.1397916  346.02538  44.946961  0.2006132  199.89289  500.21939  200.21534 \n",
      "21   72616.51   1.1421895  346.07626  44.867378  0.20411774 199.89305  500.21442  200.20582 \n",
      "22   72616.156  1.1456457  346.19102  44.741088  0.20923328 199.8932   500.20153  200.18056 \n",
      "23   72615.249  1.1501986  346.45708  44.56725   0.21642505 199.89313  500.16792  200.11354 \n",
      "24   72612.985  1.1548812  347.07547  44.385693  0.22508799 199.89213  500.08283  199.94193 \n",
      "25   72607.777  1.1552714  348.4417   44.364909  0.23089341 199.88853  499.88284  199.5357  \n",
      "26   72598.021  1.1408922  350.99659  44.910367  0.22165389 199.87967  499.49034  198.7342  \n",
      "27   72586.732  1.1058752  354.07537  46.304453  0.18549675 199.8664   498.99228  197.71276 \n",
      "28   72580.94   1.0769226  355.47476  47.623012  0.14536184 199.85789  498.73896  197.1908  \n",
      "29   72579.709  1.0670445  355.27409  48.073814  0.12782348 199.85682  498.7508   197.21292 \n",
      "30   72579.618  1.0662409  354.98507  48.065226  0.12560092 199.85765  498.79263  197.29835 \n",
      "31   72579.612  1.0664837  354.92537  48.031872  0.1258366  199.85796  498.80174  197.31745 \n",
      "32   72579.576  1.0667813  354.87237  47.992353  0.12612811 199.85858  498.80273  197.32383 \n",
      "33   72579.416  1.0694786  354.39213  47.63425   0.12876968 199.8642   498.81175  197.38168 \n",
      "34   72579.046  1.0694782  354.40656  47.628844  0.12870656 199.86739  498.73199  197.25919 \n",
      "35   72518.283  1.0693328  359.10289  45.869967  0.10817188 200.90689  472.78046  157.40618 \n",
      "36   72493.389  1.1301202  356.95943  47.655867  0.13340737 201.09852  468.35364  150.77632 \n",
      "37   72490.902  1.1237826  355.67812  48.56628   0.13644199 201.13749  467.56332  149.64501 \n",
      "38   72490.816  1.1293407  355.65587  48.544694  0.13746027 201.13576  467.6111   149.71905 \n",
      "39   72490.815  1.1294138  355.67857  48.54695   0.13745687 201.14022  467.49812  149.54499 \n",
      "40   72490.809  1.1293631  355.6743   48.546942  0.1375659  201.13809  467.54306  149.60382 \n",
      "41   72490.784  1.1288868  355.63419  48.546863  0.13858965 201.11813  467.96501  150.15615 \n",
      "42   72490.73   1.1288845  355.62423  48.54772   0.13853134 201.11277  468.02221  150.14454 \n",
      "43   72488.175  1.1286702  354.68013  48.628939  0.13300367 200.60464  473.44372  149.04366 \n",
      "44   72482.363  1.1383824  354.26152  48.413437  0.15412578 200.10178  477.56863  144.47231 \n",
      "45   72467.483  1.1920051  351.95034  47.223603  0.27074513 197.32536  500.34307  119.23299 \n",
      "46   72466.819  1.1795346  352.70463  47.186796  0.23570728 198.45249  490.39957  127.3723  \n",
      "47   72465.736  1.1885449  352.27705  46.913141  0.25386962 198.00076  494.0285   123.0236  \n",
      "48   72465.72   1.1892912  352.2124   46.885334  0.25575474 197.92356  494.73533  122.5316  \n",
      "49   72465.719  1.1893165  352.21332  46.88113   0.25563983 197.9329   494.65434  122.59897 \n",
      "50   72465.719  1.1892958  352.21486  46.882233  0.25558369 197.93338  494.64782  122.59558 \n",
      "51   72465.719  1.1893065  352.21411  46.88178   0.25560438 197.93306  494.6515   122.59567 \n",
      "0 [  1.18930651e+00   3.52214112e+02   4.68817801e+01   2.55604381e-01\n",
      "   1.97933056e+02   4.94651503e+02   1.22595667e+02] 72465.71924673254\n",
      "[  2.28578694e-02   1.23422946e+00   8.53107004e-01   3.75721405e-02\n",
      "   4.83967494e+01   7.41946377e+00   5.75780876e+00]\n"
     ]
    }
   ],
   "source": [
    "ses_2g_g1_pdf = calin.math.pdf_1d.LimitedGaussianPDF(0,numpy.inf)\n",
    "ses_2g_g2_pdf = calin.math.pdf_1d.LimitedGaussianPDF(0,numpy.inf)\n",
    "ses_2g_pdf = calin.math.pdf_1d.TwoComponentPDF(ses_2g_g1_pdf, \"g1\", ses_2g_g2_pdf, \"g2\")\n",
    "mes_model_2g = calin.calib.spe_fit.GeneralPoissonMES(mes_hist.xval_left(0), mes_hist.dxval(),\\\n",
    "        mes_hist.size(), ses_2g_pdf, ped_gauss_pdf)\n",
    "like_2g = calin.calib.spe_fit.SPELikelihood(mes_model_2g, mes_hist)\n",
    "freezer = calin.math.function.FreezeThawFunction(like_2g)\n",
    "freezer.freeze(4,0)\n",
    "opt_2g = calin.math.optimizer.NLOptOptimizer(\"LD_LBFGS\", freezer)\n",
    "#opt_2g.set_scale([0.1,0.1,1.0,0.01,1.0,1.0,0.05]);\n",
    "opt_2g.set_verbosity_level(calin.math.optimizer.OptimizerVerbosityLevel_MAX);\n",
    "opt_2g.set_abs_tolerance(0.0001);\n",
    "opt_2g.set_initial_values([1.0, 355.0, 10.0, 0.1, 200.0, 500.0, 200.0]);\n",
    "status, xopt_2g, fval_2g = opt_2g.minimize()\n",
    "print(status, xopt_2g, fval_2g)\n",
    "status, err_mat_2g = opt_2g.calc_error_matrix()\n",
    "xerr_2g = sqrt(err_mat_2g.diagonal())\n",
    "print(xerr_2g)"
   ]
  },
  {
   "cell_type": "markdown",
   "metadata": {},
   "source": [
    "## Draw MES and SES plots"
   ]
  },
  {
   "cell_type": "code",
   "execution_count": 9,
   "metadata": {
    "collapsed": false
   },
   "outputs": [
    {
     "data": {
      "image/png": "[encoded data removed]",
      "text/plain": [
       "<matplotlib.figure.Figure at 0x1123487f0>"
      ]
     },
     "metadata": {},
     "output_type": "display_data"
    }
   ],
   "source": [
    "mes_hist_plot = calin.math.histogram.SimpleHist(20.0)\n",
    "mes_hist_plot.insert_vec(fernandez_data);\n",
    "\n",
    "ihist = range(0,mes_hist_plot.nbin());\n",
    "xhist_plot = list(map(lambda i: mes_hist_plot.xval_center(i),ihist))\n",
    "yhist_plot = list(map(lambda i: mes_hist_plot.weight(i),ihist))\n",
    "step(xhist_plot,yhist_plot,'k')\n",
    "xlabel('Signal [DC]')\n",
    "ylabel('Events per 20 DC bin')\n",
    "\n",
    "ihist = range(0,mes_hist.nbin());\n",
    "xhist = list(map(lambda i: mes_hist.xval_center(i),ihist))\n",
    "\n",
    "mes_model_g.set_parameter_values(xopt_g)\n",
    "ymodel_g = \\\n",
    "    list(map(lambda x: mes_hist_plot.sum_w()*mes_hist_plot.dxval()*mes_model_g.pdf_mes(x),xhist))\n",
    "hold('on')\n",
    "plot(xhist,ymodel_g,'g',lw=1, label='Gaussian')\n",
    "\n",
    "mes_model_eg.set_parameter_values(xopt_eg)\n",
    "ymodel_eg = \\\n",
    "    list(map(lambda x: mes_hist_plot.sum_w()*mes_hist_plot.dxval()*mes_model_eg.pdf_mes(x),xhist))\n",
    "hold('on')\n",
    "plot(xhist,ymodel_eg,'r',lw=1.75, label=\"Exp/Gaussian\")\n",
    "\n",
    "mes_model_2g.set_parameter_values(freezer.x_in2out(xopt_2g))\n",
    "ymodel_2g = \\\n",
    "    list(map(lambda x: mes_hist_plot.sum_w()*mes_hist_plot.dxval()*mes_model_2g.pdf_mes(x),xhist))\n",
    "hold('on')\n",
    "plot(xhist,ymodel_2g,'b',lw=1, label='Two Gaussian')\n",
    "\n",
    "legend()\n",
    "axis([0,2500,0,600])\n",
    "gcf().savefig('../../../mybuild/fernandez_two_cpt_fits.pdf')"
   ]
  },
  {
   "cell_type": "code",
   "execution_count": 10,
   "metadata": {
    "collapsed": false
   },
   "outputs": [
    {
     "data": {
      "image/png": "[encoded data removed]",
      "text/plain": [
       "<matplotlib.figure.Figure at 0x11086ca58>"
      ]
     },
     "metadata": {},
     "output_type": "display_data"
    }
   ],
   "source": [
    "ses_g_y = asarray(mes_model_g.n_electron_spectrum(1));\n",
    "ses_g_x = ses_g_y*0;\n",
    "for i in range(0,len(ses_g_y)):\n",
    "    ses_g_x[i] = mes_model_g.ses_x(i)\n",
    "plot(ses_g_x, ses_g_y, 'g', label='Gaussian')\n",
    "\n",
    "ses_eg_y = asarray(mes_model_eg.n_electron_spectrum(1));\n",
    "ses_eg_x = ses_eg_y*0;\n",
    "for i in range(0,len(ses_eg_y)):\n",
    "    ses_eg_x[i] = mes_model_eg.ses_x(i)\n",
    "plot(ses_eg_x, ses_eg_y, 'r', lw=1.75, label='Exp/Gaussian')\n",
    "\n",
    "ses_2g_y = asarray(mes_model_2g.n_electron_spectrum(1));\n",
    "ses_2g_x = ses_2g_y*0;\n",
    "for i in range(0,len(ses_2g_y)):\n",
    "    ses_2g_x[i] = mes_model_2g.ses_x(i)\n",
    "plot(ses_2g_x, ses_2g_y, 'b', label='Two Gaussian')\n",
    "legend()\n",
    "axis([0,1200,0,0.003])\n",
    "xlabel('Signal [DC]')\n",
    "ylabel('Probability density [1/DC]')\n",
    "gcf().savefig('../../../mybuild/fernandez_ses.pdf')"
   ]
  },
  {
   "cell_type": "markdown",
   "metadata": {},
   "source": [
    "## Calculate gain and ENF"
   ]
  },
  {
   "cell_type": "markdown",
   "metadata": {},
   "source": [
    "**Single Gaussian**"
   ]
  },
  {
   "cell_type": "code",
   "execution_count": 11,
   "metadata": {
    "collapsed": false
   },
   "outputs": [
    {
     "name": "stdout",
     "output_type": "stream",
     "text": [
      "Norm, mean, RMS:  1.00000003804 456.422854049 163.203822418\n",
      "Resolution:  0.357571539134\n",
      "ENF:  1.06200631147\n"
     ]
    }
   ],
   "source": [
    "ses_g_norm = sum(ses_g_y)\n",
    "ses_g_mean = sum(ses_g_y*ses_g_x)\n",
    "ses_g_rms = sqrt(sum(ses_g_y*ses_g_x*ses_g_x) - ses_g_mean**2)\n",
    "print(\"Norm, mean, RMS: \",ses_g_norm, ses_g_mean, ses_g_rms)\n",
    "print(\"Resolution: \",ses_g_rms/ses_g_mean)\n",
    "print(\"ENF: \",sqrt(1+(ses_g_rms/ses_g_mean)**2))"
   ]
  },
  {
   "cell_type": "markdown",
   "metadata": {},
   "source": [
    "**Exponential/Gaussian**"
   ]
  },
  {
   "cell_type": "code",
   "execution_count": 12,
   "metadata": {
    "collapsed": false
   },
   "outputs": [
    {
     "name": "stdout",
     "output_type": "stream",
     "text": [
      "Norm, mean, RMS:  1.00000000063 399.395135699 202.978840751\n",
      "Resolution:  0.508215605569\n",
      "ENF:  1.12173218807\n"
     ]
    }
   ],
   "source": [
    "ses_eg_norm = sum(ses_eg_y)\n",
    "ses_eg_mean = sum(ses_eg_y*ses_eg_x)\n",
    "ses_eg_rms = sqrt(sum(ses_eg_y*ses_eg_x*ses_eg_x) - ses_eg_mean**2)\n",
    "print(\"Norm, mean, RMS: \",ses_eg_norm, ses_eg_mean, ses_eg_rms)\n",
    "print(\"Resolution: \",ses_eg_rms/ses_eg_mean)\n",
    "print(\"ENF: \",sqrt(1+(ses_eg_rms/ses_eg_mean)**2))"
   ]
  },
  {
   "cell_type": "markdown",
   "metadata": {},
   "source": [
    "**Double Gaussian**"
   ]
  },
  {
   "cell_type": "code",
   "execution_count": 13,
   "metadata": {
    "collapsed": false
   },
   "outputs": [
    {
     "name": "stdout",
     "output_type": "stream",
     "text": [
      "Norm, mean, RMS:  1.00000000097 408.594093644 190.77971976\n",
      "Resolution:  0.466917468284\n",
      "ENF:  1.10363577424\n"
     ]
    }
   ],
   "source": [
    "ses_2g_norm = sum(ses_2g_y)\n",
    "ses_2g_mean = sum(ses_2g_y*ses_2g_x)\n",
    "ses_2g_rms = sqrt(sum(ses_2g_y*ses_2g_x*ses_2g_x) - ses_2g_mean**2)\n",
    "print(\"Norm, mean, RMS: \",ses_2g_norm, ses_2g_mean, ses_2g_rms)\n",
    "print(\"Resolution: \",ses_2g_rms/ses_2g_mean)\n",
    "print(\"ENF: \",sqrt(1+(ses_2g_rms/ses_2g_mean)**2))"
   ]
  }
 ],
 "metadata": {
  "kernelspec": {
   "display_name": "Python 3",
   "language": "python",
   "name": "python3"
  },
  "language_info": {
   "codemirror_mode": {
    "name": "ipython",
    "version": 3
   },
   "file_extension": ".py",
   "mimetype": "text/x-python",
   "name": "python",
   "nbconvert_exporter": "python",
   "pygments_lexer": "ipython3",
   "version": "3.4.3"
  }
 },
 "nbformat": 4,
 "nbformat_minor": 0
}
