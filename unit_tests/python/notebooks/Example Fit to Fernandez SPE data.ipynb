{
 "cells": [
  {
   "cell_type": "code",
   "execution_count": 1,
   "metadata": {
    "collapsed": false
   },
   "outputs": [
    {
     "name": "stdout",
     "output_type": "stream",
     "text": [
      "Populating the interactive namespace from numpy and matplotlib\n"
     ]
    }
   ],
   "source": [
    "%pylab inline\n",
    "import calin.calib.spe_fit\n",
    "import calin.math.histogram\n",
    "import calin.math.optimizer\n",
    "import calin.math.pdf_1d"
   ]
  },
  {
   "cell_type": "markdown",
   "metadata": {},
   "source": [
    "## Load data and plot histogram"
   ]
  },
  {
   "cell_type": "code",
   "execution_count": 2,
   "metadata": {
    "collapsed": false
   },
   "outputs": [],
   "source": [
    "fernandez_data = loadtxt('../../calib/fernandez_dc_1.5kV_6.45V.dat');\n",
    "mes_hist = calin.math.histogram.SimpleHist(1.0)\n",
    "mes_hist.insert_vec(fernandez_data);"
   ]
  },
  {
   "cell_type": "code",
   "execution_count": 3,
   "metadata": {
    "collapsed": false
   },
   "outputs": [
    {
     "data": {
      "image/png": "[encoded data removed]",
      "text/plain": [
       "<matplotlib.figure.Figure at 0x112a98128>"
      ]
     },
     "metadata": {},
     "output_type": "display_data"
    }
   ],
   "source": [
    "mes_hist_plot = calin.math.histogram.SimpleHist(20.0)\n",
    "mes_hist_plot.insert_vec(fernandez_data);\n",
    "\n",
    "ihist = range(0,mes_hist_plot.nbin());\n",
    "xhist_plot = list(map(lambda i: mes_hist_plot.xval_center(i),ihist))\n",
    "yhist_plot = list(map(lambda i: mes_hist_plot.weight(i),ihist))\n",
    "step(xhist_plot,yhist_plot,'k')\n",
    "xlabel('Signal [DC]')\n",
    "ylabel('Events per 20 DC bin')\n",
    "axis([0,2500,0,600])\n",
    "gcf().savefig('../../../mybuild/fernandez_data.pdf')"
   ]
  },
  {
   "cell_type": "markdown",
   "metadata": {},
   "source": [
    "## Fit of single-Gaussian model"
   ]
  },
  {
   "cell_type": "code",
   "execution_count": 4,
   "metadata": {
    "collapsed": true
   },
   "outputs": [],
   "source": [
    "ped_gauss_pdf = calin.math.pdf_1d.GaussianPDF()"
   ]
  },
  {
   "cell_type": "code",
   "execution_count": 5,
   "metadata": {
    "collapsed": false
   },
   "outputs": [
    {
     "name": "stdout",
     "output_type": "stream",
     "text": [
      "Optimization using NLOPT_LD_LBFGS (requires: gradient)\n",
      "- stopping criteria: dF < 0.0001\n",
      "- function: N_dim = 5, provides: gradient\n",
      "List of function dimensions: \n",
      "# Name            Lo bound Hi bound Stepsize\n",
      "0 light_intensity 0.01     2        1       \n",
      "1 ped.mean        300      400      1       \n",
      "2 ped.rms         0.1      100      1       \n",
      "3 ses.mean        100      1000     1       \n",
      "4 ses.rms         10       500      1       \n",
      "1   81875.36057 81875.36057        -inf       -inf     0.021\n",
      "2   81316.76299 81316.76299  -558.59758 -6.869e-03     0.035\n",
      "3   80877.34943 80877.34943  -439.41357 -5.433e-03     0.049\n",
      "4   80587.40842 80587.40842  -289.94100 -3.598e-03     0.062\n",
      "5   80365.88352 80365.88352  -221.52491 -2.756e-03     0.080\n",
      "6   73673.92029 73673.92029 -6691.96323 -9.083e-02     0.096\n",
      "7   73440.75563 73440.75563  -233.16466 -3.175e-03     0.142\n",
      "8   72985.41754 72985.41754  -455.33809 -6.239e-03     0.200\n",
      "9   72838.12615 72838.12615  -147.29139 -2.022e-03     0.222\n",
      "10  72693.12001 72693.12001  -145.00613 -1.995e-03     0.237\n",
      "11  72656.14870 72656.14870   -36.97131 -5.089e-04     0.251\n",
      "12  72646.79903 72646.79903    -9.34967 -1.287e-04     0.267\n",
      "13  72645.57137 72645.57137    -1.22765 -1.690e-05     0.289\n",
      "14  72630.72146 72630.72146   -14.84991 -2.045e-04     0.309\n",
      "15  72602.86374 72602.86374   -27.85772 -3.837e-04     0.323\n",
      "16  72598.44007 72598.44007    -4.42367 -6.093e-05     0.350\n",
      "17  72584.72341 72584.72341   -13.71666 -1.890e-04     0.370\n",
      "18  72567.73971 72567.73971   -16.98370 -2.340e-04     0.384\n",
      "19  72544.30476 72544.30476   -23.43495 -3.230e-04     0.398\n",
      "20  72528.07401 72528.07401   -16.23075 -2.238e-04     0.411\n",
      "21  72520.50923 72520.50923    -7.56478 -1.043e-04     0.429\n",
      "22  72520.17482 72520.17482    -0.33441 -4.611e-06     0.444\n",
      "23  72520.11079 72520.11079    -0.06403 -8.830e-07     0.471\n",
      "24  72520.05262 72520.05262    -0.05817 -8.021e-07     0.484\n",
      "25  72519.89253 72519.89253    -0.16009 -2.208e-06     0.498\n",
      "26  72519.60534 72519.60534    -0.28719 -3.960e-06     0.520\n",
      "27  72519.19787 72519.19787    -0.40747 -5.619e-06     0.540\n",
      "28  72518.91720 72518.91720    -0.28067 -3.870e-06     0.552\n",
      "29  72518.83683 72518.83683    -0.08037 -1.108e-06     0.573\n",
      "30  72518.83155 72518.83155    -0.00528 -7.281e-08     0.593\n",
      "31  72518.83149 72518.83149    -0.00006 -7.629e-10     0.605\n",
      "32  72518.83149 72518.83149    -0.00000 -1.094e-11     0.619\n",
      "Optimization finished with status: Tolerance reached\n",
      "- 32 function evaluations in 0.622 seconds\n",
      "- Best function value: 72518.83149\n",
      "Final position values:\n",
      "0 light_intensity 1.0499 +/- 0.0130558\n",
      "1 ped.mean        358.722 +/- 1.00894\n",
      "2 ped.rms         51.0469 +/- 0.837304\n",
      "3 ses.mean        454.925 +/- 3.87194\n",
      "4 ses.rms         165.285 +/- 3.88456\n",
      "0 [   1.04990191  358.72165658   51.04687963  454.92516744  165.28480598] 72518.83149087397\n",
      "[ 0.01317109  1.00096589  0.81565011  3.937259    3.9766476 ]\n"
     ]
    }
   ],
   "source": [
    "ses_g_pdf = calin.math.pdf_1d.LimitedGaussianPDF(0,numpy.inf)\n",
    "mes_model_g = calin.calib.spe_fit.GeneralPoissonMES(mes_hist.xval_left(0), mes_hist.dxval(),\\\n",
    "        mes_hist.size(), ses_g_pdf, ped_gauss_pdf)\n",
    "like_g = calin.calib.spe_fit.SPELikelihood(mes_model_g, mes_hist)\n",
    "opt_g = calin.math.optimizer.NLOptOptimizer(\"LD_LBFGS\", like_g)\n",
    "opt_g.set_verbosity_level(calin.math.optimizer.OptimizerVerbosityLevel_MAX);\n",
    "opt_g.set_abs_tolerance(0.0001);\n",
    "opt_g.set_initial_values([1.0, 355.0, 10.0, 500.0, 200.0]);\n",
    "opt_g.set_limits_lo([0.01, 300.0, 0.1, 100.0, 10.0])\n",
    "opt_g.set_limits_hi([2.0,  400.0, 100.0, 1000.0, 500.0])\n",
    "status, xopt_g, fval_g = opt_g.minimize()\n",
    "print(status, xopt_g, fval_g)\n",
    "status, err_mat_g = opt_g.calc_error_matrix()\n",
    "xerr_g = sqrt(err_mat_g.diagonal())\n",
    "print(xerr_g)"
   ]
  },
  {
   "cell_type": "code",
   "execution_count": 6,
   "metadata": {
    "collapsed": false
   },
   "outputs": [
    {
     "data": {
      "image/png": "[encoded data removed]",
      "text/plain": [
       "<matplotlib.figure.Figure at 0x112c29978>"
      ]
     },
     "metadata": {},
     "output_type": "display_data"
    }
   ],
   "source": [
    "ihist = range(0,mes_hist_plot.nbin());\n",
    "xhist_plot = list(map(lambda i: mes_hist_plot.xval_center(i),ihist))\n",
    "yhist_plot = list(map(lambda i: mes_hist_plot.weight(i),ihist))\n",
    "step(xhist_plot,yhist_plot,'k')\n",
    "\n",
    "ihist = range(0,mes_hist.nbin());\n",
    "xhist = list(map(lambda i: mes_hist.xval_center(i),ihist))\n",
    "mes_model_g.set_parameter_values(xopt_g)\n",
    "ymodel_g = \\\n",
    "    list(map(lambda x: mes_hist_plot.sum_w()*mes_hist_plot.dxval()*mes_model_g.pdf_mes(x),xhist))\n",
    "hold('on')\n",
    "plot(xhist,ymodel_g,'g',lw=1, label='Gaussian')\n",
    "legend()\n",
    "xlabel('Signal [DC]')\n",
    "ylabel('Events per 20 DC bin')\n",
    "axis([0,2500,0,600])\n",
    "gcf().savefig('../../../mybuild/fernandez_gaussian_fit.pdf')"
   ]
  },
  {
   "cell_type": "markdown",
   "metadata": {},
   "source": [
    "## Fit of exponential/Gaussian model"
   ]
  },
  {
   "cell_type": "code",
   "execution_count": 7,
   "metadata": {
    "collapsed": false
   },
   "outputs": [
    {
     "name": "stdout",
     "output_type": "stream",
     "text": [
      "Optimization using NLOPT_LD_LBFGS (requires: gradient)\n",
      "- stopping criteria: dF < 0.0001 or N_eval > 1000 or T_wall > 20 sec\n",
      "- function: N_dim = 7, provides: gradient\n",
      "List of function dimensions: \n",
      "# Name                Lo bound Hi bound Stepsize\n",
      "0 light_intensity     0.01     2        1       \n",
      "1 ped.mean            300      400      1       \n",
      "2 ped.rms             0.1      100.1    1       \n",
      "3 ses.exp probability 0        1        1       \n",
      "4 ses.exp.scale       10       500      1       \n",
      "5 ses.gauss.mean      100      1000     1       \n",
      "6 ses.gauss.rms       10       500      1       \n",
      "1    81082.56332 81082.56332        -inf       -inf     0.040\n",
      "2    81050.11942 81050.11942   -32.44390 -4.003e-04     0.060\n",
      "3    79252.16072 79252.16072 -1797.95870 -2.269e-02     0.092\n",
      "4    79155.66578 79155.66578   -96.49495 -1.219e-03     0.122\n",
      "5    79103.19053 79103.19053   -52.47525 -6.634e-04     0.140\n",
      "6    79013.96749 79013.96749   -89.22304 -1.129e-03     0.156\n",
      "7    78766.90514 78766.90514  -247.06235 -3.137e-03     0.219\n",
      "8    78258.93875 78258.93875  -507.96639 -6.491e-03     0.249\n",
      "9    77277.60028 77277.60028  -981.33847 -1.270e-02     0.275\n",
      "10   75576.40840 75576.40840 -1701.19188 -2.251e-02     0.349\n",
      "11   74084.72919 74084.72919 -1491.67921 -2.013e-02     0.376\n",
      "12   73548.93735 73548.93735  -535.79184 -7.285e-03     0.403\n",
      "13   73269.58901 73269.58901  -279.34834 -3.813e-03     0.466\n",
      "14   72863.34746 72863.34746  -406.24154 -5.575e-03     0.490\n",
      "15   72707.40901 72707.40901  -155.93845 -2.145e-03     0.512\n",
      "16   72639.83342 72639.83342   -67.57559 -9.303e-04     0.535\n",
      "17   72625.86398 72625.86398   -13.96944 -1.923e-04     0.567\n",
      "18   72621.56278 72621.56278    -4.30121 -5.923e-05     0.589\n",
      "19   72618.62104 72618.62104    -2.94174 -4.051e-05     0.605\n",
      "20   72616.68079 72616.68079    -1.94025 -2.672e-05     0.627\n",
      "21   72616.07098 72616.07098    -0.60981 -8.398e-06     0.673\n",
      "22   72615.93525 72615.93525    -0.13573 -1.869e-06     0.691\n",
      "23   72615.86867 72615.86867    -0.06658 -9.169e-07     0.707\n",
      "24   72615.63007 72615.63007    -0.23860 -3.286e-06     0.724\n",
      "25   72615.06584 72615.06584    -0.56422 -7.770e-06     0.759\n",
      "26   72613.58104 72613.58104    -1.48480 -2.045e-05     0.777\n",
      "27   72610.03648 72610.03648    -3.54456 -4.882e-05     0.793\n",
      "28   72602.56801 72602.56801    -7.46847 -1.029e-04     0.810\n",
      "29   72591.70480 72591.70480   -10.86321 -1.496e-04     0.849\n",
      "30   72582.97672 72582.97672    -8.72809 -1.202e-04     0.867\n",
      "31   72579.65019 72579.65019    -3.32653 -4.583e-05     0.883\n",
      "32   72579.19331 72579.19331    -0.45687 -6.295e-06     0.899\n",
      "33   72579.16608 72579.16608    -0.02723 -3.752e-07     0.915\n",
      "34   72579.14728 72579.14728    -0.01880 -2.591e-07     0.947\n",
      "35   72579.01980 72579.01980    -0.12749 -1.757e-06     0.970\n",
      "36   72578.58929 72578.58929    -0.43051 -5.932e-06     0.986\n",
      "37   72577.50766 72577.50766    -1.08163 -1.490e-05     1.002\n",
      "38   72574.65846 72574.65846    -2.84920 -3.926e-05     1.032\n",
      "39   72567.40977 72567.40977    -7.24869 -9.989e-05     1.051\n",
      "40   72550.53537 72550.53537   -16.87440 -2.326e-04     1.068\n",
      "41   72523.34079 72523.34079   -27.19457 -3.750e-04     1.084\n",
      "42   72502.74885 72502.74885   -20.59194 -2.840e-04     1.114\n",
      "43   72490.72719 72490.72719   -12.02166 -1.658e-04     1.134\n",
      "44   72489.55869 72489.55869    -1.16850 -1.612e-05     1.151\n",
      "45   72489.51696 72489.51696    -0.04173 -5.757e-07     1.169\n",
      "46   72489.50997 72489.50997    -0.00699 -9.645e-08     1.205\n",
      "47   72489.50958 72489.50958    -0.00039 -5.314e-09     1.224\n",
      "48   72489.50757 72489.50757    -0.00201 -2.770e-08     1.241\n",
      "49   72489.50229 72489.50229    -0.00528 -7.289e-08     1.257\n",
      "50   72489.38670 72489.38670    -0.11559 -1.595e-06     1.291\n",
      "51   72489.11025 72489.11025    -0.27644 -3.814e-06     1.310\n",
      "52   72472.73080 72472.73080   -16.37945 -2.260e-04     1.333\n",
      "53   72467.80438 72467.80438    -4.92642 -6.798e-05     1.353\n",
      "54   72466.98459 72466.98459    -0.81979 -1.131e-05     1.390\n",
      "55   72466.89772 72466.89772    -0.08688 -1.199e-06     1.407\n",
      "56   72466.89699 72466.89699    -0.00073 -1.008e-08     1.429\n",
      "57   72466.89690 72466.89690    -0.00008 -1.136e-09     1.448\n",
      "58   72466.89690 72466.89690    -0.00001 -7.101e-11     1.485\n",
      "Optimization finished with status: Tolerance reached\n",
      "- 58 function evaluations in 1.49 seconds\n",
      "- Best function value: 72466.89690\n",
      "Final position values:\n",
      "0 light_intensity     1.21958 +/- 0.0290862\n",
      "1 ped.mean            351.232 +/- 2.81439\n",
      "2 ped.rms             46.4338 +/- 1.11262\n",
      "3 ses.exp probability 0.315221 +/- 0.0246078\n",
      "4 ses.exp.scale       196.042 +/- 1.02668\n",
      "5 ses.gauss.mean      492.991 +/- 4.6065\n",
      "6 ses.gauss.rms       121.172 +/- 4.30424\n",
      "0 [  1.21958057e+00   3.51232224e+02   4.64337516e+01   3.15220949e-01\n",
      "   1.96041907e+02   4.92991197e+02   1.21171954e+02] 72466.89689789453\n",
      "[  2.64562037e-02   1.25234701e+00   8.48857974e-01   3.37915794e-02\n",
      "   3.71102883e+01   3.94208033e+00   5.33882013e+00]\n"
     ]
    }
   ],
   "source": [
    "ses_eg_exp_pdf = calin.math.pdf_1d.LimitedExponentialPDF(0,numpy.inf,mes_hist.dxval())\n",
    "ses_eg_exp_pdf.limit_scale(0.1, inf);\n",
    "ses_eg_gauss_pdf = calin.math.pdf_1d.LimitedGaussianPDF(0,numpy.inf)\n",
    "ses_eg_pdf = calin.math.pdf_1d.TwoComponentPDF(ses_eg_exp_pdf, \"exp\", ses_eg_gauss_pdf, \"gauss\")\n",
    "mes_model_eg = calin.calib.spe_fit.GeneralPoissonMES(mes_hist.xval_left(0), mes_hist.dxval(),\\\n",
    "        mes_hist.size(), ses_eg_pdf, ped_gauss_pdf)\n",
    "like_eg = calin.calib.spe_fit.SPELikelihood(mes_model_eg, mes_hist)\n",
    "opt_eg = calin.math.optimizer.NLOptOptimizer(\"LD_LBFGS\", like_eg)\n",
    "#opt_eg.set_scale([0.1,0.1,1.0,0.01,1.0,1.0,0.05]);\n",
    "opt_eg.set_verbosity_level(calin.math.optimizer.OptimizerVerbosityLevel_MAX);\n",
    "opt_eg.set_abs_tolerance(0.0001);\n",
    "opt_eg.set_max_walltime(20);\n",
    "opt_eg.set_max_iterations(1000);\n",
    "opt_eg.set_initial_values([1.0, 355.0, 10.0, 0.1, 200.0, 500.0, 200.0]);\n",
    "opt_eg.set_limits_lo([0.01, 300.0, 0.1, 0.0, 10.0, 100.0, 10.0])\n",
    "opt_eg.set_limits_hi([2.0,  400.0, 100.1, 1.0, 500.0, 1000.0, 500.0])\n",
    "status, xopt_eg, fval_eg = opt_eg.minimize()\n",
    "print(status, xopt_eg, fval_eg)\n",
    "status, err_mat_eg = opt_eg.calc_error_matrix()\n",
    "xerr_eg = sqrt(err_mat_eg.diagonal())\n",
    "print(xerr_eg)"
   ]
  },
  {
   "cell_type": "markdown",
   "metadata": {},
   "source": [
    "## Fit of double-Gaussian model\n",
    "\n",
    "Mean of one of the Gaussians is fixed at zero in the fit"
   ]
  },
  {
   "cell_type": "code",
   "execution_count": 8,
   "metadata": {
    "collapsed": false
   },
   "outputs": [
    {
     "name": "stdout",
     "output_type": "stream",
     "text": [
      "Optimization using NLOPT_LD_LBFGS (requires: gradient)\n",
      "- stopping criteria: dF < 0.0001\n",
      "- function: N_dim = 7, provides: gradient\n",
      "List of function dimensions: \n",
      "# Name               Lo bound Hi bound Stepsize\n",
      "0 light_intensity    0        inf      1       \n",
      "1 ped.mean           -inf     inf      1       \n",
      "2 ped.rms            2.22507e-308 inf      1       \n",
      "3 ses.g1 probability 0        1        1       \n",
      "4 ses.g1.rms         2.22507e-308 inf      1       \n",
      "5 ses.g2.mean        -inf     inf      1       \n",
      "6 ses.g2.rms         2.22507e-308 inf      1       \n",
      "1   81120.86345 81120.86345        -inf       -inf     0.042\n",
      "2   86557.45814 81120.86345     0.00000  0.000e+00     0.067\n",
      "3   80403.29696 80403.29696  -717.56650 -8.925e-03     0.094\n",
      "4   79329.93124 79329.93124 -1073.36572 -1.353e-02     0.117\n",
      "5   79311.04421 79311.04421   -18.88703 -2.381e-04     0.137\n",
      "6   79008.68969 79008.68969  -302.35452 -3.827e-03     0.158\n",
      "7   78613.47659 78613.47659  -395.21310 -5.027e-03     0.185\n",
      "8   76470.39845 76470.39845 -2143.07814 -2.802e-02     0.205\n",
      "9   74617.95776 74617.95776 -1852.44069 -2.483e-02     0.224\n",
      "10  73861.57652 73861.57652  -756.38124 -1.024e-02     0.243\n",
      "11  73221.21601 73221.21601  -640.36051 -8.746e-03     0.269\n",
      "12  72839.37079 72839.37079  -381.84521 -5.242e-03     0.289\n",
      "13  72663.48027 72663.48027  -175.89053 -2.421e-03     0.309\n",
      "14  72623.23512 72623.23512   -40.24514 -5.542e-04     0.341\n",
      "15  72618.75971 72618.75971    -4.47541 -6.163e-05     0.391\n",
      "16  72617.98575 72617.98575    -0.77396 -1.066e-05     0.430\n",
      "17  72617.23373 72617.23373    -0.75201 -1.036e-05     0.474\n",
      "18  72616.82959 72616.82959    -0.40415 -5.565e-06     0.567\n",
      "19  72616.71321 72616.71321    -0.11638 -1.603e-06     0.597\n",
      "20  72616.64901 72616.64901    -0.06420 -8.841e-07     0.636\n",
      "21  72616.50955 72616.50955    -0.13946 -1.920e-06     0.678\n",
      "22  72616.15626 72616.15626    -0.35328 -4.865e-06     0.698\n",
      "23  72615.24878 72615.24878    -0.90749 -1.250e-05     0.724\n",
      "24  72612.98455 72612.98455    -2.26423 -3.118e-05     0.746\n",
      "25  72607.77651 72607.77651    -5.20804 -7.173e-05     0.781\n",
      "26  72598.02099 72598.02099    -9.75552 -1.344e-04     0.802\n",
      "27  72586.73192 72586.73192   -11.28908 -1.555e-04     0.823\n",
      "28  72580.94022 72580.94022    -5.79169 -7.980e-05     0.842\n",
      "29  72579.70888 72579.70888    -1.23135 -1.697e-05     0.875\n",
      "30  72579.61825 72579.61825    -0.09062 -1.249e-06     0.894\n",
      "31  72579.61246 72579.61246    -0.00580 -7.987e-08     0.912\n",
      "32  72579.57552 72579.57552    -0.03694 -5.090e-07     0.932\n",
      "33  72579.41615 72579.41615    -0.15937 -2.196e-06     0.966\n",
      "34  72579.04610 72579.04610    -0.37004 -5.098e-06     0.991\n",
      "35  72518.27158 72518.27158   -60.77452 -8.381e-04     1.010\n",
      "36  72493.38718 72493.38718   -24.88440 -3.433e-04     1.029\n",
      "37  72490.90250 72490.90250    -2.48468 -3.428e-05     1.062\n",
      "38  72490.81575 72490.81575    -0.08674 -1.197e-06     1.084\n",
      "39  72490.81515 72490.81515    -0.00061 -8.381e-09     1.103\n",
      "40  72490.80903 72490.80903    -0.00612 -8.436e-08     1.122\n",
      "41  72490.78088 72490.78088    -0.02815 -3.884e-07     1.164\n",
      "42  72490.72148 72490.72148    -0.05940 -8.194e-07     1.189\n",
      "43  72487.74817 72487.74817    -2.97331 -4.102e-05     1.216\n",
      "44  72481.06386 72481.06386    -6.68431 -9.222e-05     1.280\n",
      "45  72467.24444 72467.24444   -13.81943 -1.907e-04     1.312\n",
      "46  72466.55640 72466.55640    -0.68803 -9.494e-06     1.334\n",
      "47  72465.72983 72465.72983    -0.82658 -1.141e-05     1.369\n",
      "48  72465.71959 72465.71959    -0.01023 -1.412e-07     1.398\n",
      "49  72465.71925 72465.71925    -0.00034 -4.731e-09     1.421\n",
      "50  72465.71924 72465.71924    -0.00001 -9.683e-11     1.458\n",
      "51  72465.71924 72465.71924    -0.00000 -1.866e-11     1.477\n",
      "Optimization finished with status: Tolerance reached\n",
      "- 51 function evaluations in 1.48 seconds\n",
      "- Best function value: 72465.71924\n",
      "Final position values:\n",
      "0 light_intensity    1.18931 +/- 0.0229542\n",
      "1 ped.mean           352.214 +/- 2.19138\n",
      "2 ped.rms            46.8818 +/- 0.874974\n",
      "3 ses.g1 probability 0.255605 +/- 0.0220014\n",
      "4 ses.g1.rms         197.933 +/- 1.07056\n",
      "5 ses.g2.mean        494.652 +/- 3.76769\n",
      "6 ses.g2.rms         122.596 +/- 5.11764\n",
      "0 [  1.18930654e+00   3.52214096e+02   4.68817863e+01   2.55604849e-01\n",
      "   1.97933245e+02   4.94651677e+02   1.22595732e+02] 72465.71924361715\n",
      "[  2.28579176e-02   1.23423113e+00   8.53107626e-01   3.75725876e-02\n",
      "   4.83973573e+01   7.41953657e+00   5.75784828e+00]\n"
     ]
    }
   ],
   "source": [
    "ses_2g_g1_pdf = calin.math.pdf_1d.LimitedGaussianPDF(0,numpy.inf)\n",
    "ses_2g_g2_pdf = calin.math.pdf_1d.LimitedGaussianPDF(0,numpy.inf)\n",
    "ses_2g_pdf = calin.math.pdf_1d.TwoComponentPDF(ses_2g_g1_pdf, \"g1\", ses_2g_g2_pdf, \"g2\")\n",
    "mes_model_2g = calin.calib.spe_fit.GeneralPoissonMES(mes_hist.xval_left(0), mes_hist.dxval(),\\\n",
    "        mes_hist.size(), ses_2g_pdf, ped_gauss_pdf)\n",
    "like_2g = calin.calib.spe_fit.SPELikelihood(mes_model_2g, mes_hist)\n",
    "freezer = calin.math.function.FreezeThawFunction(like_2g)\n",
    "freezer.freeze(4,0)\n",
    "opt_2g = calin.math.optimizer.NLOptOptimizer(\"LD_LBFGS\", freezer)\n",
    "#opt_2g.set_scale([0.1,0.1,1.0,0.01,1.0,1.0,0.05]);\n",
    "opt_2g.set_verbosity_level(calin.math.optimizer.OptimizerVerbosityLevel_MAX);\n",
    "opt_2g.set_abs_tolerance(0.0001);\n",
    "opt_2g.set_initial_values([1.0, 355.0, 10.0, 0.1, 200.0, 500.0, 200.0]);\n",
    "status, xopt_2g, fval_2g = opt_2g.minimize()\n",
    "print(status, xopt_2g, fval_2g)\n",
    "status, err_mat_2g = opt_2g.calc_error_matrix()\n",
    "xerr_2g = sqrt(err_mat_2g.diagonal())\n",
    "print(xerr_2g)"
   ]
  },
  {
   "cell_type": "markdown",
   "metadata": {},
   "source": [
    "## Draw MES and SES plots"
   ]
  },
  {
   "cell_type": "code",
   "execution_count": 9,
   "metadata": {
    "collapsed": false
   },
   "outputs": [
    {
     "data": {
      "image/png": "[encoded data removed]",
      "text/plain": [
       "<matplotlib.figure.Figure at 0x11456a358>"
      ]
     },
     "metadata": {},
     "output_type": "display_data"
    }
   ],
   "source": [
    "mes_hist_plot = calin.math.histogram.SimpleHist(20.0)\n",
    "mes_hist_plot.insert_vec(fernandez_data);\n",
    "\n",
    "ihist = range(0,mes_hist_plot.nbin());\n",
    "xhist_plot = list(map(lambda i: mes_hist_plot.xval_center(i),ihist))\n",
    "yhist_plot = list(map(lambda i: mes_hist_plot.weight(i),ihist))\n",
    "step(xhist_plot,yhist_plot,'k')\n",
    "xlabel('Signal [DC]')\n",
    "ylabel('Events per 20 DC bin')\n",
    "\n",
    "ihist = range(0,mes_hist.nbin());\n",
    "xhist = list(map(lambda i: mes_hist.xval_center(i),ihist))\n",
    "\n",
    "mes_model_g.set_parameter_values(xopt_g)\n",
    "ymodel_g = \\\n",
    "    list(map(lambda x: mes_hist_plot.sum_w()*mes_hist_plot.dxval()*mes_model_g.pdf_mes(x),xhist))\n",
    "hold('on')\n",
    "plot(xhist,ymodel_g,'g',lw=1, label='Gaussian')\n",
    "\n",
    "mes_model_eg.set_parameter_values(xopt_eg)\n",
    "ymodel_eg = \\\n",
    "    list(map(lambda x: mes_hist_plot.sum_w()*mes_hist_plot.dxval()*mes_model_eg.pdf_mes(x),xhist))\n",
    "hold('on')\n",
    "plot(xhist,ymodel_eg,'r',lw=1.75, label=\"Exp/Gaussian\")\n",
    "\n",
    "mes_model_2g.set_parameter_values(freezer.x_in2out(xopt_2g))\n",
    "ymodel_2g = \\\n",
    "    list(map(lambda x: mes_hist_plot.sum_w()*mes_hist_plot.dxval()*mes_model_2g.pdf_mes(x),xhist))\n",
    "hold('on')\n",
    "plot(xhist,ymodel_2g,'b',lw=1, label='Two Gaussian')\n",
    "\n",
    "legend()\n",
    "axis([0,2500,0,600])\n",
    "gcf().savefig('../../../mybuild/fernandez_two_cpt_fits.pdf')"
   ]
  },
  {
   "cell_type": "code",
   "execution_count": 10,
   "metadata": {
    "collapsed": false
   },
   "outputs": [
    {
     "data": {
      "image/png": "[encoded data removed]",
      "text/plain": [
       "<matplotlib.figure.Figure at 0x112c812e8>"
      ]
     },
     "metadata": {},
     "output_type": "display_data"
    }
   ],
   "source": [
    "ses_g_y = asarray(mes_model_g.n_electron_spectrum(1));\n",
    "ses_g_x = ses_g_y*0;\n",
    "for i in range(0,len(ses_g_y)):\n",
    "    ses_g_x[i] = mes_model_g.ses_x(i)\n",
    "plot(ses_g_x, ses_g_y, 'g', label='Gaussian')\n",
    "\n",
    "ses_eg_y = asarray(mes_model_eg.n_electron_spectrum(1));\n",
    "ses_eg_x = ses_eg_y*0;\n",
    "for i in range(0,len(ses_eg_y)):\n",
    "    ses_eg_x[i] = mes_model_eg.ses_x(i)\n",
    "plot(ses_eg_x, ses_eg_y, 'r', lw=1.75, label='Exp/Gaussian')\n",
    "\n",
    "ses_2g_y = asarray(mes_model_2g.n_electron_spectrum(1));\n",
    "ses_2g_x = ses_2g_y*0;\n",
    "for i in range(0,len(ses_2g_y)):\n",
    "    ses_2g_x[i] = mes_model_2g.ses_x(i)\n",
    "plot(ses_2g_x, ses_2g_y, 'b', label='Two Gaussian')\n",
    "legend()\n",
    "axis([0,1200,0,0.003])\n",
    "xlabel('Signal [DC]')\n",
    "ylabel('Probability density [1/DC]')\n",
    "gcf().savefig('../../../mybuild/fernandez_ses.pdf')"
   ]
  },
  {
   "cell_type": "markdown",
   "metadata": {},
   "source": [
    "## Calculate gain and ENF"
   ]
  },
  {
   "cell_type": "markdown",
   "metadata": {},
   "source": [
    "**Single Gaussian**"
   ]
  },
  {
   "cell_type": "code",
   "execution_count": 11,
   "metadata": {
    "collapsed": false
   },
   "outputs": [
    {
     "name": "stdout",
     "output_type": "stream",
     "text": [
      "Norm, mean, RMS:  1.00000003804 456.422854053 163.203822421\n",
      "Resolution:  0.357571539137\n",
      "ENF:  1.06200631147\n"
     ]
    }
   ],
   "source": [
    "ses_g_norm = sum(ses_g_y)\n",
    "ses_g_mean = sum(ses_g_y*ses_g_x)\n",
    "ses_g_rms = sqrt(sum(ses_g_y*ses_g_x*ses_g_x) - ses_g_mean**2)\n",
    "print(\"Norm, mean, RMS: \",ses_g_norm, ses_g_mean, ses_g_rms)\n",
    "print(\"Resolution: \",ses_g_rms/ses_g_mean)\n",
    "print(\"ENF: \",sqrt(1+(ses_g_rms/ses_g_mean)**2))"
   ]
  },
  {
   "cell_type": "markdown",
   "metadata": {},
   "source": [
    "**Exponential/Gaussian**"
   ]
  },
  {
   "cell_type": "code",
   "execution_count": 12,
   "metadata": {
    "collapsed": false
   },
   "outputs": [
    {
     "name": "stdout",
     "output_type": "stream",
     "text": [
      "Norm, mean, RMS:  1.00000000063 399.395116063 202.978856468\n",
      "Resolution:  0.508215669907\n",
      "ENF:  1.12173221722\n"
     ]
    }
   ],
   "source": [
    "ses_eg_norm = sum(ses_eg_y)\n",
    "ses_eg_mean = sum(ses_eg_y*ses_eg_x)\n",
    "ses_eg_rms = sqrt(sum(ses_eg_y*ses_eg_x*ses_eg_x) - ses_eg_mean**2)\n",
    "print(\"Norm, mean, RMS: \",ses_eg_norm, ses_eg_mean, ses_eg_rms)\n",
    "print(\"Resolution: \",ses_eg_rms/ses_eg_mean)\n",
    "print(\"ENF: \",sqrt(1+(ses_eg_rms/ses_eg_mean)**2))"
   ]
  },
  {
   "cell_type": "markdown",
   "metadata": {},
   "source": [
    "**Double Gaussian**"
   ]
  },
  {
   "cell_type": "code",
   "execution_count": 13,
   "metadata": {
    "collapsed": false
   },
   "outputs": [
    {
     "name": "stdout",
     "output_type": "stream",
     "text": [
      "Norm, mean, RMS:  1.00000000097 408.594104045 190.779843345\n",
      "Resolution:  0.466917758862\n",
      "ENF:  1.10363589718\n"
     ]
    }
   ],
   "source": [
    "ses_2g_norm = sum(ses_2g_y)\n",
    "ses_2g_mean = sum(ses_2g_y*ses_2g_x)\n",
    "ses_2g_rms = sqrt(sum(ses_2g_y*ses_2g_x*ses_2g_x) - ses_2g_mean**2)\n",
    "print(\"Norm, mean, RMS: \",ses_2g_norm, ses_2g_mean, ses_2g_rms)\n",
    "print(\"Resolution: \",ses_2g_rms/ses_2g_mean)\n",
    "print(\"ENF: \",sqrt(1+(ses_2g_rms/ses_2g_mean)**2))"
   ]
  }
 ],
 "metadata": {
  "kernelspec": {
   "display_name": "Python 3",
   "language": "python",
   "name": "python3"
  },
  "language_info": {
   "codemirror_mode": {
    "name": "ipython",
    "version": 3
   },
   "file_extension": ".py",
   "mimetype": "text/x-python",
   "name": "python",
   "nbconvert_exporter": "python",
   "pygments_lexer": "ipython3",
   "version": "3.4.3"
  }
 },
 "nbformat": 4,
 "nbformat_minor": 0
}
