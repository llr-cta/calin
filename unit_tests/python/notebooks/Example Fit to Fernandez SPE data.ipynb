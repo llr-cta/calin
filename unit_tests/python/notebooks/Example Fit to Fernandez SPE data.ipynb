{
 "cells": [
  {
   "cell_type": "code",
   "execution_count": 1,
   "metadata": {
    "collapsed": false
   },
   "outputs": [
    {
     "name": "stdout",
     "output_type": "stream",
     "text": [
      "Populating the interactive namespace from numpy and matplotlib\n"
     ]
    }
   ],
   "source": [
    "%pylab inline\n",
    "import calin.calib.spe_fit\n",
    "import calin.math.histogram\n",
    "import calin.math.optimizer\n",
    "import calin.math.pdf_1d"
   ]
  },
  {
   "cell_type": "markdown",
   "metadata": {},
   "source": [
    "## Load data and plot histogram"
   ]
  },
  {
   "cell_type": "code",
   "execution_count": 2,
   "metadata": {
    "collapsed": false
   },
   "outputs": [],
   "source": [
    "fernandez_data = loadtxt('../../calib/fernandez_dc_1.5kV_6.45V.dat');\n",
    "mes_hist = calin.math.histogram.SimpleHist(1.0)\n",
    "mes_hist.insert_vec(fernandez_data);"
   ]
  },
  {
   "cell_type": "code",
   "execution_count": 3,
   "metadata": {
    "collapsed": false
   },
   "outputs": [
    {
     "data": {
      "text/plain": [
       "[0, 2500, 0, 600]"
      ]
     },
     "execution_count": 3,
     "metadata": {},
     "output_type": "execute_result"
    },
    {
     "data": {
      "image/png": "[encoded data removed]",
      "text/plain": [
       "<matplotlib.figure.Figure at 0x10970f908>"
      ]
     },
     "metadata": {},
     "output_type": "display_data"
    }
   ],
   "source": [
    "mes_hist_plot = calin.math.histogram.SimpleHist(20.0)\n",
    "mes_hist_plot.insert_vec(fernandez_data);\n",
    "\n",
    "ihist = range(0,mes_hist_plot.nbin());\n",
    "xhist_plot = list(map(lambda i: mes_hist_plot.xval_center(i),ihist))\n",
    "yhist_plot = list(map(lambda i: mes_hist_plot.weight(i),ihist))\n",
    "step(xhist_plot,yhist_plot,'k')\n",
    "xlabel('Signal [DC]')\n",
    "ylabel('Events per 20 DC bin')\n",
    "axis([0,2500,0,600])"
   ]
  },
  {
   "cell_type": "markdown",
   "metadata": {},
   "source": [
    "## Fit of single-Gaussian model"
   ]
  },
  {
   "cell_type": "code",
   "execution_count": 4,
   "metadata": {
    "collapsed": true
   },
   "outputs": [],
   "source": [
    "ped_gauss_pdf = calin.math.pdf_1d.GaussianPDF()"
   ]
  },
  {
   "cell_type": "code",
   "execution_count": 5,
   "metadata": {
    "collapsed": false
   },
   "outputs": [
    {
     "name": "stdout",
     "output_type": "stream",
     "text": [
      "[   1.04990191  358.72165658   51.04687963  454.92516744  165.28480598] 72518.83149087398\n",
      "[ 0.01317109  1.00096576  0.81565     3.93725818  3.97663702]\n"
     ]
    }
   ],
   "source": [
    "ses_g_pdf = calin.math.pdf_1d.LimitedGaussianPDF(0,numpy.inf)\n",
    "mes_model_g = calin.calib.spe_fit.GeneralPoissonMES(mes_hist.xval_left(0), mes_hist.dxval(),\\\n",
    "        mes_hist.size(), ses_g_pdf, ped_gauss_pdf)\n",
    "like_g = calin.calib.spe_fit.SPELikelihood(mes_model_g, mes_hist)\n",
    "opt_g = calin.math.optimizer.NLOptOptimizer(calin.math.optimizer.LD_LBFGS, like_g)\n",
    "opt_g.set_verbosity_level(calin.math.optimizer.OptimizerVerbosityLevel_MAX);\n",
    "opt_g.set_abs_tolerance(0.0001);\n",
    "opt_g.set_initial_values([1.0, 355.0, 10.0, 500.0, 200.0]);\n",
    "opt_g.set_limits_lo([0.01, 300.0, 0.1, 100.0, 10.0])\n",
    "opt_g.set_limits_hi([2.0,  400.0, 100.1, 1000.0, 500.0])\n",
    "status, xopt_g, fval_g = opt_g.minimize()\n",
    "print(xopt_g, fval_g)\n",
    "status, err_mat_g = opt_g.calc_error_matrix()\n",
    "xerr_g = sqrt(err_mat_g.diagonal())\n",
    "print(xerr_g)"
   ]
  },
  {
   "cell_type": "markdown",
   "metadata": {},
   "source": [
    "## Fit of exponential/Gaussian model"
   ]
  },
  {
   "cell_type": "code",
   "execution_count": 6,
   "metadata": {
    "collapsed": false
   },
   "outputs": [
    {
     "name": "stdout",
     "output_type": "stream",
     "text": [
      "[  1.21958383e+00   3.51232214e+02   4.64338310e+01   3.15225185e-01\n",
      "   1.96041860e+02   4.92991929e+02   1.21171345e+02] 72466.89689786671\n",
      "[  2.64560878e-02   1.25234505e+00   8.48860063e-01   3.37910648e-02\n",
      "   3.71091135e+01   3.94204815e+00   5.33874943e+00]\n"
     ]
    }
   ],
   "source": [
    "ses_eg_exp_pdf = calin.math.pdf_1d.LimitedExponentialPDF(0,numpy.inf,mes_hist.dxval())\n",
    "ses_eg_exp_pdf.limit_scale(0.1, inf);\n",
    "ses_eg_gauss_pdf = calin.math.pdf_1d.LimitedGaussianPDF(0,numpy.inf)\n",
    "ses_eg_pdf = calin.math.pdf_1d.TwoComponentPDF(ses_eg_exp_pdf, \"exp\", ses_eg_gauss_pdf, \"gauss\")\n",
    "mes_model_eg = calin.calib.spe_fit.GeneralPoissonMES(mes_hist.xval_left(0), mes_hist.dxval(),\\\n",
    "        mes_hist.size(), ses_eg_pdf, ped_gauss_pdf)\n",
    "like_eg = calin.calib.spe_fit.SPELikelihood(mes_model_eg, mes_hist)\n",
    "opt_eg = calin.math.optimizer.NLOptOptimizer(calin.math.optimizer.LD_LBFGS, like_eg)\n",
    "#opt_eg.set_scale([0.1,0.1,1.0,0.01,1.0,1.0,0.05]);\n",
    "opt_eg.set_verbosity_level(calin.math.optimizer.OptimizerVerbosityLevel_MAX);\n",
    "opt_eg.set_abs_tolerance(0.0001);\n",
    "opt_eg.set_max_iterations(1000);\n",
    "opt_eg.set_initial_values([1.0, 355.0, 10.0, 0.1, 200.0, 500.0, 200.0]);\n",
    "opt_eg.set_limits_lo([0.01, 300.0, 0.1, 0.0, 10.0, 100.0, 10.0])\n",
    "opt_eg.set_limits_hi([2.0,  400.0, 100.1, 1.0, 500.0, 1000.0, 500.0])\n",
    "status, xopt_eg, fval_eg = opt_eg.minimize()\n",
    "print(xopt_eg, fval_eg)\n",
    "status, err_mat_eg = opt_eg.calc_error_matrix()\n",
    "xerr_eg = sqrt(err_mat_eg.diagonal())\n",
    "print(xerr_eg)"
   ]
  },
  {
   "cell_type": "markdown",
   "metadata": {},
   "source": [
    "## Fit of double-Gaussian model\n",
    "\n",
    "Mean of one of the Gaussians is fixed at zero in the fit"
   ]
  },
  {
   "cell_type": "code",
   "execution_count": 7,
   "metadata": {
    "collapsed": false
   },
   "outputs": [
    {
     "name": "stdout",
     "output_type": "stream",
     "text": [
      "[  1.18930676e+00   3.52214093e+02   4.68817800e+01   2.55606341e-01\n",
      "   1.97934671e+02   4.94651876e+02   1.22595480e+02] 72465.71922122368\n",
      "[  2.28576450e-02   1.23422202e+00   8.53103934e-01   3.75722307e-02\n",
      "   4.83962795e+01   7.41936546e+00   5.75775697e+00]\n"
     ]
    }
   ],
   "source": [
    "ses_2g_g1_pdf = calin.math.pdf_1d.LimitedGaussianPDF(0,numpy.inf)\n",
    "ses_2g_g2_pdf = calin.math.pdf_1d.LimitedGaussianPDF(0,numpy.inf)\n",
    "ses_2g_pdf = calin.math.pdf_1d.TwoComponentPDF(ses_2g_g1_pdf, \"g1\", ses_2g_g2_pdf, \"g2\")\n",
    "mes_model_2g = calin.calib.spe_fit.GeneralPoissonMES(mes_hist.xval_left(0), mes_hist.dxval(),\\\n",
    "        mes_hist.size(), ses_2g_pdf, ped_gauss_pdf)\n",
    "like_2g = calin.calib.spe_fit.SPELikelihood(mes_model_2g, mes_hist)\n",
    "freezer = calin.math.function.FreezeThawFunction(like_2g)\n",
    "freezer.freeze(4,0)\n",
    "opt_2g = calin.math.optimizer.NLOptOptimizer(calin.math.optimizer.LD_LBFGS, freezer)\n",
    "#opt_2g.set_scale([0.1,0.1,1.0,0.01,1.0,1.0,0.05]);\n",
    "opt_2g.set_verbosity_level(calin.math.optimizer.OptimizerVerbosityLevel_MAX);\n",
    "opt_2g.set_abs_tolerance(0.0001);\n",
    "opt_2g.set_initial_values([1.0, 355.0, 10.0, 0.1, 200.0, 500.0, 200.0]);\n",
    "status, xopt_2g, fval_2g = opt_2g.minimize()\n",
    "print(xopt_2g, fval_2g)\n",
    "status, err_mat_2g = opt_2g.calc_error_matrix()\n",
    "xerr_2g = sqrt(err_mat_2g.diagonal())\n",
    "print(xerr_2g)"
   ]
  },
  {
   "cell_type": "markdown",
   "metadata": {},
   "source": [
    "## Draw MES and SES plots"
   ]
  },
  {
   "cell_type": "code",
   "execution_count": 8,
   "metadata": {
    "collapsed": false
   },
   "outputs": [
    {
     "data": {
      "image/png": "[encoded data removed]",
      "text/plain": [
       "<matplotlib.figure.Figure at 0x109908be0>"
      ]
     },
     "metadata": {},
     "output_type": "display_data"
    }
   ],
   "source": [
    "mes_hist_plot = calin.math.histogram.SimpleHist(20.0)\n",
    "mes_hist_plot.insert_vec(fernandez_data);\n",
    "\n",
    "ihist = range(0,mes_hist_plot.nbin());\n",
    "xhist_plot = list(map(lambda i: mes_hist_plot.xval_center(i),ihist))\n",
    "yhist_plot = list(map(lambda i: mes_hist_plot.weight(i),ihist))\n",
    "step(xhist_plot,yhist_plot,'k')\n",
    "xlabel('Signal [DC]')\n",
    "ylabel('Events per 20 DC bin')\n",
    "\n",
    "ihist = range(0,mes_hist.nbin());\n",
    "xhist = list(map(lambda i: mes_hist.xval_center(i),ihist))\n",
    "\n",
    "mes_model_g.set_parameter_values(xopt_g)\n",
    "ymodel_g = \\\n",
    "    list(map(lambda x: mes_hist_plot.sum_w()*mes_hist_plot.dxval()*mes_model_g.pdf_mes(x),xhist))\n",
    "hold('on')\n",
    "plot(xhist,ymodel_g,'g',lw=1, label='Gaussian')\n",
    "\n",
    "mes_model_eg.set_parameter_values(xopt_eg)\n",
    "ymodel_eg = \\\n",
    "    list(map(lambda x: mes_hist_plot.sum_w()*mes_hist_plot.dxval()*mes_model_eg.pdf_mes(x),xhist))\n",
    "hold('on')\n",
    "plot(xhist,ymodel_eg,'r',lw=1.75, label=\"Exp/Gaussian\")\n",
    "\n",
    "mes_model_2g.set_parameter_values(freezer.x_in2out(xopt_2g))\n",
    "ymodel_2g = \\\n",
    "    list(map(lambda x: mes_hist_plot.sum_w()*mes_hist_plot.dxval()*mes_model_2g.pdf_mes(x),xhist))\n",
    "hold('on')\n",
    "plot(xhist,ymodel_2g,'b',lw=1, label='Two Gaussian')\n",
    "\n",
    "legend()\n",
    "axis([0,2500,0,600])\n",
    "gcf().savefig('../../../mybuild/mes_two_cpt_fits.pdf')"
   ]
  },
  {
   "cell_type": "code",
   "execution_count": 9,
   "metadata": {
    "collapsed": false
   },
   "outputs": [
    {
     "data": {
      "image/png": "[encoded data removed]",
      "text/plain": [
       "<matplotlib.figure.Figure at 0x109908588>"
      ]
     },
     "metadata": {},
     "output_type": "display_data"
    }
   ],
   "source": [
    "ses_g_y = asarray(mes_model_g.n_electron_spectrum(1));\n",
    "ses_g_x = ses_g_y*0;\n",
    "for i in range(0,len(ses_g_y)):\n",
    "    ses_g_x[i] = mes_model_g.ses_x(i)\n",
    "plot(ses_g_x, ses_g_y, 'g', label='Gaussian')\n",
    "\n",
    "ses_eg_y = asarray(mes_model_eg.n_electron_spectrum(1));\n",
    "ses_eg_x = ses_eg_y*0;\n",
    "for i in range(0,len(ses_eg_y)):\n",
    "    ses_eg_x[i] = mes_model_eg.ses_x(i)\n",
    "plot(ses_eg_x, ses_eg_y, 'r', lw=1.75, label='Exp/Gaussian')\n",
    "\n",
    "ses_2g_y = asarray(mes_model_2g.n_electron_spectrum(1));\n",
    "ses_2g_x = ses_2g_y*0;\n",
    "for i in range(0,len(ses_2g_y)):\n",
    "    ses_2g_x[i] = mes_model_2g.ses_x(i)\n",
    "plot(ses_2g_x, ses_2g_y, 'b', label='Two Gaussian')\n",
    "legend()\n",
    "axis([0,1200,0,0.003])\n",
    "xlabel('Signal [DC]')\n",
    "ylabel('Events')\n",
    "gcf().savefig('../../../mybuild/ses_two_cpt_fits.pdf')"
   ]
  },
  {
   "cell_type": "markdown",
   "metadata": {},
   "source": [
    "## Calculate gain and ENF"
   ]
  },
  {
   "cell_type": "markdown",
   "metadata": {},
   "source": [
    "**Single Gaussian**"
   ]
  },
  {
   "cell_type": "code",
   "execution_count": 10,
   "metadata": {
    "collapsed": false
   },
   "outputs": [
    {
     "name": "stdout",
     "output_type": "stream",
     "text": [
      "Norm, mean, RMS:  1.00000003804 456.422854048 163.203822418\n",
      "Resolution:  0.357571539134\n",
      "ENF:  1.06200631147\n"
     ]
    }
   ],
   "source": [
    "ses_g_norm = sum(ses_g_y)\n",
    "ses_g_mean = sum(ses_g_y*ses_g_x)\n",
    "ses_g_rms = sqrt(sum(ses_g_y*ses_g_x*ses_g_x) - ses_g_mean**2)\n",
    "print(\"Norm, mean, RMS: \",ses_g_norm, ses_g_mean, ses_g_rms)\n",
    "print(\"Resolution: \",ses_g_rms/ses_g_mean)\n",
    "print(\"ENF: \",sqrt(1+(ses_g_rms/ses_g_mean)**2))"
   ]
  },
  {
   "cell_type": "markdown",
   "metadata": {},
   "source": [
    "**Exponential/Gaussian**"
   ]
  },
  {
   "cell_type": "code",
   "execution_count": 11,
   "metadata": {
    "collapsed": false
   },
   "outputs": [
    {
     "name": "stdout",
     "output_type": "stream",
     "text": [
      "Norm, mean, RMS:  1.00000000063 399.394343876 202.979427915\n",
      "Resolution:  0.508218083274\n",
      "ENF:  1.12173331063\n"
     ]
    }
   ],
   "source": [
    "ses_eg_norm = sum(ses_eg_y)\n",
    "ses_eg_mean = sum(ses_eg_y*ses_eg_x)\n",
    "ses_eg_rms = sqrt(sum(ses_eg_y*ses_eg_x*ses_eg_x) - ses_eg_mean**2)\n",
    "print(\"Norm, mean, RMS: \",ses_eg_norm, ses_eg_mean, ses_eg_rms)\n",
    "print(\"Resolution: \",ses_eg_rms/ses_eg_mean)\n",
    "print(\"ENF: \",sqrt(1+(ses_eg_rms/ses_eg_mean)**2))"
   ]
  },
  {
   "cell_type": "markdown",
   "metadata": {},
   "source": [
    "**Double Gaussian**"
   ]
  },
  {
   "cell_type": "code",
   "execution_count": 12,
   "metadata": {
    "collapsed": false
   },
   "outputs": [
    {
     "name": "stdout",
     "output_type": "stream",
     "text": [
      "Norm, mean, RMS:  1.00000000097 408.594040398 190.779759143\n",
      "Resolution:  0.466917625516\n",
      "ENF:  1.10363584076\n"
     ]
    }
   ],
   "source": [
    "ses_2g_norm = sum(ses_2g_y)\n",
    "ses_2g_mean = sum(ses_2g_y*ses_2g_x)\n",
    "ses_2g_rms = sqrt(sum(ses_2g_y*ses_2g_x*ses_2g_x) - ses_2g_mean**2)\n",
    "print(\"Norm, mean, RMS: \",ses_2g_norm, ses_2g_mean, ses_2g_rms)\n",
    "print(\"Resolution: \",ses_2g_rms/ses_2g_mean)\n",
    "print(\"ENF: \",sqrt(1+(ses_2g_rms/ses_2g_mean)**2))"
   ]
  },
  {
   "cell_type": "code",
   "execution_count": null,
   "metadata": {
    "collapsed": true
   },
   "outputs": [],
   "source": []
  }
 ],
 "metadata": {
  "kernelspec": {
   "display_name": "Python 3",
   "language": "python",
   "name": "python3"
  },
  "language_info": {
   "codemirror_mode": {
    "name": "ipython",
    "version": 3
   },
   "file_extension": ".py",
   "mimetype": "text/x-python",
   "name": "python",
   "nbconvert_exporter": "python",
   "pygments_lexer": "ipython3",
   "version": "3.4.3"
  }
 },
 "nbformat": 4,
 "nbformat_minor": 0
}
