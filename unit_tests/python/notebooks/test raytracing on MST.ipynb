{
 "cells": [
  {
   "cell_type": "code",
   "execution_count": 1,
   "metadata": {
    "collapsed": false
   },
   "outputs": [
    {
     "name": "stdout",
     "output_type": "stream",
     "text": [
      "Populating the interactive namespace from numpy and matplotlib\n"
     ]
    }
   ],
   "source": [
    "%pylab inline\n",
    "import os\n",
    "import calin.simulation.vs_optics;\n",
    "import calin.io.sql_transceiver;\n",
    "import calin.math.hex_array;"
   ]
  },
  {
   "cell_type": "code",
   "execution_count": 2,
   "metadata": {
    "collapsed": true
   },
   "outputs": [],
   "source": [
    "rng = calin.math.rng.RNG()"
   ]
  },
  {
   "cell_type": "code",
   "execution_count": 3,
   "metadata": {
    "collapsed": true
   },
   "outputs": [],
   "source": [
    "def dms(d,m,s):\n",
    "    sign = 1\n",
    "    if(d<0):\n",
    "        sign = -1\n",
    "        d = abs(d)\n",
    "    return sign * (d + m/60.0 + s/3600.0)"
   ]
  },
  {
   "cell_type": "code",
   "execution_count": 16,
   "metadata": {
    "collapsed": false
   },
   "outputs": [],
   "source": [
    "mst = calin.ix.simulation.vs_optics.IsotropicDCArrayParameters()\n",
    "mst.mutable_array_origin().set_latitude(dms(28, 45, 47.36))\n",
    "mst.mutable_array_origin().set_longitude(dms(-17, 53, 23.93))\n",
    "mst.mutable_array_origin().set_elevation(2178.0)\n",
    "mst.mutable_prescribed_array_layout().add_scope_positions();\n",
    "mst.mutable_reflector_frame().set_optic_axis_rotation(-90);\n",
    "dc = mst.mutable_reflector()\n",
    "dc.set_curvature_radius(1920)\n",
    "dc.set_aperture(1230)\n",
    "dc.set_facet_num_hex_rings(5)\n",
    "dc.mutable_psf_align().set_object_plane(inf);\n",
    "dc.set_facet_spacing(122)\n",
    "dc.set_facet_size(120)\n",
    "dc.set_facet_focal_length(1607)\n",
    "dc.set_facet_spot_size_probability(0.8)\n",
    "dc.set_facet_labeling_parity(True)\n",
    "dc.set_weathering_factor(1.0)\n",
    "for id in [1,62,67,72,77,82,87]: dc.add_facet_missing_list(id-1)\n",
    "mst.mutable_focal_plane().set_camera_diameter(235)\n",
    "mst.mutable_focal_plane().mutable_translation().set_y(1600)\n",
    "mst.mutable_pixel().set_spacing(5)\n",
    "mst.mutable_pixel().set_cone_inner_diameter(5)\n",
    "mst.mutable_pixel().set_cone_survival_prob(1)\n",
    "mst.mutable_pixel().set_hex_module_size(1)\n",
    "mst.mutable_pixel().set_module_num_hex_rings(9)\n",
    "u1,v1 = calin.math.hex_array.cluster_hexid_to_center_uv(1,1)\n",
    "x1,y1 = calin.math.hex_array.uv_to_xy(u1,v1)\n",
    "rot = -arctan2(-y1,x1)/pi*180 + 30\n",
    "mst.mutable_focal_plane().mutable_rotation().set_y(rot)"
   ]
  },
  {
   "cell_type": "code",
   "execution_count": 17,
   "metadata": {
    "collapsed": false
   },
   "outputs": [],
   "source": [
    "cta = calin.simulation.vs_optics.VSOArray()\n",
    "cta.generateFromArrayParameters(mst, rng)"
   ]
  },
  {
   "cell_type": "code",
   "execution_count": 18,
   "metadata": {
    "collapsed": false
   },
   "outputs": [],
   "source": [
    "cta.pointTelescopesAzEl(0,45./180.0*pi);"
   ]
  },
  {
   "cell_type": "code",
   "execution_count": 19,
   "metadata": {
    "collapsed": false
   },
   "outputs": [],
   "source": [
    "raytracer = calin.simulation.vs_optics.VSORayTracer(cta,rng)"
   ]
  },
  {
   "cell_type": "code",
   "execution_count": 20,
   "metadata": {
    "collapsed": true
   },
   "outputs": [],
   "source": [
    "psf = calin.simulation.vs_optics.VSOPSFInfo()"
   ]
  },
  {
   "cell_type": "code",
   "execution_count": 21,
   "metadata": {
    "collapsed": false
   },
   "outputs": [
    {
     "name": "stdout",
     "output_type": "stream",
     "text": [
      "1600.0 0.003125\n",
      "0.0 0.0 0.0\n",
      "0.0 0.7071067811865476 0.7071067811865475\n",
      "-0.0 -0.7071067811865476 -0.7071067811865475\n",
      "0.0 0.0 0.0\n"
     ]
    }
   ],
   "source": [
    "scope = cta.telescope(0)\n",
    "pos = scope.position()\n",
    "ax = scope.opticalAxis()\n",
    "beam_dir = calin.math.vs_physics.Vec3D(ax)\n",
    "beam_dir *= -1.0\n",
    "beam_cen = calin.math.vs_physics.Vec3D(pos)\n",
    "F = scope.focalPlanePosition().y\n",
    "PS = scope.pixelSpacing()/F\n",
    "print(F, PS)\n",
    "print(pos.x, pos.y, pos.z)\n",
    "print(ax.x, ax.y, ax.z)\n",
    "print(beam_dir.x, beam_dir.y, beam_dir.z)\n",
    "print(beam_cen.x, beam_cen.y, beam_cen.z)"
   ]
  },
  {
   "cell_type": "code",
   "execution_count": 29,
   "metadata": {
    "collapsed": false
   },
   "outputs": [
    {
     "name": "stdout",
     "output_type": "stream",
     "text": [
      "0.0 -0.0 -0.7071067811865476 -0.7071067811865475 0.0 0.0 0.0\n",
      "7235\n",
      "0.5 0.0 -0.700909264299851 -0.7132504491541816 0.008726646259971648 0.0 0.0\n",
      "14497\n",
      "1.0 0.0 -0.6946583704589974 -0.7193398003386511 0.017453292519943295 0.0 0.0\n",
      "21754\n",
      "1.5 0.0 -0.688354575693754 -0.7253743710122875 0.02617993877991494 0.0 0.0\n",
      "28943\n",
      "2.0 0.0 -0.6819983600624986 -0.7313537016191705 0.03490658503988659 0.0 0.0\n",
      "36169\n",
      "2.5 0.0 -0.6755902076156602 -0.737277336810124 0.04363323129985824 0.0 0.0\n",
      "43356\n",
      "3.0 0.0 -0.6691306063588582 -0.7431448254773941 0.05235987755982988 0.0 0.0\n",
      "50561\n",
      "3.5 0.0 -0.6626200482157375 -0.7489557207890021 0.061086523819801536 0.0 0.0\n",
      "57825\n",
      "57825\n"
     ]
    }
   ],
   "source": [
    "ph = calin.math.vs_physics.Particle()\n",
    "info = calin.simulation.vs_optics.VSOTraceInfo()\n",
    "x = []\n",
    "y = []\n",
    "for theta in arange(0.0,4.0,0.5):\n",
    "    beam_dir_offset = calin.math.vs_physics.Vec3D(beam_dir)\n",
    "    beam_rot = calin.math.vs_physics.Vec3D(theta/180.0*pi,0,0)\n",
    "    beam_dir_offset.Rotate(beam_rot)\n",
    "    print(theta,beam_dir_offset.x,beam_dir_offset.y,beam_dir_offset.z,beam_rot.x,beam_rot.y,beam_rot.z)\n",
    "    for i in range(0,10000):\n",
    "        raytracer.laserBeam(ph, beam_cen, beam_dir_offset, -1.0*scope.curvatureRadius(), scope.aperture()*0.55, 300)\n",
    "        pixel = raytracer.trace(ph, info, scope)\n",
    "#        info.write()\n",
    "#        print(info.status)\n",
    "        if info.status==15:\n",
    "            x.append(info.fplane_x)\n",
    "            y.append(info.fplane_z)\n",
    "    print(len(y))\n",
    "x = asarray(x)*PS/pi*180\n",
    "y = asarray(y)*PS/pi*180\n",
    "print(len(y))"
   ]
  },
  {
   "cell_type": "code",
   "execution_count": 30,
   "metadata": {
    "collapsed": false
   },
   "outputs": [
    {
     "data": {
      "image/png": "[encoded data removed]",
      "text/plain": [
       "<matplotlib.figure.Figure at 0x10e2f7e10>"
      ]
     },
     "metadata": {},
     "output_type": "display_data"
    }
   ],
   "source": [
    "figure(1, figsize=[ 15, 3 ])\n",
    "plot(-y*cos(rot*pi/180.0)+x*sin(rot*pi/180.0),x*cos(rot*pi/180)+y*sin(rot*pi/180),',')\n",
    "#a=axis()\n",
    "#da=max(a[1]-a[0], a[3]-a[2])/2\n",
    "#axis([(a[1]+a[0])/2-da, (a[1]+a[0])/2+da, (a[3]+a[2])/2-da, (a[3]+a[2])/2+da]);\n",
    "axis([-0.5, 4.5, -0.5, 0.5]);"
   ]
  },
  {
   "cell_type": "code",
   "execution_count": 12,
   "metadata": {
    "collapsed": false
   },
   "outputs": [],
   "source": [
    "#raytracer.calcPSF(psf, array.telescope(0), 0, 0, inf, 1)"
   ]
  },
  {
   "cell_type": "code",
   "execution_count": null,
   "metadata": {
    "collapsed": true
   },
   "outputs": [],
   "source": []
  }
 ],
 "metadata": {
  "kernelspec": {
   "display_name": "Python 3",
   "language": "python",
   "name": "python3"
  },
  "language_info": {
   "codemirror_mode": {
    "name": "ipython",
    "version": 3
   },
   "file_extension": ".py",
   "mimetype": "text/x-python",
   "name": "python",
   "nbconvert_exporter": "python",
   "pygments_lexer": "ipython3",
   "version": "3.4.5"
  }
 },
 "nbformat": 4,
 "nbformat_minor": 0
}
