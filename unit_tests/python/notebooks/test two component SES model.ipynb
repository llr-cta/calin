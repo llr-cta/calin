{
 "cells": [
  {
   "cell_type": "code",
   "execution_count": 1,
   "metadata": {
    "collapsed": false
   },
   "outputs": [
    {
     "name": "stdout",
     "output_type": "stream",
     "text": [
      "Populating the interactive namespace from numpy and matplotlib\n"
     ]
    }
   ],
   "source": [
    "%pylab inline\n",
    "import calin.calib.spe_fit\n",
    "import calin.math.histogram\n",
    "import calin.math.optimizer\n",
    "import calin.math.pdf_1d"
   ]
  },
  {
   "cell_type": "code",
   "execution_count": 2,
   "metadata": {
    "collapsed": false
   },
   "outputs": [],
   "source": [
    "fernandez_data = loadtxt('../../calib/fernandez_dc_1.5kV_6.45V.dat');\n",
    "mes_hist = calin.math.histogram.SimpleHist(1.0)\n",
    "mes_hist.insert_vec(fernandez_data);"
   ]
  },
  {
   "cell_type": "code",
   "execution_count": 3,
   "metadata": {
    "collapsed": false
   },
   "outputs": [
    {
     "name": "stdout",
     "output_type": "stream",
     "text": [
      "[  1.06383228e+00   3.58333554e+02   4.95838946e+01   4.49387984e+02\n",
      "   3.86590583e-01] 72514.7983248876\n",
      "[ 0.01423682  0.97761588  0.87447863  4.32673625  0.01166508]\n"
     ]
    }
   ],
   "source": [
    "mes_model_gauss = calin.calib.spe_fit.PoissonGaussianMES(20)\n",
    "like_gauss = calin.calib.spe_fit.SPELikelihood(mes_model_gauss, mes_hist)\n",
    "opt_gauss = calin.math.optimizer.NLOptOptimizer(calin.math.optimizer.LD_LBFGS, like_gauss)\n",
    "opt_gauss.set_scale([0.1,0.1,1.0,1.0,0.05]);\n",
    "opt_gauss.set_verbosity_level(calin.math.optimizer.OptimizerVerbosityLevel_MAX);\n",
    "opt_gauss.set_abs_tolerance(0.0001);\n",
    "opt_gauss.set_initial_values([1.0, 355.0, 50.0, 500.0, 0.4]);\n",
    "status, xopt_gauss, fval_gauss = opt_gauss.minimize()\n",
    "print(xopt_gauss, fval_gauss)\n",
    "#xopt_gauss = asarray([1.0, 355.0, 50.0, 500.0, 0.4])\n",
    "status, err_mat_gauss = opt_gauss.calc_error_matrix()\n",
    "xerr_gauss = sqrt(err_mat_gauss.diagonal())\n",
    "print(xerr_gauss)"
   ]
  },
  {
   "cell_type": "code",
   "execution_count": 10,
   "metadata": {
    "collapsed": false
   },
   "outputs": [
    {
     "name": "stdout",
     "output_type": "stream",
     "text": [
      "False [  1.29314527e+00   3.49235491e+02   4.57846109e+01   2.75079186e-01\n",
      "   9.76067593e+01   4.84561548e+02   1.31671206e+02] 72470.98135720298\n",
      "[  0.04087411   1.53635734   0.92585793   0.0214064   17.28982614\n",
      "   4.61462549   4.59456954]\n"
     ]
    }
   ],
   "source": [
    "ses_exp_pdf = calin.math.pdf_1d.LimitedExponentialPDF(0,numpy.inf,mes_hist.dxval())\n",
    "ses_exp_pdf.limit_scale(0.1, inf);\n",
    "ses_gauss_pdf = calin.math.pdf_1d.LimitedGaussianPDF(0,numpy.inf)\n",
    "ses_two_cpt = calin.math.pdf_1d.TwoComponentPDF(ses_exp_pdf, \"exp\", ses_gauss_pdf, \"gauss\")\n",
    "ped_gauss_pdf = calin.math.pdf_1d.GaussianPDF()\n",
    "mes_model_two_cpt = calin.calib.spe_fit.GeneralPoissonMES(mes_hist.xval_left(0), mes_hist.dxval(),\\\n",
    "        mes_hist.size(), ses_two_cpt, ped_gauss_pdf)\n",
    "like_two_cpt = calin.calib.spe_fit.SPELikelihood(mes_model_two_cpt, mes_hist)\n",
    "opt_two_cpt = calin.math.optimizer.NLOptOptimizer(calin.math.optimizer.LD_LBFGS, like_two_cpt)\n",
    "#opt_two_cpt.set_scale([0.1,0.1,1.0,0.01,1.0,1.0,0.05]);\n",
    "opt_two_cpt.set_verbosity_level(calin.math.optimizer.OptimizerVerbosityLevel_MAX);\n",
    "opt_two_cpt.set_abs_tolerance(0.001);\n",
    "opt_two_cpt.set_initial_values([1.0, 355.0, 10.0, 0.2, 100.0, 500.0, 200.0]);\n",
    "status, xopt_two_cpt, fval_two_cpt = opt_two_cpt.minimize()\n",
    "print(status, xopt_two_cpt, fval_two_cpt)\n",
    "\n",
    "status, err_mat_two_cpt = opt_two_cpt.calc_error_matrix()\n",
    "xerr_two_cpt = sqrt(err_mat_two_cpt.diagonal())\n",
    "print(xerr_two_cpt)"
   ]
  },
  {
   "cell_type": "code",
   "execution_count": 7,
   "metadata": {
    "collapsed": false
   },
   "outputs": [
    {
     "data": {
      "image/png": "[encoded data removed]",
      "text/plain": [
       "<matplotlib.figure.Figure at 0x106508f60>"
      ]
     },
     "metadata": {},
     "output_type": "display_data"
    }
   ],
   "source": [
    "mes_hist_plot = calin.math.histogram.SimpleHist(20.0)\n",
    "mes_hist_plot.insert_vec(fernandez_data);\n",
    "\n",
    "ihist = range(0,mes_hist_plot.nbin());\n",
    "xhist_plot = list(map(lambda i: mes_hist_plot.xval_center(i),ihist))\n",
    "yhist_plot = list(map(lambda i: mes_hist_plot.weight(i),ihist))\n",
    "step(xhist_plot,yhist_plot,'k')\n",
    "xlabel('Signal [DC]')\n",
    "ylabel('Events')\n",
    "\n",
    "ihist = range(0,mes_hist.nbin());\n",
    "xhist = list(map(lambda i: mes_hist.xval_center(i),ihist))\n",
    "\n",
    "\n",
    "mes_model_gauss.set_parameter_values(xopt_gauss)\n",
    "ymodel_gauss = \\\n",
    "    list(map(lambda x: mes_hist_plot.sum_w()*mes_hist_plot.dxval()*mes_model_gauss.pdf_mes(x),xhist))\n",
    "hold('on')\n",
    "plot(xhist,ymodel_gauss,'r',lw=1.5)\n",
    "\n",
    "mes_model_two_cpt.set_parameter_values(xopt_two_cpt)\n",
    "ymodel_two_cpt = \\\n",
    "    list(map(lambda x: mes_hist_plot.sum_w()*mes_hist_plot.dxval()*mes_model_two_cpt.pdf_mes(x),xhist))\n",
    "hold('on')\n",
    "plot(xhist,ymodel_two_cpt,'g',lw=1.5)\n",
    "\n",
    "axis([0,3000,0,600])\n",
    "gcf().savefig('../../../mybuild/spe_two_cpt.pdf')"
   ]
  },
  {
   "cell_type": "code",
   "execution_count": 8,
   "metadata": {
    "collapsed": false
   },
   "outputs": [
    {
     "data": {
      "text/plain": [
       "[<matplotlib.lines.Line2D at 0x106787eb8>]"
      ]
     },
     "execution_count": 8,
     "metadata": {},
     "output_type": "execute_result"
    },
    {
     "data": {
      "image/png": "[encoded data removed]",
      "text/plain": [
       "<matplotlib.figure.Figure at 0x104b54b38>"
      ]
     },
     "metadata": {},
     "output_type": "display_data"
    }
   ],
   "source": [
    "ses_y = asarray(mes_model_two_cpt.n_electron_spectrum(1));\n",
    "ses_x = ses_y*0;\n",
    "ses_dy = ses_y*0;\n",
    "for i in range(0,len(ses_y)):\n",
    "    ses_x[i] = mes_model_two_cpt.ses_x(i)\n",
    "plot(ses_x, ses_y) "
   ]
  },
  {
   "cell_type": "code",
   "execution_count": null,
   "metadata": {
    "collapsed": true
   },
   "outputs": [],
   "source": []
  }
 ],
 "metadata": {
  "kernelspec": {
   "display_name": "Python 3",
   "language": "python",
   "name": "python3"
  },
  "language_info": {
   "codemirror_mode": {
    "name": "ipython",
    "version": 3
   },
   "file_extension": ".py",
   "mimetype": "text/x-python",
   "name": "python",
   "nbconvert_exporter": "python",
   "pygments_lexer": "ipython3",
   "version": "3.4.3"
  }
 },
 "nbformat": 4,
 "nbformat_minor": 0
}
