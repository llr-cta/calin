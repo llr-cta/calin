{
 "cells": [
  {
   "cell_type": "code",
   "execution_count": 1,
   "metadata": {
    "collapsed": false
   },
   "outputs": [
    {
     "name": "stdout",
     "output_type": "stream",
     "text": [
      "Populating the interactive namespace from numpy and matplotlib\n"
     ]
    }
   ],
   "source": [
    "%pylab inline\n",
    "import calin.calib.spe_fit\n",
    "import calin.math.histogram\n",
    "import calin.math.optimizer\n",
    "import calin.math.pdf_1d"
   ]
  },
  {
   "cell_type": "code",
   "execution_count": 2,
   "metadata": {
    "collapsed": false
   },
   "outputs": [],
   "source": [
    "fernandez_data = loadtxt('../../calib/fernandez_dc_1.5kV_6.45V.dat');\n",
    "mes_hist = calin.math.histogram.SimpleHist(1.0)\n",
    "mes_hist.insert_vec(fernandez_data);"
   ]
  },
  {
   "cell_type": "code",
   "execution_count": 3,
   "metadata": {
    "collapsed": false
   },
   "outputs": [
    {
     "name": "stdout",
     "output_type": "stream",
     "text": [
      "[  1.06383228e+00   3.58333554e+02   4.95838946e+01   4.49387984e+02\n",
      "   3.86590583e-01]\n",
      "[ 0.01423682  0.97761588  0.87447863  4.32673625  0.01166508]\n"
     ]
    }
   ],
   "source": [
    "mes_model_gauss = calin.calib.spe_fit.PoissonGaussianMES(20)\n",
    "like_gauss = calin.calib.spe_fit.SPELikelihood(mes_model_gauss, mes_hist)\n",
    "opt_gauss = calin.math.optimizer.NLOptOptimizer(calin.math.optimizer.LD_LBFGS, like_gauss)\n",
    "opt_gauss.set_scale([0.1,0.1,1.0,1.0,0.05]);\n",
    "opt_gauss.set_verbosity_level(calin.math.optimizer.OptimizerVerbosityLevel_MAX);\n",
    "opt_gauss.set_abs_tolerance(0.0001);\n",
    "opt_gauss.set_initial_values([1.0, 355.0, 50.0, 500.0, 0.4]);\n",
    "status, xopt_gauss, fval_gauss = opt_gauss.minimize()\n",
    "print(xopt_gauss, fval_gauss)\n",
    "#xopt_gauss = asarray([1.0, 355.0, 50.0, 500.0, 0.4])\n",
    "status, err_mat_gauss = opt_gauss.calc_error_matrix()\n",
    "xerr_gauss = sqrt(err_mat_gauss.diagonal())\n",
    "print(xerr_gauss)"
   ]
  },
  {
   "cell_type": "code",
   "execution_count": 4,
   "metadata": {
    "collapsed": false
   },
   "outputs": [],
   "source": [
    "ses_exp_pdf = calin.math.pdf_1d.LimitedExponentialPDF(0,numpy.inf,mes_hist.dxval())\n",
    "ses_exp_pdf.limit_scale(0.1, inf);\n",
    "ses_gauss_pdf = calin.math.pdf_1d.LimitedGaussianPDF(0,numpy.inf)\n",
    "ses_two_cpt = calin.math.pdf_1d.TwoComponentPDF(ses_exp_pdf, \"exp\", ses_gauss_pdf, \"gauss\")\n",
    "ped_gauss_pdf = calin.math.pdf_1d.GaussianPDF()\n",
    "mes_model_two_cpt = calin.calib.spe_fit.GeneralPoissonMES(mes_hist.xval_left(0), mes_hist.dxval(),\\\n",
    "        mes_hist.size(), ses_two_cpt, ped_gauss_pdf)\n",
    "like_two_cpt = calin.calib.spe_fit.SPELikelihood(mes_model_two_cpt, mes_hist)\n",
    "opt_two_cpt = calin.math.optimizer.NLOptOptimizer(calin.math.optimizer.LD_LBFGS, like_two_cpt)\n",
    "#opt_two_cpt.set_scale([0.1,0.1,1.0,0.01,1.0,1.0,0.05]);\n",
    "opt_two_cpt.set_verbosity_level(calin.math.optimizer.OptimizerVerbosityLevel_MAX);\n",
    "opt_two_cpt.set_abs_tolerance(0.001);\n",
    "opt_two_cpt.set_initial_values([1.0, 355.0, 10.0, 0.2, 100.0, 500.0, 200.0]);\n",
    "status, xopt_two_cpt, fval_two_cpt = opt_two_cpt.minimize()"
   ]
  },
  {
   "cell_type": "code",
   "execution_count": 14,
   "metadata": {
    "collapsed": false
   },
   "outputs": [
    {
     "name": "stdout",
     "output_type": "stream",
     "text": [
      "[  1.29314527e+00   3.49235491e+02   4.57846109e+01   2.75079186e-01\n",
      "   9.76067593e+01   4.84561548e+02   1.31671206e+02] 72470.98135720303\n"
     ]
    }
   ],
   "source": [
    "print(xopt_two_cpt, fval_two_cpt)"
   ]
  },
  {
   "cell_type": "code",
   "execution_count": 13,
   "metadata": {
    "collapsed": false
   },
   "outputs": [
    {
     "data": {
      "image/png": "[encoded data removed]",
      "text/plain": [
       "<matplotlib.figure.Figure at 0x10ac8c2e8>"
      ]
     },
     "metadata": {},
     "output_type": "display_data"
    }
   ],
   "source": [
    "mes_hist_plot = calin.math.histogram.SimpleHist(5.0)\n",
    "mes_hist_plot.insert_vec(fernandez_data);\n",
    "\n",
    "ihist = range(1,mes_hist_plot.nbin()-2);\n",
    "xhist = list(map(lambda i: mes_hist_plot.xval_center(i),ihist))\n",
    "yhist = list(map(lambda i: mes_hist_plot.weight(i),ihist))\n",
    "step(xhist,yhist,'k')\n",
    "xlabel('Signal [DC]')\n",
    "ylabel('Events')\n",
    "mes_model_gauss.set_parameter_values(xopt_gauss)\n",
    "ymodel_gauss = \\\n",
    "    list(map(lambda x: mes_hist_plot.sum_w()*mes_hist_plot.dxval()*mes_model_gauss.pdf_mes(x),xhist))\n",
    "hold('on')\n",
    "plot(xhist,ymodel_gauss,'r')\n",
    "\n",
    "mes_model_two_cpt.set_parameter_values(xopt_two_cpt)\n",
    "ymodel_two_cpt = \\\n",
    "    list(map(lambda x: mes_hist_plot.sum_w()*mes_hist_plot.dxval()*mes_model_two_cpt.pdf_mes(x),xhist))\n",
    "hold('on')\n",
    "plot(xhist,ymodel_two_cpt,'g')\n",
    "\n",
    "gcf().savefig('spe_two_cpt.pdf')"
   ]
  },
  {
   "cell_type": "code",
   "execution_count": null,
   "metadata": {
    "collapsed": true
   },
   "outputs": [],
   "source": []
  }
 ],
 "metadata": {
  "kernelspec": {
   "display_name": "Python 3",
   "language": "python",
   "name": "python3"
  },
  "language_info": {
   "codemirror_mode": {
    "name": "ipython",
    "version": 3
   },
   "file_extension": ".py",
   "mimetype": "text/x-python",
   "name": "python",
   "nbconvert_exporter": "python",
   "pygments_lexer": "ipython3",
   "version": "3.4.3"
  }
 },
 "nbformat": 4,
 "nbformat_minor": 0
}
